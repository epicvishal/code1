{
 "cells": [
  {
   "cell_type": "markdown",
   "metadata": {},
   "source": [
    "Question 1. What is an API? Give an example, where an API is used in real life."
   ]
  },
  {
   "cell_type": "code",
   "execution_count": 1,
   "metadata": {},
   "outputs": [],
   "source": [
    "# API stands for Application Programming Interface. It is a set of protocols, tools,and definitions for buliding software\n",
    "# application. It allow different software system to communicate with each other and shares data and fuctionalites.\n",
    "\n",
    "# An example of an API being used in real life is when you see a social media platform like facebook or twitter.\n",
    "# These platfoms have APIs that allow third party developers to access certain data and fuctionalities,\n",
    "# such as retriving user infromation or posting on users's behalf.\n",
    "# This allow for the integration of these platforms with other apps or website,\n",
    "# making it easier for users to share content across diffrent platforms"
   ]
  },
  {
   "cell_type": "markdown",
   "metadata": {},
   "source": [
    "Question 2. Give advantage and disadvantages of using API."
   ]
  },
  {
   "cell_type": "code",
   "execution_count": null,
   "metadata": {},
   "outputs": [],
   "source": [
    "#Advantages:\n",
    "#1. Streamlined communication: APIs provide a standard way for different software systems to communicate with each other, making it easier for developers to integrate different applications.\n",
    "#2. Increased efficiency: By using APIs, developers can save time and resources by not having to build certain functionalities from scratch. This allows them to focus on other aspects of their application.\n",
    "#3. Scalability: APIs are designed to handle large amounts of data and traffic, making them ideal for applications that require high scalability.\n",
    "#4. Improved user experience: By integrating with APIs, developers can enhance the user experience by providing access to more features and functionalities.\n",
    "#5. Encourages innovation: APIs allow developers to build on top of existing platforms and create new products and services, promoting innovation and competition in the market.\n",
    "\n",
    "#Disadvantages:\n",
    "#1. Reliance on third-party systems: When using APIs, developers are dependent on the reliability and availability of the third-party systems. If the API goes down or experiences issues, it can affect the functionality of their application.\n",
    "#2. Security concerns: APIs can be vulnerable to security breaches if not properly secured, which can compromise user data and privacy.\n",
    "#3. Lack of control: When using APIs, developers have limited control over the functionality and updates of the API. This can cause issues if the API changes or is discontinued.\n",
    "#4. Compatibility issues: Different APIs may use different protocols and versions, making it challenging to integrate them into an application. This can lead to compatibility issues and additional development time.\n",
    "#5. Cost: Some APIs require payment for access, which can be a barrier for smaller companies or developers with limited budgets.\n"
   ]
  },
  {
   "cell_type": "markdown",
   "metadata": {},
   "source": [
    "Question 3. What is a Web API? Differentiate between API and Web API.\n"
   ]
  },
  {
   "cell_type": "code",
   "execution_count": null,
   "metadata": {},
   "outputs": [],
   "source": [
    "# A Web API (Application Programming Interface) is a type of API that allows communication between different web applications.\n",
    "# It uses HTTP protocols to send and receive data, making it accessible over the internet.\n",
    "\n",
    "#The main difference between API and Web API is their purpose and communication protocol.\n",
    "# APIs can be used for various types of software systems, including desktop and mobile applications,\n",
    "# while Web APIs are specifically designed for web-based applications.\n",
    "\n",
    "#Another difference is the communication protocol used. \n",
    "#APIs can use different protocols such as SOAP or REST, while Web APIs primarily use HTTP protocols.\n",
    "\n",
    "# Web APIs are typically more lightweight and simpler to use compared to traditional APIs. \n",
    "#They are also more user-friendly as they can be accessed through a web browser, making them more accessible to non-technical users.\n"
   ]
  },
  {
   "cell_type": "markdown",
   "metadata": {},
   "source": [
    "Question 4. Explain REST and SOAP Architecture. Mention shortcomings of SOAP.\n"
   ]
  },
  {
   "cell_type": "code",
   "execution_count": null,
   "metadata": {},
   "outputs": [],
   "source": [
    "#REST (Representational State Transfer) and SOAP (Simple Object Access Protocol) are two architectural styles used for web services.\n",
    "\n",
    "#REST is an architectural style that uses a client-server model for communication between systems. \n",
    "#It is based on the principles of using HTTP methods (GET, POST, PUT, DELETE) to retrieve and manipulate data.\n",
    "# REST also uses a stateless approach, meaning each request is independent and does not require the server to store any session information.\n",
    "\n",
    "# On the other hand, SOAP is a messaging protocol that uses XML for data exchange. \n",
    "#It follows a more complex architecture, with a client-server model and an intermediary layer (SOAP server) that handles the communication between the client and server.\n",
    "# SOAP also supports more advanced features such as security and transaction management.\n",
    "\n",
    "#Some of the shortcomings of SOAP include its complexity and steep learning curve, \n",
    "#as it requires a deeper understanding of XML and web services. \n",
    "#It also has a larger overhead due to the use of XML, making it less efficient compared to REST.\n",
    "# Additionally, SOAP is not as widely supported as REST, making it less flexible for integration with different systems.\n"
   ]
  },
  {
   "cell_type": "markdown",
   "metadata": {},
   "source": [
    "Question 5. Differentiate between REST and SOAP.\n"
   ]
  },
  {
   "cell_type": "code",
   "execution_count": 2,
   "metadata": {},
   "outputs": [],
   "source": [
    "#REST:\n",
    "#1. REST stands for Representational State Transfer.\n",
    "#2. It is an architectural style for web services.\n",
    "#3. Uses a client-server model for communication.\n",
    "#4. Uses HTTP methods (GET, POST, PUT, DELETE) to retrieve and manipulate data.\n",
    "#5. Follows a stateless approach, meaning each request is independent.\n",
    "#6. Supports data formats such as JSON, XML, and HTML.\n",
    "#7. Has a simpler and more lightweight architecture compared to SOAP.\n",
    "\n",
    "#SOAP:\n",
    "#1. SOAP stands for Simple Object Access Protocol.\n",
    "#2. It is a messaging protocol for web services.\n",
    "#3. Uses a client-server model with an intermediary layer (SOAP server).\n",
    "#4. Uses XML for data exchange.\n",
    "#5. Supports advanced features such as security and transaction management.\n",
    "#6. Has a more complex architecture compared to REST.\n",
    "#7. Has a larger overhead due to the use of XML.\n",
    "#8. Not as widely supported as REST.\n",
    "#9. Requires a deeper understanding of XML and web services.\n"
   ]
  },
  {
   "cell_type": "code",
   "execution_count": null,
   "metadata": {},
   "outputs": [],
   "source": []
  }
 ],
 "metadata": {
  "kernelspec": {
   "display_name": "Python 3",
   "language": "python",
   "name": "python3"
  },
  "language_info": {
   "codemirror_mode": {
    "name": "ipython",
    "version": 3
   },
   "file_extension": ".py",
   "mimetype": "text/x-python",
   "name": "python",
   "nbconvert_exporter": "python",
   "pygments_lexer": "ipython3",
   "version": "3.11.5"
  }
 },
 "nbformat": 4,
 "nbformat_minor": 2
}
