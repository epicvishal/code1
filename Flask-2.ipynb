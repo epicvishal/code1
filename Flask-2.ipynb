{
 "cells": [
  {
   "cell_type": "markdown",
   "id": "c838cb0f-0051-4b4d-935f-85adbcc38922",
   "metadata": {},
   "source": [
    "Q1.Explain GET and POST methods."
   ]
  },
  {
   "cell_type": "code",
   "execution_count": 1,
   "id": "3e81fd2e-7704-4668-ac5a-1f3226cd8884",
   "metadata": {},
   "outputs": [],
   "source": [
    "#GET and POST are two of the most commonly used HHTP methods.They are used to send data between a client \n",
    "#(such as a web browser) and a server.\n",
    "\n",
    "#GET is used to request data from a sepecified resource. It is the default method used by browsers when we click on link\n",
    "#or enter a URL into the address bar. GET request can be cached and bookmarked, and they can be easily shared with others.\n",
    "\n",
    "#POST is used to submit data to be processed by a specified resource.It is commonly used for froms and for sending data\n",
    "#to a server to be saved or processed in some way. unlike GET request, POST request are not cached or bookmarked, and they\n",
    "#cannot be easily shared with others."
   ]
  },
  {
   "cell_type": "markdown",
   "id": "46b1e59a-bf4e-4ac6-846b-41d0c9b57eee",
   "metadata": {},
   "source": [
    "Q2.Why is request used in flask?"
   ]
  },
  {
   "cell_type": "code",
   "execution_count": 2,
   "id": "cb86ace8-a85b-4114-ad65-2beb422828e2",
   "metadata": {},
   "outputs": [],
   "source": [
    "#Request is used in Flask to handle incoming HTTP requests from clients.\n",
    "#It provides a way for the Flask application to access the data sent in the request,\n",
    "#such as form data, URL parameters, and headers. \n",
    "#this allows the application to process and respond to the request accordingly. \n",
    "#Additionally, request also provides methods for accessing cookies and files that may be included in the request. \n",
    "#Overall, request plays a crucial role in allowing Flask applications to interact with clients and handle their requests.\n"
   ]
  },
  {
   "cell_type": "markdown",
   "id": "a81f8a71-cdd1-475a-ba81-08d27c9501a7",
   "metadata": {},
   "source": [
    "Q3.Why is redirect() used in flask?"
   ]
  },
  {
   "cell_type": "code",
   "execution_count": 6,
   "id": "a97f9cbd-b85a-417d-b030-a60ac93c8b98",
   "metadata": {},
   "outputs": [],
   "source": [
    "#Redirect() is used in Flask to redirect the user to a different route or URL. \n",
    "#This is useful for handling certain situations, \n",
    "#such as when a user needs to be redirected to a different page after completing an action \n",
    "#or when a requested resource is no longer available and the user needs to be redirected to an error page. \n",
    "#It also helps to keep the URL clean and user-friendly by avoiding long and complex URLs. \n",
    "#Additionally, redirect() can be used for security purposes, \n",
    "#such as redirecting users to a login page if they try to access a restricted page without proper authentication.\n"
   ]
  },
  {
   "cell_type": "markdown",
   "id": "fe6a343f-81bc-4ac6-9922-d546e1a54b36",
   "metadata": {},
   "source": [
    "Q4.What are template in flask? why is the render_templates() function used?"
   ]
  },
  {
   "cell_type": "code",
   "execution_count": 7,
   "id": "ff661430-b408-4fc8-9217-25a9ad6f5688",
   "metadata": {},
   "outputs": [],
   "source": [
    "#Templates in Flask are HTML files that contain dynamic content and can be rendered by the server \n",
    "#to create a final HTML page that is sent to the user's browser. \n",
    "#They allow for the separation of code and presentation, making it easier to maintain and update the website.\n",
    "\n",
    "#The render_template() function is used to render a specific template file and pass any necessary data to it. \n",
    "#It takes in the name of the template file as an argument and can also accept additional keyword arguments for passing data. \n",
    "#This function is essential because it allows us to dynamically generate HTML pages based on user input or other data, \n",
    "#making our website more interactive and personalized.\n"
   ]
  },
  {
   "cell_type": "markdown",
   "id": "79bdaab8-1fd5-496d-b9af-4353bc3c2cf3",
   "metadata": {},
   "source": [
    "Q5.Create a simple API.Use postman to test it. Attach the screenshot of the output in the jupyter Notebook."
   ]
  },
  {
   "cell_type": "code",
   "execution_count": null,
   "id": "8ea2a8e4-8fc1-4b5f-93e5-fd50a15eb1ad",
   "metadata": {},
   "outputs": [],
   "source": []
  }
 ],
 "metadata": {
  "kernelspec": {
   "display_name": "Python 3 (ipykernel)",
   "language": "python",
   "name": "python3"
  },
  "language_info": {
   "codemirror_mode": {
    "name": "ipython",
    "version": 3
   },
   "file_extension": ".py",
   "mimetype": "text/x-python",
   "name": "python",
   "nbconvert_exporter": "python",
   "pygments_lexer": "ipython3",
   "version": "3.10.8"
  }
 },
 "nbformat": 4,
 "nbformat_minor": 5
}
