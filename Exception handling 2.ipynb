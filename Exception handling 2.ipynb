{
 "cells": [
  {
   "cell_type": "markdown",
   "id": "6ea65ee7-2435-4408-bce9-61ae661e1559",
   "metadata": {},
   "source": [
    "Question 1. Explain why we have to use the exception class while creating a custom exception."
   ]
  },
  {
   "cell_type": "code",
   "execution_count": 38,
   "id": "df6710a9-0e2e-45c8-9382-8ef485b41511",
   "metadata": {},
   "outputs": [],
   "source": [
    "# By creating the exception class we can handel the error in a specific way \n",
    "# and this give us more meaningful way to handel the error in the custom exception \n",
    "# Example\n",
    "import logging\n",
    "\n",
    "logging.basicConfig(filename=\"error1.log\",level=logging.NOTSET)\n",
    "\n",
    "class auto(Exception):\n",
    "    def __init__(self,msg):\n",
    "        self.msg=msg\n",
    "        \n",
    "        \n",
    "        \n",
    "# as you can see above here we create the exception class in which we can put our custom message to the user"
   ]
  },
  {
   "cell_type": "code",
   "execution_count": 39,
   "id": "6276fd3e-5d73-4ed2-92d8-a3d1905dbe5d",
   "metadata": {},
   "outputs": [],
   "source": [
    "def area(length,width):\n",
    "    if length <=0 or width <=0:\n",
    "        raise auto(\"length and width should be greater than zero\")\n",
    "    else: \n",
    "        logging.info(\"value is right\")\n",
    "        print(\"value is right\")"
   ]
  },
  {
   "cell_type": "code",
   "execution_count": 41,
   "id": "eed99e58-da7c-49ee-857d-4b1837b515b9",
   "metadata": {},
   "outputs": [
    {
     "name": "stdin",
     "output_type": "stream",
     "text": [
      "enter the length 55\n",
      "enter the width 55\n"
     ]
    },
    {
     "name": "stdout",
     "output_type": "stream",
     "text": [
      "value is right\n",
      "area of rectangle: 3025.0\n"
     ]
    }
   ],
   "source": [
    "try:\n",
    "    length= float(input(\"enter the length\"))\n",
    "    width= float(input(\"enter the width\"))\n",
    "    area(length,width)\n",
    "    area_of_rectangle=length*width\n",
    "    logging.info(\"area of reactangle {}\".format(area_of_rectangle))\n",
    "    print(\"area of rectangle:\",area_of_rectangle)\n",
    "except auto as e:\n",
    "    logging.info(\"{}\".format(e))\n",
    "    print(e)"
   ]
  },
  {
   "cell_type": "markdown",
   "id": "ff2b55ba-b3a0-4335-a657-9f4aa1faaf46",
   "metadata": {},
   "source": [
    "Question 2. Write a python program to print python Exception Hierarchy."
   ]
  },
  {
   "cell_type": "code",
   "execution_count": 42,
   "id": "f776eee5-0cda-452e-8cfa-f5c3edfe1526",
   "metadata": {},
   "outputs": [
    {
     "data": {
      "text/plain": [
       "['__cause__',\n",
       " '__class__',\n",
       " '__context__',\n",
       " '__delattr__',\n",
       " '__dict__',\n",
       " '__dir__',\n",
       " '__doc__',\n",
       " '__eq__',\n",
       " '__format__',\n",
       " '__ge__',\n",
       " '__getattribute__',\n",
       " '__gt__',\n",
       " '__hash__',\n",
       " '__init__',\n",
       " '__init_subclass__',\n",
       " '__le__',\n",
       " '__lt__',\n",
       " '__ne__',\n",
       " '__new__',\n",
       " '__reduce__',\n",
       " '__reduce_ex__',\n",
       " '__repr__',\n",
       " '__setattr__',\n",
       " '__setstate__',\n",
       " '__sizeof__',\n",
       " '__str__',\n",
       " '__subclasshook__',\n",
       " '__suppress_context__',\n",
       " '__traceback__',\n",
       " 'args',\n",
       " 'with_traceback']"
      ]
     },
     "execution_count": 42,
     "metadata": {},
     "output_type": "execute_result"
    }
   ],
   "source": [
    "dir(Exception)"
   ]
  },
  {
   "cell_type": "markdown",
   "id": "e5a89154-7b6d-4c84-8a58-05e41de368a2",
   "metadata": {},
   "source": [
    "Question 3. What errors are defined in the ArithmeticError class? Explain any two with an example."
   ]
  },
  {
   "cell_type": "code",
   "execution_count": 43,
   "id": "4428dcbb-3eca-49e9-8087-768c530a33ee",
   "metadata": {},
   "outputs": [
    {
     "name": "stdout",
     "output_type": "stream",
     "text": [
      "division by zero\n"
     ]
    }
   ],
   "source": [
    "# arithmetic error class are for the exception that occur during the arithmatic operations.\n",
    "# 1. ZeroDivisionError\n",
    "# example\n",
    "\n",
    "try:\n",
    "    10/0\n",
    "except ZeroDivisionError as e:\n",
    "    logging.info(\"error {}\".format(e))\n",
    "    print(e)"
   ]
  },
  {
   "cell_type": "code",
   "execution_count": 44,
   "id": "8df9e7c0-de1d-4f15-8451-1b22f14af921",
   "metadata": {},
   "outputs": [],
   "source": [
    "# 2. OverflowError \n",
    "# example\n",
    "\n",
    "try:\n",
    "    import sys\n",
    "    result=sys.maxsize**2\n",
    "except OverflowError as e:\n",
    "    logging.info(\"error {}\".format(e))"
   ]
  },
  {
   "cell_type": "markdown",
   "id": "224fb429-8059-4889-b6e6-98f6830cf3fe",
   "metadata": {},
   "source": [
    "Question 4. Why LookupError class is used? Expalin with an example KeyError and IndexError."
   ]
  },
  {
   "cell_type": "code",
   "execution_count": 68,
   "id": "67415993-3d12-4f43-b1fb-13abeaf18daf",
   "metadata": {},
   "outputs": [],
   "source": [
    "# LookupError class is used as a base class for exception that are realted to lookup operation\n",
    "\n",
    "    "
   ]
  },
  {
   "cell_type": "code",
   "execution_count": 64,
   "id": "50a8e689-1641-452e-8830-7138a15230d2",
   "metadata": {},
   "outputs": [
    {
     "name": "stdout",
     "output_type": "stream",
     "text": [
      "'data_science'\n"
     ]
    }
   ],
   "source": [
    "\n",
    "#KeyError example\n",
    "try:\n",
    "    dict={\"vishal\":123,\"kumar\":2323,\"pwskills\":4444}\n",
    "    value=dict[\"data_science\"]\n",
    "except KeyError as e:\n",
    "    logging.error(\"error {}\".format(e))\n",
    "    print(e)"
   ]
  },
  {
   "cell_type": "code",
   "execution_count": 65,
   "id": "d2815dac-0d5f-43ec-a299-098b494aca72",
   "metadata": {},
   "outputs": [
    {
     "name": "stdout",
     "output_type": "stream",
     "text": [
      "list index out of range\n"
     ]
    }
   ],
   "source": [
    "#IndexError Example\n",
    "\n",
    "try:\n",
    "    list=[1,2,3,4,5,6]\n",
    "    list[7]\n",
    "except IndexError as e:\n",
    "    logging.error(\"error{}\".format(e))\n",
    "    print(e)"
   ]
  },
  {
   "cell_type": "markdown",
   "id": "2042ea99-e371-455a-8d42-ed76ee39f6ad",
   "metadata": {},
   "source": [
    "Question 5. explain ImportError. What is ModuleNotFoundError?"
   ]
  },
  {
   "cell_type": "code",
   "execution_count": 72,
   "id": "83ad973d-e2e5-4246-a36c-aba51857d083",
   "metadata": {},
   "outputs": [
    {
     "name": "stdout",
     "output_type": "stream",
     "text": [
      "No module named 'vishal'\n"
     ]
    }
   ],
   "source": [
    "# import error is an error that occurs when a moudule is not found\n",
    "# for example\n",
    "\n",
    "try:\n",
    "    import vishal\n",
    "except ImportError as e:\n",
    "    logging.error(\"error:{}\".format(e))\n",
    "    print(e)"
   ]
  },
  {
   "cell_type": "code",
   "execution_count": 71,
   "id": "f0263f36-c321-4d75-94ab-db39a1a09345",
   "metadata": {},
   "outputs": [
    {
     "name": "stdout",
     "output_type": "stream",
     "text": [
      "No module named 'fake_module'\n"
     ]
    }
   ],
   "source": [
    "# ModuleNotFoundError is a subclass of ImportError that occurs when a module is not found.\n",
    "#for example\n",
    "\n",
    "try:\n",
    "    import fake_module\n",
    "except ModuleNotFoundError as e:\n",
    "    logging.error(\"error: {}\".format(e))\n",
    "    print(e)"
   ]
  },
  {
   "cell_type": "markdown",
   "id": "6d3827a7-acb6-41c9-8faf-3c1233106860",
   "metadata": {},
   "source": [
    "Question 6. List down some best practices for exception handling in python."
   ]
  },
  {
   "cell_type": "code",
   "execution_count": 74,
   "id": "b32c6864-4957-4c8f-a19e-a601da1d87b1",
   "metadata": {},
   "outputs": [
    {
     "name": "stdout",
     "output_type": "stream",
     "text": [
      "division by zero\n"
     ]
    }
   ],
   "source": [
    "# as we study in class that always use specific exception\n",
    "# mean we can use Exception in the name of error but we should define the error \n",
    "#example\n",
    "\n",
    "try:\n",
    "    10/0\n",
    "except Exception as e:\n",
    "    logging.error(\"error{}\".format(e))\n",
    "    print(e)\n",
    "    \n",
    "    \n",
    "# even though it is right way but we should not do like this because codder can understand this but other codder cannot"
   ]
  },
  {
   "cell_type": "code",
   "execution_count": 76,
   "id": "c29969b7-ea51-4855-9a61-0f93a1743779",
   "metadata": {},
   "outputs": [
    {
     "name": "stdout",
     "output_type": "stream",
     "text": [
      "division by zero\n"
     ]
    }
   ],
   "source": [
    "try:\n",
    "    10/0\n",
    "except ZeroDivisionError as e:\n",
    "    logging.error(\"error{}\".format(e))\n",
    "    print(e)\n",
    "    \n",
    "    \n",
    "# this is right way to use exception handeling in the python"
   ]
  },
  {
   "cell_type": "code",
   "execution_count": 77,
   "id": "d3293292-911e-4fba-932d-30a8783a478e",
   "metadata": {},
   "outputs": [
    {
     "name": "stdout",
     "output_type": "stream",
     "text": [
      "I am trying to hadel with indexerror list index out of range\n"
     ]
    }
   ],
   "source": [
    " #print always  a proper message\n",
    "    \n",
    "try:\n",
    "    l2=[1,2,3,4]\n",
    "    l2[7]\n",
    "except IndexError as e:\n",
    "    logging.error(\"I am trying to hadl with indexerror {}\".format(e))\n",
    "    print(\"I am trying to hadel with indexerror\",e)\n",
    "    \n"
   ]
  },
  {
   "cell_type": "code",
   "execution_count": 80,
   "id": "ceebde21-d602-4c6f-aa76-7f2ef13d030d",
   "metadata": {},
   "outputs": [
    {
     "name": "stdout",
     "output_type": "stream",
     "text": [
      "'pwskills'\n"
     ]
    }
   ],
   "source": [
    "# always try to log error\n",
    "\n",
    "try:\n",
    "    d={\"vishal\":11,\"kumar\":22}\n",
    "    d[\"pwskills\"]\n",
    "except KeyError as e:\n",
    "    logging.error(\"I am trying to log my error {}\".format(e))\n",
    "    print(e)"
   ]
  },
  {
   "cell_type": "code",
   "execution_count": 83,
   "id": "b46f13ea-3e0c-427d-9bca-c19576690cd2",
   "metadata": {},
   "outputs": [],
   "source": [
    "#always avoid to write a multiple exception handeling\n",
    "\n",
    "try:\n",
    "    10/0\n",
    "except KeyError as e:\n",
    "    logging.error(\"this is a key error {}\".format(e))\n",
    "except IndexError as e:\n",
    "    logging.error(\"this is a index error {}\".format(e))\n",
    "except ImportError as e:\n",
    "    logging.error(\"this is a import error {}\".format(e))\n",
    "except ZeroDivisionError as e:\n",
    "    logging.error(\"this is a ZeroDivisionError {}\".format(e))\n",
    "    \n",
    "    \n",
    "# This is not a right method their is only one error but we add many error here"
   ]
  },
  {
   "cell_type": "code",
   "execution_count": 88,
   "id": "ed40b98c-97ef-40ac-948f-97e563a884cc",
   "metadata": {},
   "outputs": [
    {
     "name": "stdout",
     "output_type": "stream",
     "text": [
      "division by zero\n"
     ]
    }
   ],
   "source": [
    "# so right method is this\n",
    "\n",
    "# example\n",
    "\n",
    "try:\n",
    "    10/0\n",
    "except ZeroDivisionError as e:\n",
    "    logging.error(\"i am handling with {}\".format(e))\n",
    "    print(e)"
   ]
  },
  {
   "cell_type": "code",
   "execution_count": 87,
   "id": "7b3eb1ae-1973-4979-b737-2e13a764e0c2",
   "metadata": {},
   "outputs": [],
   "source": [
    "#Document all the error\n",
    "#cleanup all the resources\n",
    "try:\n",
    "    with open(\"test.txt\",'w')as f:\n",
    "        f.write(\"this is my data to file\")\n",
    "except FileNotFoundError as e:\n",
    "    logging.error(\"i am handling file not found {}\".format(e))\n",
    "finally :\n",
    "    f.close()"
   ]
  },
  {
   "cell_type": "code",
   "execution_count": null,
   "id": "c8e78adc-bde2-4a38-a743-cfe47f97f9fd",
   "metadata": {},
   "outputs": [],
   "source": []
  }
 ],
 "metadata": {
  "kernelspec": {
   "display_name": "Python 3 (ipykernel)",
   "language": "python",
   "name": "python3"
  },
  "language_info": {
   "codemirror_mode": {
    "name": "ipython",
    "version": 3
   },
   "file_extension": ".py",
   "mimetype": "text/x-python",
   "name": "python",
   "nbconvert_exporter": "python",
   "pygments_lexer": "ipython3",
   "version": "3.10.8"
  }
 },
 "nbformat": 4,
 "nbformat_minor": 5
}
