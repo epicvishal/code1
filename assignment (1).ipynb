{
 "cells": [
  {
   "cell_type": "code",
   "execution_count": 7,
   "id": "9d4e68b3-3abf-49a9-8b79-e2319d9fe2da",
   "metadata": {},
   "outputs": [],
   "source": [
    "#question 1\n",
    "a = \"vishal kumar\" #string"
   ]
  },
  {
   "cell_type": "code",
   "execution_count": 8,
   "id": "cfef4d4f-8df9-4c87-81c7-50fab80caece",
   "metadata": {},
   "outputs": [
    {
     "data": {
      "text/plain": [
       "str"
      ]
     },
     "execution_count": 8,
     "metadata": {},
     "output_type": "execute_result"
    }
   ],
   "source": [
    "type(a)"
   ]
  },
  {
   "cell_type": "code",
   "execution_count": 12,
   "id": "968fcea7-490f-4c8b-b1b7-7bcc0a27476e",
   "metadata": {},
   "outputs": [],
   "source": [
    "l =[11,22,33,\"pwskill\",\"hero\"] #list"
   ]
  },
  {
   "cell_type": "code",
   "execution_count": 13,
   "id": "e42375e1-5134-440d-a7cd-63b9376c5d29",
   "metadata": {},
   "outputs": [
    {
     "data": {
      "text/plain": [
       "list"
      ]
     },
     "execution_count": 13,
     "metadata": {},
     "output_type": "execute_result"
    }
   ],
   "source": [
    "type(l)"
   ]
  },
  {
   "cell_type": "code",
   "execution_count": 14,
   "id": "611b79d3-85fe-4ee4-8556-24c37ca46601",
   "metadata": {},
   "outputs": [],
   "source": [
    "b= 12.22 #float"
   ]
  },
  {
   "cell_type": "code",
   "execution_count": 15,
   "id": "7b8b9e1e-d49d-4c52-bb6f-140d5f3587a9",
   "metadata": {},
   "outputs": [
    {
     "data": {
      "text/plain": [
       "float"
      ]
     },
     "execution_count": 15,
     "metadata": {},
     "output_type": "execute_result"
    }
   ],
   "source": [
    "type(b)"
   ]
  },
  {
   "cell_type": "code",
   "execution_count": 16,
   "id": "519ff3c3-ffc1-4a2f-9b2e-47d63d7bbb4e",
   "metadata": {},
   "outputs": [],
   "source": [
    "mytuple=(\"hero\",\"villan\")  #tuple"
   ]
  },
  {
   "cell_type": "code",
   "execution_count": 17,
   "id": "7f564fd5-5d0b-4eca-a123-30fc9b30313c",
   "metadata": {},
   "outputs": [
    {
     "data": {
      "text/plain": [
       "tuple"
      ]
     },
     "execution_count": 17,
     "metadata": {},
     "output_type": "execute_result"
    }
   ],
   "source": [
    "type(mytuple)"
   ]
  },
  {
   "cell_type": "code",
   "execution_count": 19,
   "id": "87e7967c-67a2-4631-a80e-684793dbe8ae",
   "metadata": {},
   "outputs": [],
   "source": [
    "# questions 2\n",
    "\n",
    "var1=\"\"\n",
    "var2='[DS , ML , PYTHON]'\n",
    "var3=[\"DS\",\"ML\",\"PYTHON\"]\n",
    "var4=1.\n",
    "\n"
   ]
  },
  {
   "cell_type": "code",
   "execution_count": 20,
   "id": "0d3d2f5c-abb8-4078-bb9d-670f630f0c26",
   "metadata": {},
   "outputs": [
    {
     "data": {
      "text/plain": [
       "str"
      ]
     },
     "execution_count": 20,
     "metadata": {},
     "output_type": "execute_result"
    }
   ],
   "source": [
    "type(var1)"
   ]
  },
  {
   "cell_type": "code",
   "execution_count": 21,
   "id": "93eb4fa7-c1aa-466f-bfc9-d6f37f94c7c5",
   "metadata": {},
   "outputs": [
    {
     "data": {
      "text/plain": [
       "str"
      ]
     },
     "execution_count": 21,
     "metadata": {},
     "output_type": "execute_result"
    }
   ],
   "source": [
    "type(var2)"
   ]
  },
  {
   "cell_type": "code",
   "execution_count": 22,
   "id": "ba1bff7f-5f57-4c71-ab3d-d21256634a2b",
   "metadata": {},
   "outputs": [
    {
     "data": {
      "text/plain": [
       "list"
      ]
     },
     "execution_count": 22,
     "metadata": {},
     "output_type": "execute_result"
    }
   ],
   "source": [
    "type(var3)"
   ]
  },
  {
   "cell_type": "code",
   "execution_count": 23,
   "id": "28b585b5-46ed-4119-9a68-4e44b373745d",
   "metadata": {},
   "outputs": [
    {
     "data": {
      "text/plain": [
       "float"
      ]
     },
     "execution_count": 23,
     "metadata": {},
     "output_type": "execute_result"
    }
   ],
   "source": [
    "type(var4)"
   ]
  },
  {
   "cell_type": "code",
   "execution_count": 24,
   "id": "c6a72821-91d3-48eb-b865-8125ba85648d",
   "metadata": {},
   "outputs": [
    {
     "data": {
      "text/plain": [
       "1.25"
      ]
     },
     "execution_count": 24,
     "metadata": {},
     "output_type": "execute_result"
    }
   ],
   "source": [
    "# qestion 3\n",
    "# (1) / (it is used for divison )\n",
    "5/4\n"
   ]
  },
  {
   "cell_type": "code",
   "execution_count": 25,
   "id": "ba87f2e6-3c42-450a-809b-451c926accad",
   "metadata": {},
   "outputs": [
    {
     "data": {
      "text/plain": [
       "1"
      ]
     },
     "execution_count": 25,
     "metadata": {},
     "output_type": "execute_result"
    }
   ],
   "source": [
    "# (2) % (it is used for modulas)\n",
    "5%2"
   ]
  },
  {
   "cell_type": "code",
   "execution_count": 26,
   "id": "4131767f-5ba2-4910-a577-01c521b4a870",
   "metadata": {},
   "outputs": [
    {
     "data": {
      "text/plain": [
       "0"
      ]
     },
     "execution_count": 26,
     "metadata": {},
     "output_type": "execute_result"
    }
   ],
   "source": [
    "# (3) // (it is used for floor division )\n",
    "\n",
    "77//88"
   ]
  },
  {
   "cell_type": "code",
   "execution_count": 27,
   "id": "29df3bf6-86f3-48c3-b3c3-482c07ea6f4a",
   "metadata": {},
   "outputs": [
    {
     "data": {
      "text/plain": [
       "1"
      ]
     },
     "execution_count": 27,
     "metadata": {},
     "output_type": "execute_result"
    }
   ],
   "source": [
    "77//69"
   ]
  },
  {
   "cell_type": "code",
   "execution_count": 28,
   "id": "c145fdad-64ab-48b0-a16f-e04bf60362ff",
   "metadata": {},
   "outputs": [],
   "source": [
    "#it tells nearest whole number"
   ]
  },
  {
   "cell_type": "code",
   "execution_count": 29,
   "id": "785655ac-f121-4bc4-9edb-fa5ab40a8bde",
   "metadata": {},
   "outputs": [
    {
     "data": {
      "text/plain": [
       "8"
      ]
     },
     "execution_count": 29,
     "metadata": {},
     "output_type": "execute_result"
    }
   ],
   "source": [
    "# (4) **( it is used for exponentiation )\n",
    " \n",
    "2**3"
   ]
  },
  {
   "cell_type": "code",
   "execution_count": 30,
   "id": "01b114b8-3089-409d-b547-53974b52cbe7",
   "metadata": {},
   "outputs": [
    {
     "data": {
      "text/plain": [
       "8"
      ]
     },
     "execution_count": 30,
     "metadata": {},
     "output_type": "execute_result"
    }
   ],
   "source": [
    "# this is happening here.\n",
    "2*2*2"
   ]
  },
  {
   "cell_type": "code",
   "execution_count": 33,
   "id": "7258391e-142c-4a51-9c99-beb142d7d01d",
   "metadata": {},
   "outputs": [],
   "source": [
    "# Question 4\n",
    "\n",
    "j=[44,33,78,34,\"high\",\"low\", 22.5]"
   ]
  },
  {
   "cell_type": "code",
   "execution_count": 34,
   "id": "41c6ab2e-7d74-4a1a-8e8f-a8e68c18e594",
   "metadata": {},
   "outputs": [
    {
     "name": "stdout",
     "output_type": "stream",
     "text": [
      "<class 'int'>\n",
      "44\n",
      "<class 'int'>\n",
      "33\n",
      "<class 'int'>\n",
      "78\n",
      "<class 'int'>\n",
      "34\n",
      "<class 'str'>\n",
      "high\n",
      "<class 'str'>\n",
      "low\n",
      "<class 'float'>\n",
      "22.5\n"
     ]
    }
   ],
   "source": [
    "for i in j:\n",
    "    print(type(i))\n",
    "    print(i)"
   ]
  },
  {
   "cell_type": "code",
   "execution_count": 7,
   "id": "48c87daa-4233-4052-b7e9-7f5435c566ce",
   "metadata": {},
   "outputs": [],
   "source": [
    "# Question 6\n",
    "r=[1,2,3,4,5,6,7,8,9,10,11,12,13,14,15,16,17,18,19,20,21,22,23,24,25]"
   ]
  },
  {
   "cell_type": "code",
   "execution_count": 17,
   "id": "c9ee19fb-f148-40df-ac65-ab970cd2690e",
   "metadata": {},
   "outputs": [
    {
     "name": "stdout",
     "output_type": "stream",
     "text": [
      "number is not divisible 1\n",
      "number is not divisible 2\n",
      "number is divisible 3\n",
      "number is not divisible 4\n",
      "number is not divisible 5\n",
      "number is divisible 6\n",
      "number is not divisible 7\n",
      "number is not divisible 8\n",
      "number is divisible 9\n",
      "number is not divisible 10\n",
      "number is not divisible 11\n",
      "number is divisible 12\n",
      "number is not divisible 13\n",
      "number is not divisible 14\n",
      "number is divisible 15\n",
      "number is not divisible 16\n",
      "number is not divisible 17\n",
      "number is divisible 18\n",
      "number is not divisible 19\n",
      "number is not divisible 20\n",
      "number is divisible 21\n",
      "number is not divisible 22\n",
      "number is not divisible 23\n",
      "number is divisible 24\n",
      "number is not divisible 25\n"
     ]
    }
   ],
   "source": [
    "for i in r:\n",
    "    if (i % 3)==0:\n",
    "        print(\"number is divisible\",i)\n",
    "    else:\n",
    "        print(\"number is not divisible\",i)\n",
    "        "
   ]
  },
  {
   "cell_type": "code",
   "execution_count": 18,
   "id": "3a17da78-1e4b-428b-a24a-6af83085c07a",
   "metadata": {},
   "outputs": [],
   "source": [
    "#Question 7\n",
    "#mutable can be changed after it is created.\n",
    "#like : list,set \n",
    "# example\n",
    "q=[2,3,4,5,6,7]"
   ]
  },
  {
   "cell_type": "code",
   "execution_count": 20,
   "id": "60e19675-129e-4616-84c8-3ece6ffcb97e",
   "metadata": {},
   "outputs": [],
   "source": [
    "q[1]=\"high power\""
   ]
  },
  {
   "cell_type": "code",
   "execution_count": 21,
   "id": "30d8d351-7a08-4d16-a852-ab9fc9e674f7",
   "metadata": {},
   "outputs": [
    {
     "data": {
      "text/plain": [
       "[2, 'high power', 4, 5, 6, 7]"
      ]
     },
     "execution_count": 21,
     "metadata": {},
     "output_type": "execute_result"
    }
   ],
   "source": [
    "q"
   ]
  },
  {
   "cell_type": "code",
   "execution_count": 22,
   "id": "e02fa567-5e84-4dc4-a064-802879ac5c43",
   "metadata": {},
   "outputs": [],
   "source": [
    "# in above example we can see that change is possible and this called mutable in python"
   ]
  },
  {
   "cell_type": "code",
   "execution_count": 23,
   "id": "dc8929b9-5bb3-42e5-bb16-9175b2711361",
   "metadata": {},
   "outputs": [],
   "source": [
    "#immutable cannot be changed after it is created.\n",
    "#like : int, float, string\n",
    "#example\n",
    "t=\"vishal kumar\""
   ]
  },
  {
   "cell_type": "code",
   "execution_count": 24,
   "id": "aebfa097-e1e4-44f6-82ee-30baf226fc7e",
   "metadata": {},
   "outputs": [
    {
     "ename": "NameError",
     "evalue": "name 'o' is not defined",
     "output_type": "error",
     "traceback": [
      "\u001b[0;31m---------------------------------------------------------------------------\u001b[0m",
      "\u001b[0;31mNameError\u001b[0m                                 Traceback (most recent call last)",
      "Cell \u001b[0;32mIn[24], line 1\u001b[0m\n\u001b[0;32m----> 1\u001b[0m t[\u001b[38;5;241m1\u001b[39m]\u001b[38;5;241m=\u001b[39m\u001b[43mo\u001b[49m\n",
      "\u001b[0;31mNameError\u001b[0m: name 'o' is not defined"
     ]
    }
   ],
   "source": [
    "t[1]=o"
   ]
  },
  {
   "cell_type": "code",
   "execution_count": 25,
   "id": "c4758b9a-9038-483c-9add-1141b42c1f7a",
   "metadata": {},
   "outputs": [],
   "source": [
    "#as we can see there is an error in above question "
   ]
  },
  {
   "cell_type": "code",
   "execution_count": 26,
   "id": "eea7621a-e1f5-4867-9bc9-bb48219873f7",
   "metadata": {},
   "outputs": [
    {
     "name": "stdout",
     "output_type": "stream",
     "text": [
      "5.0\n"
     ]
    }
   ],
   "source": [
    "#Question 5\n",
    "a=10\n",
    "b=2\n",
    "while(a%b)==0:\n",
    "    print(a/b)\n",
    "    break"
   ]
  },
  {
   "cell_type": "code",
   "execution_count": null,
   "id": "50f01786-4de4-49b8-a5de-f4ba11af7fef",
   "metadata": {},
   "outputs": [],
   "source": []
  }
 ],
 "metadata": {
  "kernelspec": {
   "display_name": "Python 3 (ipykernel)",
   "language": "python",
   "name": "python3"
  },
  "language_info": {
   "codemirror_mode": {
    "name": "ipython",
    "version": 3
   },
   "file_extension": ".py",
   "mimetype": "text/x-python",
   "name": "python",
   "nbconvert_exporter": "python",
   "pygments_lexer": "ipython3",
   "version": "3.10.8"
  }
 },
 "nbformat": 4,
 "nbformat_minor": 5
}
