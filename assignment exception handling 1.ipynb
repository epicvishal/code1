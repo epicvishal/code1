{
 "cells": [
  {
   "cell_type": "markdown",
   "metadata": {},
   "source": [
    "Question.1 What is an exception in python ? write the difference between exception and syntax error."
   ]
  },
  {
   "cell_type": "code",
   "execution_count": 1,
   "metadata": {},
   "outputs": [],
   "source": [
    "# as we know that python work in squentional manner, \n",
    "#It means it work line by line if error occurs on that time then entier code will be failded and it shows  error.\n",
    "# so solve this problem we need exception to handel this problem.\n",
    "\n",
    "# example \n",
    "import logging\n",
    "\n",
    "logging.basicConfig(filename=\"error.log\",level=logging.NOTSET,format='%(asctime)s %(message)s')\n"
   ]
  },
  {
   "cell_type": "code",
   "execution_count": 2,
   "metadata": {},
   "outputs": [],
   "source": [
    "try:\n",
    "    10/0\n",
    "except ZeroDivisionError as e:\n",
    "    logging.info(\"this is my division error {}\".format(e))"
   ]
  },
  {
   "cell_type": "code",
   "execution_count": 3,
   "metadata": {},
   "outputs": [
    {
     "ename": "SyntaxError",
     "evalue": "Missing parentheses in call to 'print'. Did you mean print(...)? (3473186872.py, line 6)",
     "output_type": "error",
     "traceback": [
      "\u001b[0;36m  Cell \u001b[0;32mIn[3], line 6\u001b[0;36m\u001b[0m\n\u001b[0;31m    print\"b\"\u001b[0m\n\u001b[0m    ^\u001b[0m\n\u001b[0;31mSyntaxError\u001b[0m\u001b[0;31m:\u001b[0m Missing parentheses in call to 'print'. Did you mean print(...)?\n"
     ]
    }
   ],
   "source": [
    "#now question arrives what is differnce between syntax and exception\n",
    "#understand this with an example\n",
    "#example for sytax error\n",
    "a=789\n",
    "b=a*a\n",
    "print\"b\""
   ]
  },
  {
   "cell_type": "code",
   "execution_count": 4,
   "metadata": {},
   "outputs": [],
   "source": [
    "# so this is an sytax error as we can see above \n",
    "# example for excetion\n",
    "\n",
    "try:\n",
    "    \"vishal\"+123\n",
    "except Exception as e:\n",
    "    logging.debug(\"this is an syntax error{}\".format(e))"
   ]
  },
  {
   "cell_type": "code",
   "execution_count": 5,
   "metadata": {},
   "outputs": [],
   "source": [
    "# as we can see above have an error still we dont get an error because we use the exception handel this"
   ]
  },
  {
   "cell_type": "markdown",
   "metadata": {},
   "source": [
    "Question 2. What happend when an exception is not handled ? explain with an example."
   ]
  },
  {
   "cell_type": "code",
   "execution_count": 7,
   "metadata": {},
   "outputs": [
    {
     "ename": "TypeError",
     "evalue": "can only concatenate str (not \"int\") to str",
     "output_type": "error",
     "traceback": [
      "\u001b[0;31m---------------------------------------------------------------------------\u001b[0m",
      "\u001b[0;31mTypeError\u001b[0m                                 Traceback (most recent call last)",
      "Cell \u001b[0;32mIn[7], line 4\u001b[0m\n\u001b[1;32m      1\u001b[0m \u001b[38;5;66;03m# it through an error to the user we can under stand this with an example\u001b[39;00m\n\u001b[1;32m      2\u001b[0m \u001b[38;5;66;03m#example\u001b[39;00m\n\u001b[1;32m      3\u001b[0m \u001b[38;5;28;01mtry\u001b[39;00m:\n\u001b[0;32m----> 4\u001b[0m     \u001b[38;5;124;43m\"\u001b[39;49m\u001b[38;5;124;43mvishal\u001b[39;49m\u001b[38;5;124;43m\"\u001b[39;49m\u001b[38;5;241;43m+\u001b[39;49m\u001b[38;5;241;43m123\u001b[39;49m\n\u001b[1;32m      5\u001b[0m \u001b[38;5;28;01mexcept\u001b[39;00m \u001b[38;5;167;01mFileNotFoundError\u001b[39;00m \u001b[38;5;28;01mas\u001b[39;00m e:\n\u001b[1;32m      6\u001b[0m     logging\u001b[38;5;241m.\u001b[39merror(\u001b[38;5;124m\"\u001b[39m\u001b[38;5;124mthis is my file \u001b[39m\u001b[38;5;132;01m{}\u001b[39;00m\u001b[38;5;124m\"\u001b[39m\u001b[38;5;241m.\u001b[39mformat(e))\n",
      "\u001b[0;31mTypeError\u001b[0m: can only concatenate str (not \"int\") to str"
     ]
    }
   ],
   "source": [
    "# it through an error to the user we can under stand this with an example\n",
    "#example\n",
    "try:\n",
    "    \"vishal\"+123\n",
    "except FileNotFoundError as e:\n",
    "    logging.error(\"this is my file {}\".format(e))\n",
    " \n",
    "\n"
   ]
  },
  {
   "cell_type": "code",
   "execution_count": 8,
   "metadata": {},
   "outputs": [],
   "source": [
    "# as we can see exception is not handeled so we cearte an another exception or we can use else block to do\n"
   ]
  },
  {
   "cell_type": "code",
   "execution_count": 9,
   "metadata": {},
   "outputs": [],
   "source": [
    "\n",
    "#example\n",
    "try:\n",
    "    \"vishal\"+123\n",
    "except FileNotFoundError as e:\n",
    "    logging.error(\"this is my file {}\".format(e))\n",
    "except Exception as e:\n",
    "    logging.error(\"this is my error {}\".format(e)) \n",
    "else :\n",
    "    logging.error(\"error found\")\n",
    "finally:\n",
    "    logging.info(\"program complete\")\n"
   ]
  },
  {
   "cell_type": "code",
   "execution_count": null,
   "metadata": {},
   "outputs": [],
   "source": []
  },
  {
   "cell_type": "markdown",
   "metadata": {},
   "source": [
    "Question 3. which python statments are used to catch and handle exception? Explain with an example?"
   ]
  },
  {
   "cell_type": "code",
   "execution_count": 10,
   "metadata": {},
   "outputs": [],
   "source": [
    "# \"try\"\n",
    "# \"except\"\n",
    "# \"else\"\n",
    "# \"finally\"\n",
    "# all of the above used in execption handeling syntax\n",
    "# and the statment is like this\n",
    "# try:\n",
    "#    (here we write our code)\n",
    "# except Exception as e:\n",
    "#      print(e)\n",
    "# else:\n",
    "#      (\"here you can print your statment in other case we put code also \")\n",
    "# finally:\n",
    "#        this statment will work in condition"
   ]
  },
  {
   "cell_type": "code",
   "execution_count": 11,
   "metadata": {},
   "outputs": [],
   "source": [
    "try:\n",
    "    10/0\n",
    "except ZeroDivisionError as e:\n",
    "    logging.error(\"error {}\".format(e))\n",
    "except Exception as e:\n",
    "    logging.error(\"error:\".format(e))\n",
    "else:\n",
    "    logging.info(\"their is error in program\")\n",
    "finally:\n",
    "    logging.info(\"program run scucessfully\")        "
   ]
  },
  {
   "cell_type": "code",
   "execution_count": 12,
   "metadata": {},
   "outputs": [],
   "source": [
    "# this the python statment for exception handeling"
   ]
  },
  {
   "cell_type": "markdown",
   "metadata": {},
   "source": [
    "Question 4. Explain with an example:\n",
    "a. try and else\n",
    "b. finally\n",
    "c. raise\n"
   ]
  },
  {
   "cell_type": "code",
   "execution_count": 13,
   "metadata": {},
   "outputs": [],
   "source": [
    "# a. try and else\n",
    "# example\n",
    "try:\n",
    "    f=open(\"example.txt\",'w')\n",
    "    f.write(\"this is my assignment\")\n",
    "except Exception as e:\n",
    "    logging.error(\"this is my exception blocl{}\".format(e))\n",
    "else:\n",
    "    f.close()"
   ]
  },
  {
   "cell_type": "code",
   "execution_count": 14,
   "metadata": {},
   "outputs": [
    {
     "name": "stdout",
     "output_type": "stream",
     "text": [
      "can only concatenate str (not \"int\") to str\n"
     ]
    }
   ],
   "source": [
    "#example b.finally\n",
    "try:\n",
    "    \"vishal\"+1234\n",
    "except TypeError as e:\n",
    "    print(e)\n",
    "finally:\n",
    "    logging.info(\"this is my finally block\")"
   ]
  },
  {
   "cell_type": "code",
   "execution_count": 15,
   "metadata": {},
   "outputs": [],
   "source": [
    "# example c. raise\n",
    "\n",
    "class roll_number(Exception):\n",
    "    def __init__(self,msg):\n",
    "        self.msg=msg "
   ]
  },
  {
   "cell_type": "code",
   "execution_count": 16,
   "metadata": {},
   "outputs": [],
   "source": [
    "\n",
    "\n",
    "def class_room(e_number):\n",
    "    if e_number <= 0:\n",
    "        raise roll_number(\"your roll_number is wrong\")\n",
    "    elif e_number < 30:\n",
    "        raise roll_number(\"seat in room number 101\")\n",
    "    elif e_number < 40:\n",
    "        raise roll_number(\"seat in room number 102\")\n",
    "    elif e_number < 50:\n",
    "        raise roll_number(\"seat in room number 103\")\n",
    "    elif e_number <=51:\n",
    "        raise roll_number(\"your roll_number is wrong\")\n"
   ]
  },
  {
   "cell_type": "code",
   "execution_count": 17,
   "metadata": {},
   "outputs": [
    {
     "name": "stdin",
     "output_type": "stream",
     "text": [
      "enter your roll number 44\n"
     ]
    },
    {
     "name": "stdout",
     "output_type": "stream",
     "text": [
      "seat in room number 103\n"
     ]
    }
   ],
   "source": [
    "try:\n",
    "    e_number=int(input(\"enter your roll number\"))\n",
    "    class_room(e_number)\n",
    "except roll_number as e:\n",
    "    logging.info(\"{}\".format(e))\n",
    "    print(e)"
   ]
  },
  {
   "cell_type": "markdown",
   "metadata": {},
   "source": [
    "Question 5. What are custom Exception in python ? why do we need Custom Exception? expalin with an example."
   ]
  },
  {
   "cell_type": "code",
   "execution_count": 18,
   "metadata": {},
   "outputs": [],
   "source": [
    "#cusyom Exception in python are user defiend exception that are created by programmer to handle specific errors\n",
    "#we need custom excepion to provide more meaningful and describing error\n",
    "# example \n",
    "\n",
    "class valid(Exception):\n",
    "    def __init__(self,msg):\n",
    "        self.msg=msg"
   ]
  },
  {
   "cell_type": "code",
   "execution_count": 66,
   "metadata": {},
   "outputs": [],
   "source": [
    "def abc(age):\n",
    "    if age >80:\n",
    "        raise valid(\"although have legal age to drive but you are a senior citizen\")\n",
    "    elif age >=18:\n",
    "        raise valid(\"you can drive a car\")\n",
    "    elif age <18:\n",
    "        raise valid(\"you cannot drive a car\")\n"
   ]
  },
  {
   "cell_type": "code",
   "execution_count": 67,
   "metadata": {},
   "outputs": [
    {
     "name": "stdin",
     "output_type": "stream",
     "text": [
      "enter your age 88\n"
     ]
    },
    {
     "name": "stdout",
     "output_type": "stream",
     "text": [
      "you can drive a car\n"
     ]
    }
   ],
   "source": [
    "try:\n",
    "    age=int(input(\"enter your age\"))\n",
    "    abc(age)\n",
    "except valid as e:\n",
    "    logging.info(\"{}\".format(e))\n",
    "    print(e)"
   ]
  },
  {
   "cell_type": "markdown",
   "metadata": {},
   "source": [
    "Question 6. Create a custom exception class. Use this class to handle an exception."
   ]
  },
  {
   "cell_type": "code",
   "execution_count": 25,
   "metadata": {},
   "outputs": [],
   "source": [
    "class score(Exception):\n",
    "    \n",
    "    def __init__(self, msg):\n",
    "        self.msg=msg"
   ]
  },
  {
   "cell_type": "code",
   "execution_count": 60,
   "metadata": {},
   "outputs": [],
   "source": [
    "def marks(number):\n",
    "    if number < 30:\n",
    "        raise score(\"you are fail\")\n",
    "    elif number >50:\n",
    "        raise score(\"you scored good \")\n",
    "    elif number >= 30:\n",
    "        raise score(\"almost pass\")"
   ]
  },
  {
   "cell_type": "code",
   "execution_count": 65,
   "metadata": {},
   "outputs": [
    {
     "name": "stdin",
     "output_type": "stream",
     "text": [
      "enter your number for remarks 88\n"
     ]
    },
    {
     "name": "stdout",
     "output_type": "stream",
     "text": [
      "you scored good \n"
     ]
    }
   ],
   "source": [
    "try:\n",
    "    number=int(input(\"enter your number for remarks\"))\n",
    "    marks(number)\n",
    "except score as e:\n",
    "    logging.info(\"{}\".format(e))\n",
    "    print(e)"
   ]
  },
  {
   "cell_type": "code",
   "execution_count": null,
   "metadata": {},
   "outputs": [],
   "source": []
  }
 ],
 "metadata": {
  "kernelspec": {
   "display_name": "Python 3 (ipykernel)",
   "language": "python",
   "name": "python3"
  },
  "language_info": {
   "codemirror_mode": {
    "name": "ipython",
    "version": 3
   },
   "file_extension": ".py",
   "mimetype": "text/x-python",
   "name": "python",
   "nbconvert_exporter": "python",
   "pygments_lexer": "ipython3",
   "version": "3.10.8"
  }
 },
 "nbformat": 4,
 "nbformat_minor": 4
}
