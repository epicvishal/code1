{
 "cells": [
  {
   "cell_type": "markdown",
   "id": "1dc655e8-825b-4e84-940f-5b83e95e6ecf",
   "metadata": {},
   "source": [
    "Question 1. What is database? Differntiate between SQL and NoSQL database."
   ]
  },
  {
   "cell_type": "code",
   "execution_count": 1,
   "id": "cd1af718-68bc-4599-b5de-f9c5261651bd",
   "metadata": {},
   "outputs": [],
   "source": [
    "# A database is a collection of organized and structured data that can be easily accessed, managed, and updated.\n",
    "# It allows users to store and retrive data efficienly for various purpose.\n",
    "\n",
    "\n",
    "#SQL(structured Query Language) and NoSQL(NOT Only SQL) are two types of database that differ in their data storage and\n",
    "# and retrieval methods. \n",
    "# SQL database use structured approach.\n",
    "# NoSQL data base use non structured approach.\n",
    "# SQL store data in table form where it have rows and column.\n",
    "# NoSQL store data in the from of document or in the dictionary from.\n",
    "\n",
    "# example\n",
    "# MySQL is the platform for SQL.\n",
    "# MongoDB is the platform for NoSQL."
   ]
  },
  {
   "cell_type": "markdown",
   "id": "3ce556a6-2c6b-4881-81e2-09ad6c4dd177",
   "metadata": {},
   "source": [
    "Question 2. What is DDL? Explain Why CREATE,DROP,ALTER,and TRUNICATE are used with an exmaple."
   ]
  },
  {
   "cell_type": "code",
   "execution_count": null,
   "id": "50cd5d5e-243b-4df7-8580-47d2d2b5da42",
   "metadata": {},
   "outputs": [],
   "source": [
    "# DDL(Data Definition Language) is a set of SQL commands used to define and modify the structure of database. \n",
    "#CREATE,DROP,ALTER and TRUNICATE are comes under in DDL.\n",
    "\n",
    "# 1.CREATE\n",
    "# It used to create new database objects, such as table, views, or indexes.\n",
    "# for example: Create table named \"Employees\" with three columns-'id','name',and'salary':\n",
    "\n",
    "CREATE TABLE Employees(\n",
    "id INT PRIMARY KEY,    # we have to determined the type of column so, we can perform task on it\n",
    "    name VARCHAR(50),\n",
    " salary DECIMAL(10,2)   \n",
    ");\n",
    "\n",
    "# 2.DROP \n",
    "# IT is used to delete an existing database objects.\n",
    "#for example,  from the  above SQL statment drops the table \"Employees\":\n",
    "\n",
    "DROP TABLE Empolyees;\n",
    "\n",
    "# 3.ALTER \n",
    "# It is used to modify the structured of an existing database objecets.\n",
    "# it can be used to add, remove,or modify columns in a table, change data types or add constraints \n",
    "# for example: from the above  SQL statement adds a new coloumn \"age\" to the \"Employees\" table:\n",
    "\n",
    "ALTER TABLE Employees\n",
    "ADD age INT;\n",
    "\n",
    "# 4.TRUNCATE \n",
    "# It is used to delete all data from a table without dropping the table itself.It is useful when you want to remove all \n",
    "# records from the table,but keep the table structure itact.\n",
    "# for example: from the above SQL statment truncates the \"Employess\" table:\n",
    "\n",
    "TRUNCATE TABLE Employees;\n",
    "\n",
    "\n"
   ]
  },
  {
   "cell_type": "markdown",
   "id": "0a6163c8-cbc2-4af9-87db-c14242babf06",
   "metadata": {},
   "source": [
    "Question 3. what is DML? Explain INSERT, UPDATE  and DELETE with an example."
   ]
  },
  {
   "cell_type": "code",
   "execution_count": null,
   "id": "88b26870-da9f-44c1-b9de-31b18d314597",
   "metadata": {},
   "outputs": [],
   "source": [
    "# DML(Data Manipulation Language) is a set of SQl commands used to manipulate data stored in a database. \n",
    "# It is used to insert,update, and delete records in a table.\n",
    "\n",
    "# 1.INSERT\n",
    "# INSERT is used to add new records to a table. \n",
    "#For example, the following SQL statement inserts a new record into the \"Employees\" table:\n",
    "\n",
    "INSERT INTO Employees (id, name, salary)\n",
    "VALUES (1, 'John Smith', 50000);\n",
    "\n",
    "# 2.UPDATE\n",
    "#UPDATE is used to modify existing records in a table.\n",
    "#For example, the following SQL statement updates the salary of the employee with an id of 1:\n",
    "\n",
    "UPDATE Employees\n",
    "SET salary = 55000\n",
    "WHERE id = 1;\n",
    "\n",
    "# 3.DELETE\n",
    "#DELETE is used to remove records from a table. \n",
    "#For example, the following SQL statement deletes the employee with an id of 1 from the \"Employees\" table:\n",
    "\n",
    "DELETE FROM Employees\n",
    "WHERE id = 1;\n"
   ]
  },
  {
   "cell_type": "markdown",
   "id": "e00d990c-79dc-4483-8b5b-b83cd17d52d7",
   "metadata": {},
   "source": [
    "Question 4. what is DQL? Explain SELECT with an example?\n"
   ]
  },
  {
   "cell_type": "code",
   "execution_count": null,
   "id": "5eeb066e-0e11-4fcd-a1fa-c956097067ed",
   "metadata": {},
   "outputs": [],
   "source": [
    "# DQL (Data Query Language) is a subset of SQL used to retrieve data from a database.\n",
    "# It is primarily used to query data from tables based on certain conditions.\n",
    "\n",
    "# SELECT is a DQL command used to retrieve data from a database. \n",
    "# It is used to specify which columns and rows of data should be returned from a table. \n",
    "# For example, the following SQL statement retrieves the names and \n",
    "# salaries of all employees with a salary greater than 50000 from the \"Employees\" table:\n",
    "\n",
    "SELECT name, salary\n",
    "FROM Employees\n",
    "WHERE salary > 50000;\n"
   ]
  },
  {
   "cell_type": "markdown",
   "id": "2fda64a9-4b25-4b63-a784-e69824932db2",
   "metadata": {},
   "source": [
    "Q5. Explain Primary Key and Foreign Key."
   ]
  },
  {
   "cell_type": "code",
   "execution_count": 2,
   "id": "6c31d139-94bd-4408-ac94-6789ad95736c",
   "metadata": {},
   "outputs": [],
   "source": [
    "# Primary Key:\n",
    "# A primary key is a unique identifier for a specific record in a database table. \n",
    "# It is used to uniquely identify each record in the table and must have a unique value for each record.\n",
    "# Primary keys are used to ensure data integrity and to establish relationships between tables in a database. \n",
    "# They can be made up of one or more columns in a table and are typically designated as the primary key when the table is created.\n",
    "\n",
    "\n",
    "# Foreign Key:\n",
    "# A foreign key is a field in a database table that is used to establish a relationship with another table.\n",
    "#It is used to link two tables together and is typically a reference to the primary key of another table. \n",
    "#Foreign keys are used to maintain data integrity and to ensure that data in one table is related to data in another table.\n",
    "#They help to establish relationships between tables in a database and are essential for creating complex queries and joining tables together.\n"
   ]
  },
  {
   "cell_type": "markdown",
   "id": "fee9fd10-5cc9-42ab-aedb-f88ad288ee5d",
   "metadata": {},
   "source": [
    "Question 6.Write a python code to connect MYSQL to python. Explain the cursor() and execute() meethod."
   ]
  },
  {
   "cell_type": "code",
   "execution_count": null,
   "id": "75b3d858-598b-4f94-8354-7fa39a24a03d",
   "metadata": {},
   "outputs": [],
   "source": [
    "# this is the code which is used to connect the MYSQL to python \n",
    "\n",
    "import mysql.connector\n",
    "# import mysql.connector\n",
    "#create user 'user'@'%' identified by 'password'\n",
    "mydb = mysql.connector.connect(\n",
    "  host=\"localhost\",\n",
    "  user=\"abc\",\n",
    "  password=\"password\"\n",
    ")\n",
    "print(mydb)\n",
    "mycursor = mydb.cursor()\n",
    "mycursor.execute(\"SHOW DATABASES\")\n",
    "for x in mycursor:\n",
    "  print(x)\n",
    "\n",
    "\n",
    "# cursor()\n",
    "# the cursor() method creates a cursor object that allwos us to execute SQL queries on the connected database.\n",
    "\n",
    "# execute()\n",
    "# the execute() method is used to execute SQL queries on the connected database. It takes one argument,\n",
    "# which is the SQL query to be executed."
   ]
  },
  {
   "cell_type": "markdown",
   "id": "285539a8-9d8f-4236-b753-2a9a30268aa9",
   "metadata": {},
   "source": [
    "Question 7. Give the order of execution of SQL clause in an SQL query."
   ]
  },
  {
   "cell_type": "code",
   "execution_count": null,
   "id": "45abb176-81af-4665-8df5-6269b55be66f",
   "metadata": {},
   "outputs": [],
   "source": []
  }
 ],
 "metadata": {
  "kernelspec": {
   "display_name": "Python 3 (ipykernel)",
   "language": "python",
   "name": "python3"
  },
  "language_info": {
   "codemirror_mode": {
    "name": "ipython",
    "version": 3
   },
   "file_extension": ".py",
   "mimetype": "text/x-python",
   "name": "python",
   "nbconvert_exporter": "python",
   "pygments_lexer": "ipython3",
   "version": "3.10.8"
  }
 },
 "nbformat": 4,
 "nbformat_minor": 5
}
