{
 "cells": [
  {
   "cell_type": "markdown",
   "metadata": {},
   "source": [
    "Q1. What is abstraction in oops? Explain with an example"
   ]
  },
  {
   "cell_type": "code",
   "execution_count": 3,
   "metadata": {},
   "outputs": [],
   "source": [
    "# Abstraction is a fundamental concepts in oops that refers to the process of hiding complex implementation details.\n",
    "#example\n",
    "\n",
    "import abc\n",
    "class students:\n",
    "\n",
    "    @abc.abstractmethod\n",
    "    def student_class(self):\n",
    "        pass\n",
    "\n",
    "    @abc.abstractmethod\n",
    "    def student_roll_no(self):\n",
    "        pass\n",
    "\n",
    "    @abc.abstractmethod\n",
    "    def student_id(self):\n",
    "        pass\n",
    "\n",
    "    @abc.abstractmethod\n",
    "    def student_year(self):\n",
    "        pass   "
   ]
  },
  {
   "cell_type": "code",
   "execution_count": 5,
   "metadata": {},
   "outputs": [],
   "source": [
    "class student_details(students):\n",
    "\n",
    "    def student_class(self):\n",
    "        return \"he is in class number 22\"\n",
    "    \n",
    "    def student_roll_no(self):\n",
    "        return \"his roll number is 34\"\n"
   ]
  },
  {
   "cell_type": "code",
   "execution_count": 6,
   "metadata": {},
   "outputs": [],
   "source": [
    "class student_info(students):\n",
    "\n",
    "    def student_id(self):\n",
    "        return \"his 'id' number is 23230\"\n",
    "    \n",
    "    def student_year(self):\n",
    "        return \"he is in 3rd year\""
   ]
  },
  {
   "cell_type": "code",
   "execution_count": 10,
   "metadata": {},
   "outputs": [
    {
     "data": {
      "text/plain": [
       "'he is in class number 22'"
      ]
     },
     "execution_count": 10,
     "metadata": {},
     "output_type": "execute_result"
    }
   ],
   "source": [
    "sd=student_details()\n",
    "sd.student_class()"
   ]
  },
  {
   "cell_type": "code",
   "execution_count": 11,
   "metadata": {},
   "outputs": [
    {
     "data": {
      "text/plain": [
       "\"his 'id' number is 23230\""
      ]
     },
     "execution_count": 11,
     "metadata": {},
     "output_type": "execute_result"
    }
   ],
   "source": [
    "si=student_info()\n",
    "si.student_id()"
   ]
  },
  {
   "cell_type": "markdown",
   "metadata": {},
   "source": [
    "Q2.Differentiate between abstraction and encapsulation.Explain with an expample."
   ]
  },
  {
   "cell_type": "code",
   "execution_count": 12,
   "metadata": {},
   "outputs": [],
   "source": [
    "# In abstraction we create the skeleton and then inherit with other class.\n",
    "# when we hide something in the class then it is know as encapsulation.\n",
    "# basically in abstraction we create the skeleton of the class and then inherit but in encapsulation we hide the sensitive information\n",
    "# in the class.\n",
    "# example of abstraction\n",
    "\n",
    "import abc \n",
    "\n",
    "class create:\n",
    "\n",
    "\n",
    "    @abc.abstractmethod\n",
    "    def new_folder(self):\n",
    "        pass\n",
    "\n",
    "    @abc.abstractmethod\n",
    "    def folder_name(self):\n",
    "        pass\n"
   ]
  },
  {
   "cell_type": "code",
   "execution_count": 13,
   "metadata": {},
   "outputs": [],
   "source": [
    "class folder_details1(create):\n",
    "\n",
    "    def new_folder(self):\n",
    "        return \"this is the new folder for the data science notes\"\n",
    "    \n",
    "    def folder_name(self):\n",
    "        return \"the name of folder is data science\""
   ]
  },
  {
   "cell_type": "code",
   "execution_count": 14,
   "metadata": {},
   "outputs": [],
   "source": [
    "class folder_details2(create):\n",
    "\n",
    "    def new_folder(self):\n",
    "        return \"this is the new folder for videos\"\n",
    "    \n",
    "    def folder_name(self):\n",
    "        return \"the name of folder id videos of data science\""
   ]
  },
  {
   "cell_type": "code",
   "execution_count": 15,
   "metadata": {},
   "outputs": [
    {
     "data": {
      "text/plain": [
       "'the name of folder is data science'"
      ]
     },
     "execution_count": 15,
     "metadata": {},
     "output_type": "execute_result"
    }
   ],
   "source": [
    "fd1=folder_details1()\n",
    "fd1.folder_name()"
   ]
  },
  {
   "cell_type": "code",
   "execution_count": 17,
   "metadata": {},
   "outputs": [
    {
     "data": {
      "text/plain": [
       "'the name of folder id videos of data science'"
      ]
     },
     "execution_count": 17,
     "metadata": {},
     "output_type": "execute_result"
    }
   ],
   "source": [
    "fd2=folder_details2()\n",
    "fd2.folder_name()"
   ]
  },
  {
   "cell_type": "code",
   "execution_count": 51,
   "metadata": {},
   "outputs": [],
   "source": [
    "# example for encapsulation\n",
    "\n",
    "class hotel:\n",
    "\n",
    "\n",
    "    def __init__(self,guest_name,room_number,booking_number):\n",
    "        self.__guest_name=guest_name\n",
    "        self.__room_number=room_number\n",
    "        self.booking_number=booking_number\n",
    "\n",
    "\n",
    "    def guest_booking_number(self):\n",
    "        return self.booking_number"
   ]
  },
  {
   "cell_type": "code",
   "execution_count": 52,
   "metadata": {},
   "outputs": [],
   "source": [
    "rohan=hotel(\"rohan\",123123,34535)"
   ]
  },
  {
   "cell_type": "code",
   "execution_count": 54,
   "metadata": {},
   "outputs": [
    {
     "ename": "AttributeError",
     "evalue": "'hotel' object has no attribute '__guest_name'",
     "output_type": "error",
     "traceback": [
      "\u001b[1;31m---------------------------------------------------------------------------\u001b[0m",
      "\u001b[1;31mAttributeError\u001b[0m                            Traceback (most recent call last)",
      "\u001b[1;32me:\\data science\\oops\\assignment 2.ipynb Cell 15\u001b[0m line \u001b[0;36m1\n\u001b[1;32m----> <a href='vscode-notebook-cell:/e%3A/data%20science/oops/assignment%202.ipynb#X23sZmlsZQ%3D%3D?line=0'>1</a>\u001b[0m rohan\u001b[39m.\u001b[39;49m__guest_name\n",
      "\u001b[1;31mAttributeError\u001b[0m: 'hotel' object has no attribute '__guest_name'"
     ]
    }
   ],
   "source": [
    "rohan.__guest_name"
   ]
  },
  {
   "cell_type": "code",
   "execution_count": 55,
   "metadata": {},
   "outputs": [],
   "source": [
    "# as we can see above we cannot access the guest name because we hide it so this is called encapsulation\n",
    "# WE ENCAPUSLATE SENSITIVE INFORMATION SO NO ONE CAN ACCESS THAT"
   ]
  },
  {
   "cell_type": "code",
   "execution_count": 56,
   "metadata": {},
   "outputs": [
    {
     "data": {
      "text/plain": [
       "34535"
      ]
     },
     "execution_count": 56,
     "metadata": {},
     "output_type": "execute_result"
    }
   ],
   "source": [
    "rohan.booking_number"
   ]
  },
  {
   "cell_type": "markdown",
   "metadata": {},
   "source": [
    "Q3. What is abc module in python? why it is used?"
   ]
  },
  {
   "cell_type": "code",
   "execution_count": 59,
   "metadata": {},
   "outputs": [],
   "source": [
    "# abc module provides the abstract classes in the pyhton.\n",
    "# which provide the decorates name: @abstractmethod. \n",
    "# by this moudule we can create the skeleton or blue print for the class\n",
    "# after that we can inherit that in other class.\n",
    "# It is used to get the abract in class\n",
    "\n",
    "# we see abstraction in above questions"
   ]
  },
  {
   "cell_type": "markdown",
   "metadata": {},
   "source": [
    "Q4.How can we achieve data abstraction? "
   ]
  },
  {
   "cell_type": "code",
   "execution_count": 60,
   "metadata": {},
   "outputs": [],
   "source": [
    "# we can achieve data abstraction by using class and object\n",
    "# we have to hide the implementation deatils of a class form thr user \n",
    "# and only provide them neccessary details \n",
    "# and this we can achieved by defining private attribute in class\n",
    "# example\n",
    "\n",
    "\n",
    "class bank_account : \n",
    "    def __init__(self , balance) : \n",
    "        self.__balanace = balance \n",
    "        \n",
    "    def deposit(self , amount) : \n",
    "        self.__balanace = self.__balanace + amount\n",
    "        \n",
    "    def withdaw(self ,amount) : \n",
    "        if self.__balanace >= amount :\n",
    "            self.__balanace = self.__balanace - amount\n",
    "            return True\n",
    "        else : \n",
    "            return False\n",
    "    \n",
    "    def get_banalnce(self):\n",
    "        return self.__balanace\n",
    "                  "
   ]
  },
  {
   "cell_type": "code",
   "execution_count": 61,
   "metadata": {},
   "outputs": [],
   "source": [
    "vishal=bank_account(200000)"
   ]
  },
  {
   "cell_type": "code",
   "execution_count": 62,
   "metadata": {},
   "outputs": [],
   "source": [
    "vishal.deposit(2323)"
   ]
  },
  {
   "cell_type": "code",
   "execution_count": 63,
   "metadata": {},
   "outputs": [
    {
     "data": {
      "text/plain": [
       "True"
      ]
     },
     "execution_count": 63,
     "metadata": {},
     "output_type": "execute_result"
    }
   ],
   "source": [
    "vishal.withdaw(2000)"
   ]
  },
  {
   "cell_type": "code",
   "execution_count": 65,
   "metadata": {},
   "outputs": [
    {
     "data": {
      "text/plain": [
       "200323"
      ]
     },
     "execution_count": 65,
     "metadata": {},
     "output_type": "execute_result"
    }
   ],
   "source": [
    "vishal.get_banalnce()"
   ]
  },
  {
   "cell_type": "code",
   "execution_count": 66,
   "metadata": {},
   "outputs": [],
   "source": [
    "# in this example balance is a private attribute and this we achieved  by using under score before the balance \n",
    "# user cannot acess directly the balance.\n",
    "# there is process by which it can access the information "
   ]
  },
  {
   "cell_type": "code",
   "execution_count": null,
   "metadata": {},
   "outputs": [],
   "source": []
  },
  {
   "cell_type": "markdown",
   "metadata": {},
   "source": [
    "Q5.Can we create an instance of an abstract class? Explain your answer."
   ]
  },
  {
   "cell_type": "code",
   "execution_count": 72,
   "metadata": {},
   "outputs": [],
   "source": [
    "# No we can create an instance of an abstract class because it contanis the one or more absstract method in it.\n",
    "# and these are not defined in the class.\n",
    "# this is only the skeleton and it can be inherit in other class\n",
    "# if we want to create an instance of class then we have to craete an another class in which we have to inherit the abstract class \n",
    "# after in subclass have to give the defination to the class then we can access the instance\n",
    "\n",
    "#exapmle \n",
    "\n",
    "import abc\n",
    "\n",
    "\n",
    "class shape:\n",
    "\n",
    "    @abc.abstractmethod\n",
    "    def area(self):\n",
    "        pass\n",
    "\n",
    "    @abc.abstractmethod\n",
    "    def perameter(self):\n",
    "        pass"
   ]
  },
  {
   "cell_type": "code",
   "execution_count": 73,
   "metadata": {},
   "outputs": [],
   "source": [
    "class rectangle(shape):\n",
    "\n",
    "    def __init__(self,length,width):\n",
    "\n",
    "        self.length=length\n",
    "        self.width=width\n",
    "\n",
    "\n",
    "    def area(self):\n",
    "        return self.length* self.width\n",
    "\n",
    "    def perameter(self):\n",
    "        return 2 *(self.length+ self.width)   "
   ]
  },
  {
   "cell_type": "code",
   "execution_count": 74,
   "metadata": {},
   "outputs": [],
   "source": [
    "object=rectangle(789,789)"
   ]
  },
  {
   "cell_type": "code",
   "execution_count": 75,
   "metadata": {},
   "outputs": [
    {
     "data": {
      "text/plain": [
       "622521"
      ]
     },
     "execution_count": 75,
     "metadata": {},
     "output_type": "execute_result"
    }
   ],
   "source": [
    "object.area()"
   ]
  },
  {
   "cell_type": "code",
   "execution_count": 76,
   "metadata": {},
   "outputs": [
    {
     "data": {
      "text/plain": [
       "3156"
      ]
     },
     "execution_count": 76,
     "metadata": {},
     "output_type": "execute_result"
    }
   ],
   "source": [
    "object.perameter()"
   ]
  },
  {
   "cell_type": "code",
   "execution_count": null,
   "metadata": {},
   "outputs": [],
   "source": []
  }
 ],
 "metadata": {
  "kernelspec": {
   "display_name": "Python 3",
   "language": "python",
   "name": "python3"
  },
  "language_info": {
   "codemirror_mode": {
    "name": "ipython",
    "version": 3
   },
   "file_extension": ".py",
   "mimetype": "text/x-python",
   "name": "python",
   "nbconvert_exporter": "python",
   "pygments_lexer": "ipython3",
   "version": "3.11.5"
  },
  "orig_nbformat": 4
 },
 "nbformat": 4,
 "nbformat_minor": 2
}
