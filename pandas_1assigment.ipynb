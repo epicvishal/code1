{
 "cells": [
  {
   "cell_type": "markdown",
   "id": "c0fcc3bc-7e38-4dd1-9cdc-59fd7b003b1f",
   "metadata": {},
   "source": [
    "Q1. Create a pandas series that contains the following data: 4,8,15,16,23,and 42.Then print series."
   ]
  },
  {
   "cell_type": "code",
   "execution_count": 5,
   "id": "73d69704-ea24-41d0-a60d-8d5741e8c402",
   "metadata": {},
   "outputs": [
    {
     "name": "stdout",
     "output_type": "stream",
     "text": [
      "0     4\n",
      "1     8\n",
      "2    15\n",
      "3    16\n",
      "4    23\n",
      "5    42\n",
      "dtype: int64\n"
     ]
    },
    {
     "data": {
      "text/plain": [
       "pandas.core.series.Series"
      ]
     },
     "execution_count": 5,
     "metadata": {},
     "output_type": "execute_result"
    }
   ],
   "source": [
    "import pandas as pd\n",
    "a=[4,8,15,16,23,42]\n",
    "series=pd.Series(a)\n",
    "print(series)\n",
    "type(series)"
   ]
  },
  {
   "cell_type": "markdown",
   "id": "1e6a401f-cdfd-4106-82d5-f9eaf8306b97",
   "metadata": {},
   "source": [
    "Q2. Create a variable of list types containing 10 elements in it, and apply pandas.Series function on the variable print it."
   ]
  },
  {
   "cell_type": "code",
   "execution_count": 2,
   "id": "c824e6d2-96cd-4377-9688-de10173b8e8b",
   "metadata": {},
   "outputs": [
    {
     "name": "stdout",
     "output_type": "stream",
     "text": [
      "0          23452\n",
      "1         234525\n",
      "2           2345\n",
      "3           2345\n",
      "4       45674567\n",
      "5     3524556557\n",
      "6       23452345\n",
      "7        3457785\n",
      "8       23457567\n",
      "9        2635467\n",
      "10        236365\n",
      "dtype: int64\n"
     ]
    }
   ],
   "source": [
    "import pandas as pd\n",
    "a=[23452,234525,2345,2345,45674567,3524556557,23452345,3457785,23457567,2635467,236365]\n",
    "series=pd.Series(a)\n",
    "print(series)"
   ]
  },
  {
   "cell_type": "markdown",
   "id": "59993516-6d44-4f23-bf7d-615699fcc913",
   "metadata": {},
   "source": [
    "Q3. Create a pandas DataFrame that contains the following data:\n",
    "name,Age,gender\n",
    "alice,25,female\n",
    "bab,30,male\n",
    "clarie,27,female"
   ]
  },
  {
   "cell_type": "code",
   "execution_count": 22,
   "id": "eba38ccb-ea65-46c6-a3ea-c0ff899b0b40",
   "metadata": {},
   "outputs": [
    {
     "name": "stdout",
     "output_type": "stream",
     "text": [
      "     Name  Age  Gender\n",
      "0   Alice   25  Female\n",
      "1     Bab   30    Male\n",
      "2  Claire   27  Female\n"
     ]
    },
    {
     "data": {
      "text/plain": [
       "pandas.core.frame.DataFrame"
      ]
     },
     "execution_count": 22,
     "metadata": {},
     "output_type": "execute_result"
    }
   ],
   "source": [
    "import pandas as pd\n",
    "data={\n",
    "    \"Name\":[\"Alice\",\"Bab\",\"Claire\"],\n",
    "    \"Age\":[25,30,27],\n",
    "    \"Gender\":[\"Female\",\"Male\",\"Female\"]\n",
    "}\n",
    "sheet=pd.DataFrame(data)\n",
    "print(sheet)\n",
    "type(sheet)"
   ]
  },
  {
   "cell_type": "markdown",
   "id": "339059cf-9d52-4da5-9bde-6f6da9ab8859",
   "metadata": {},
   "source": [
    "Q4.What is \"Dataframe\" in pandas and how is it different from padas series?Explain with an example."
   ]
  },
  {
   "cell_type": "code",
   "execution_count": 8,
   "id": "595bea88-bb2c-4ab5-aeda-e504496b6b66",
   "metadata": {},
   "outputs": [
    {
     "name": "stdout",
     "output_type": "stream",
     "text": [
      "0      big\n",
      "1    large\n",
      "2    small\n",
      "3     high\n",
      "dtype: object\n"
     ]
    },
    {
     "data": {
      "text/plain": [
       "pandas.core.series.Series"
      ]
     },
     "execution_count": 8,
     "metadata": {},
     "output_type": "execute_result"
    }
   ],
   "source": [
    "#In pandas, a DataFrame is a two-dimensional, size-mutable, and potentially heterogeneous tabular data structure with labeled\n",
    "# axes (rows and columns). It is similar to a spreadsheet or SQL table, and is the most commonly used pandas object.\n",
    "\n",
    "#On the other hand, a Series is a one-dimensional labeled array capable of holding any data type.\n",
    "#It is similar to a one-dimensional array or list in Python.\n",
    "\n",
    "#example series\n",
    "\n",
    "import pandas as pd \n",
    "d=[\"big\",\"large\",\"small\",\"high\"]\n",
    "series=pd.Series(d)   #here i am using the Series function to call the series pandas\n",
    "print(series)\n",
    "type(series)"
   ]
  },
  {
   "cell_type": "code",
   "execution_count": 9,
   "id": "a8b434e1-3d6d-484c-b8c1-386c4636dfce",
   "metadata": {},
   "outputs": [],
   "source": [
    "# so this is the seies types of pandas in pandas and "
   ]
  },
  {
   "cell_type": "code",
   "execution_count": 12,
   "id": "b20999aa-b6e0-4ba9-9eb3-d01d1e70e2e3",
   "metadata": {},
   "outputs": [
    {
     "name": "stdout",
     "output_type": "stream",
     "text": [
      "    Day_name\n",
      "0     monday\n",
      "1    tuesday\n",
      "2  wednesday\n",
      "3   thrusday\n",
      "4     friday\n",
      "5   saturday\n",
      "6     sunday\n"
     ]
    },
    {
     "data": {
      "text/plain": [
       "pandas.core.frame.DataFrame"
      ]
     },
     "execution_count": 12,
     "metadata": {},
     "output_type": "execute_result"
    }
   ],
   "source": [
    "# example for data frame\n",
    "import pandas as pd\n",
    "e=[\"monday\",\"tuesday\",\"wednesday\",\"thrusday\",\"friday\",\"saturday\",\"sunday\"]\n",
    "days=pd.DataFrame(e,columns=[\"Day_name\"]) #here i am using the DataFrame() function to call the data frame pandas\n",
    "print(days)\n",
    "type(days)"
   ]
  },
  {
   "cell_type": "markdown",
   "id": "55c32d51-e8a3-481d-a38b-ea397b905825",
   "metadata": {},
   "source": [
    "Q5. What are some common functions you can use to manipulate data in a Pandas DataFrame? Can you give an example of when you might use one of these fuctions?"
   ]
  },
  {
   "cell_type": "code",
   "execution_count": 23,
   "id": "aff2a865-5533-48a5-b62c-cca3a4da9c47",
   "metadata": {},
   "outputs": [
    {
     "name": "stdout",
     "output_type": "stream",
     "text": [
      "     Name  Age  Gender\n",
      "0   Alice   25  Female\n",
      "1     Bab   30    Male\n",
      "2  Claire   27  Female\n",
      "3   David   34    Male\n",
      "4     Eve   24  Female\n"
     ]
    },
    {
     "data": {
      "text/plain": [
       "pandas.core.frame.DataFrame"
      ]
     },
     "execution_count": 23,
     "metadata": {},
     "output_type": "execute_result"
    }
   ],
   "source": [
    "# here are some common fuctions which we are using to manipulate the data\n",
    "import pandas as pd\n",
    "data={\n",
    "    \"Name\":[\"Alice\",\"Bab\",\"Claire\",\"David\",\"Eve\"],\n",
    "    \"Age\":[25,30,27,34,24],\n",
    "    \"Gender\":[\"Female\",\"Male\",\"Female\",\"Male\",\"Female\"]\n",
    "}\n",
    "sheet=pd.DataFrame(data)\n",
    "print(sheet)\n",
    "type(sheet)"
   ]
  },
  {
   "cell_type": "code",
   "execution_count": 24,
   "id": "a6170f78-4ec9-4c6d-b423-586fbb5e57de",
   "metadata": {},
   "outputs": [
    {
     "data": {
      "text/html": [
       "<div>\n",
       "<style scoped>\n",
       "    .dataframe tbody tr th:only-of-type {\n",
       "        vertical-align: middle;\n",
       "    }\n",
       "\n",
       "    .dataframe tbody tr th {\n",
       "        vertical-align: top;\n",
       "    }\n",
       "\n",
       "    .dataframe thead th {\n",
       "        text-align: right;\n",
       "    }\n",
       "</style>\n",
       "<table border=\"1\" class=\"dataframe\">\n",
       "  <thead>\n",
       "    <tr style=\"text-align: right;\">\n",
       "      <th></th>\n",
       "      <th>Name</th>\n",
       "      <th>Age</th>\n",
       "      <th>Gender</th>\n",
       "    </tr>\n",
       "  </thead>\n",
       "  <tbody>\n",
       "    <tr>\n",
       "      <th>0</th>\n",
       "      <td>Alice</td>\n",
       "      <td>25</td>\n",
       "      <td>Female</td>\n",
       "    </tr>\n",
       "  </tbody>\n",
       "</table>\n",
       "</div>"
      ],
      "text/plain": [
       "    Name  Age  Gender\n",
       "0  Alice   25  Female"
      ]
     },
     "execution_count": 24,
     "metadata": {},
     "output_type": "execute_result"
    }
   ],
   "source": [
    "#1.head()fuction it used to call the first 5 elements form the table\n",
    "sheet.head(1)"
   ]
  },
  {
   "cell_type": "code",
   "execution_count": 25,
   "id": "a67fb047-dc56-41a9-95da-c4e7b0d2b839",
   "metadata": {},
   "outputs": [
    {
     "data": {
      "text/html": [
       "<div>\n",
       "<style scoped>\n",
       "    .dataframe tbody tr th:only-of-type {\n",
       "        vertical-align: middle;\n",
       "    }\n",
       "\n",
       "    .dataframe tbody tr th {\n",
       "        vertical-align: top;\n",
       "    }\n",
       "\n",
       "    .dataframe thead th {\n",
       "        text-align: right;\n",
       "    }\n",
       "</style>\n",
       "<table border=\"1\" class=\"dataframe\">\n",
       "  <thead>\n",
       "    <tr style=\"text-align: right;\">\n",
       "      <th></th>\n",
       "      <th>Name</th>\n",
       "      <th>Age</th>\n",
       "      <th>Gender</th>\n",
       "    </tr>\n",
       "  </thead>\n",
       "  <tbody>\n",
       "    <tr>\n",
       "      <th>4</th>\n",
       "      <td>Eve</td>\n",
       "      <td>24</td>\n",
       "      <td>Female</td>\n",
       "    </tr>\n",
       "  </tbody>\n",
       "</table>\n",
       "</div>"
      ],
      "text/plain": [
       "  Name  Age  Gender\n",
       "4  Eve   24  Female"
      ]
     },
     "execution_count": 25,
     "metadata": {},
     "output_type": "execute_result"
    }
   ],
   "source": [
    "#2.tail() this is function is used to call from the last of the table's elements\n",
    "sheet.tail(1)"
   ]
  },
  {
   "cell_type": "code",
   "execution_count": 26,
   "id": "70b3374b-3570-4b15-8a30-e34fb15057f0",
   "metadata": {},
   "outputs": [
    {
     "data": {
      "text/html": [
       "<div>\n",
       "<style scoped>\n",
       "    .dataframe tbody tr th:only-of-type {\n",
       "        vertical-align: middle;\n",
       "    }\n",
       "\n",
       "    .dataframe tbody tr th {\n",
       "        vertical-align: top;\n",
       "    }\n",
       "\n",
       "    .dataframe thead th {\n",
       "        text-align: right;\n",
       "    }\n",
       "</style>\n",
       "<table border=\"1\" class=\"dataframe\">\n",
       "  <thead>\n",
       "    <tr style=\"text-align: right;\">\n",
       "      <th></th>\n",
       "      <th>Age</th>\n",
       "    </tr>\n",
       "  </thead>\n",
       "  <tbody>\n",
       "    <tr>\n",
       "      <th>count</th>\n",
       "      <td>5.000000</td>\n",
       "    </tr>\n",
       "    <tr>\n",
       "      <th>mean</th>\n",
       "      <td>28.000000</td>\n",
       "    </tr>\n",
       "    <tr>\n",
       "      <th>std</th>\n",
       "      <td>4.062019</td>\n",
       "    </tr>\n",
       "    <tr>\n",
       "      <th>min</th>\n",
       "      <td>24.000000</td>\n",
       "    </tr>\n",
       "    <tr>\n",
       "      <th>25%</th>\n",
       "      <td>25.000000</td>\n",
       "    </tr>\n",
       "    <tr>\n",
       "      <th>50%</th>\n",
       "      <td>27.000000</td>\n",
       "    </tr>\n",
       "    <tr>\n",
       "      <th>75%</th>\n",
       "      <td>30.000000</td>\n",
       "    </tr>\n",
       "    <tr>\n",
       "      <th>max</th>\n",
       "      <td>34.000000</td>\n",
       "    </tr>\n",
       "  </tbody>\n",
       "</table>\n",
       "</div>"
      ],
      "text/plain": [
       "             Age\n",
       "count   5.000000\n",
       "mean   28.000000\n",
       "std     4.062019\n",
       "min    24.000000\n",
       "25%    25.000000\n",
       "50%    27.000000\n",
       "75%    30.000000\n",
       "max    34.000000"
      ]
     },
     "execution_count": 26,
     "metadata": {},
     "output_type": "execute_result"
    }
   ],
   "source": [
    "#3. describe():\n",
    "# Get summary statistics of numerical columns\n",
    "sheet.describe()"
   ]
  },
  {
   "cell_type": "code",
   "execution_count": 27,
   "id": "7df90696-ba20-48e7-ab47-fbdf21c6e021",
   "metadata": {},
   "outputs": [
    {
     "name": "stderr",
     "output_type": "stream",
     "text": [
      "/tmp/ipykernel_1552/4006608371.py:3: FutureWarning: The default value of numeric_only in DataFrameGroupBy.mean is deprecated. In a future version, numeric_only will default to False. Either specify numeric_only or select only columns which should be valid for the function.\n",
      "  sheet.groupby('Gender').mean()\n"
     ]
    },
    {
     "data": {
      "text/html": [
       "<div>\n",
       "<style scoped>\n",
       "    .dataframe tbody tr th:only-of-type {\n",
       "        vertical-align: middle;\n",
       "    }\n",
       "\n",
       "    .dataframe tbody tr th {\n",
       "        vertical-align: top;\n",
       "    }\n",
       "\n",
       "    .dataframe thead th {\n",
       "        text-align: right;\n",
       "    }\n",
       "</style>\n",
       "<table border=\"1\" class=\"dataframe\">\n",
       "  <thead>\n",
       "    <tr style=\"text-align: right;\">\n",
       "      <th></th>\n",
       "      <th>Age</th>\n",
       "    </tr>\n",
       "    <tr>\n",
       "      <th>Gender</th>\n",
       "      <th></th>\n",
       "    </tr>\n",
       "  </thead>\n",
       "  <tbody>\n",
       "    <tr>\n",
       "      <th>Female</th>\n",
       "      <td>25.333333</td>\n",
       "    </tr>\n",
       "    <tr>\n",
       "      <th>Male</th>\n",
       "      <td>32.000000</td>\n",
       "    </tr>\n",
       "  </tbody>\n",
       "</table>\n",
       "</div>"
      ],
      "text/plain": [
       "              Age\n",
       "Gender           \n",
       "Female  25.333333\n",
       "Male    32.000000"
      ]
     },
     "execution_count": 27,
     "metadata": {},
     "output_type": "execute_result"
    }
   ],
   "source": [
    "#4. groupby():\n",
    "# Split data into groups based on Gender and calculate mean Age for each group\n",
    "sheet.groupby('Gender').mean()"
   ]
  },
  {
   "cell_type": "code",
   "execution_count": 32,
   "id": "a76cb9c7-b2ed-4ba7-9150-5943a5d51bff",
   "metadata": {},
   "outputs": [
    {
     "data": {
      "text/html": [
       "<div>\n",
       "<style scoped>\n",
       "    .dataframe tbody tr th:only-of-type {\n",
       "        vertical-align: middle;\n",
       "    }\n",
       "\n",
       "    .dataframe tbody tr th {\n",
       "        vertical-align: top;\n",
       "    }\n",
       "\n",
       "    .dataframe thead th {\n",
       "        text-align: right;\n",
       "    }\n",
       "</style>\n",
       "<table border=\"1\" class=\"dataframe\">\n",
       "  <thead>\n",
       "    <tr style=\"text-align: right;\">\n",
       "      <th></th>\n",
       "      <th>Name</th>\n",
       "      <th>Gender</th>\n",
       "    </tr>\n",
       "  </thead>\n",
       "  <tbody>\n",
       "    <tr>\n",
       "      <th>0</th>\n",
       "      <td>Alice</td>\n",
       "      <td>Female</td>\n",
       "    </tr>\n",
       "    <tr>\n",
       "      <th>1</th>\n",
       "      <td>Bab</td>\n",
       "      <td>Male</td>\n",
       "    </tr>\n",
       "    <tr>\n",
       "      <th>2</th>\n",
       "      <td>Claire</td>\n",
       "      <td>Female</td>\n",
       "    </tr>\n",
       "    <tr>\n",
       "      <th>3</th>\n",
       "      <td>David</td>\n",
       "      <td>Male</td>\n",
       "    </tr>\n",
       "    <tr>\n",
       "      <th>4</th>\n",
       "      <td>Eve</td>\n",
       "      <td>Female</td>\n",
       "    </tr>\n",
       "  </tbody>\n",
       "</table>\n",
       "</div>"
      ],
      "text/plain": [
       "     Name  Gender\n",
       "0   Alice  Female\n",
       "1     Bab    Male\n",
       "2  Claire  Female\n",
       "3   David    Male\n",
       "4     Eve  Female"
      ]
     },
     "execution_count": 32,
     "metadata": {},
     "output_type": "execute_result"
    }
   ],
   "source": [
    "#5. drop() it is used the remove the column from the data frame\n",
    "sheet.drop([\"Age\"],axis=1)\n"
   ]
  },
  {
   "cell_type": "markdown",
   "id": "6e56342c-f52e-4c23-8a5e-3ccf4ba5ea9a",
   "metadata": {},
   "source": [
    "Q6.Which of the following is mutable in nature Series,DataFrame,Panel?"
   ]
  },
  {
   "cell_type": "markdown",
   "id": "c605c735-aec6-4c16-846f-2765236f11e7",
   "metadata": {},
   "source": [
    "Solution:DataFrame and Panel are mutable in nature ,mean they can modifed after creation and series is not mutable in nature."
   ]
  },
  {
   "cell_type": "markdown",
   "id": "4fc37d69-5372-4f5f-bc4d-e83e7ceb3d1a",
   "metadata": {},
   "source": [
    "Q7. Create a DataFrame using multiple series.Explain with an example."
   ]
  },
  {
   "cell_type": "code",
   "execution_count": 38,
   "id": "1d614266-345e-48dd-af29-7b9df5109237",
   "metadata": {},
   "outputs": [
    {
     "data": {
      "text/html": [
       "<div>\n",
       "<style scoped>\n",
       "    .dataframe tbody tr th:only-of-type {\n",
       "        vertical-align: middle;\n",
       "    }\n",
       "\n",
       "    .dataframe tbody tr th {\n",
       "        vertical-align: top;\n",
       "    }\n",
       "\n",
       "    .dataframe thead th {\n",
       "        text-align: right;\n",
       "    }\n",
       "</style>\n",
       "<table border=\"1\" class=\"dataframe\">\n",
       "  <thead>\n",
       "    <tr style=\"text-align: right;\">\n",
       "      <th></th>\n",
       "      <th>Namw</th>\n",
       "      <th>Gender</th>\n",
       "      <th>Age</th>\n",
       "      <th>Score</th>\n",
       "    </tr>\n",
       "  </thead>\n",
       "  <tbody>\n",
       "    <tr>\n",
       "      <th>0</th>\n",
       "      <td>vishal</td>\n",
       "      <td>male</td>\n",
       "      <td>23</td>\n",
       "      <td>23</td>\n",
       "    </tr>\n",
       "    <tr>\n",
       "      <th>1</th>\n",
       "      <td>ravi</td>\n",
       "      <td>male</td>\n",
       "      <td>24</td>\n",
       "      <td>45</td>\n",
       "    </tr>\n",
       "    <tr>\n",
       "      <th>2</th>\n",
       "      <td>sanskriti</td>\n",
       "      <td>female</td>\n",
       "      <td>22</td>\n",
       "      <td>56</td>\n",
       "    </tr>\n",
       "    <tr>\n",
       "      <th>3</th>\n",
       "      <td>khushi</td>\n",
       "      <td>female</td>\n",
       "      <td>22</td>\n",
       "      <td>67</td>\n",
       "    </tr>\n",
       "    <tr>\n",
       "      <th>4</th>\n",
       "      <td>mohan</td>\n",
       "      <td>male</td>\n",
       "      <td>33</td>\n",
       "      <td>34</td>\n",
       "    </tr>\n",
       "  </tbody>\n",
       "</table>\n",
       "</div>"
      ],
      "text/plain": [
       "        Namw  Gender  Age  Score\n",
       "0     vishal    male   23     23\n",
       "1       ravi    male   24     45\n",
       "2  sanskriti  female   22     56\n",
       "3     khushi  female   22     67\n",
       "4      mohan    male   33     34"
      ]
     },
     "execution_count": 38,
     "metadata": {},
     "output_type": "execute_result"
    }
   ],
   "source": [
    "import pandas as pd \n",
    "a=[\"vishal\",\"ravi\",\"sanskriti\",\"khushi\",\"mohan\"]\n",
    "b=[\"male\",\"male\",\"female\",\"female\",\"male\"]\n",
    "c=[23,24,22,22,33]\n",
    "n=pd.Series(a)\n",
    "g=pd.Series(b)\n",
    "l=pd.Series(c)\n",
    "frame={\n",
    "    \"Namw\":n,\n",
    "    \"Gender\":g,\n",
    "    \"Age\":l\n",
    "}\n",
    "data=pd.DataFrame(frame)\n",
    "score=[23,45,56,67,34]\n",
    "data[\"Score\"]=pd.Series(score)\n",
    "data"
   ]
  },
  {
   "cell_type": "code",
   "execution_count": null,
   "id": "1188edac-aa3f-4d2b-9f59-f2b10e64f8a1",
   "metadata": {},
   "outputs": [],
   "source": []
  }
 ],
 "metadata": {
  "kernelspec": {
   "display_name": "Python 3 (ipykernel)",
   "language": "python",
   "name": "python3"
  },
  "language_info": {
   "codemirror_mode": {
    "name": "ipython",
    "version": 3
   },
   "file_extension": ".py",
   "mimetype": "text/x-python",
   "name": "python",
   "nbconvert_exporter": "python",
   "pygments_lexer": "ipython3",
   "version": "3.10.8"
  }
 },
 "nbformat": 4,
 "nbformat_minor": 5
}
