{
 "cells": [
  {
   "cell_type": "code",
   "execution_count": 2,
   "id": "235cdc74-8978-4e71-946a-b8567f27dade",
   "metadata": {},
   "outputs": [
    {
     "name": "stdout",
     "output_type": "stream",
     "text": [
      "pwskills\n"
     ]
    }
   ],
   "source": [
    "#Question 1\n",
    "# there are three different types of method to comment the code\n",
    "# 1. single line comment code\n",
    "# In this type comment the single code\n",
    "# example\n",
    "# 'a' variable have a string \n",
    "a = \"pwskills\"\n",
    "print(a)"
   ]
  },
  {
   "cell_type": "code",
   "execution_count": 3,
   "id": "b854739b-c553-42ad-bf3a-a4fcf28e901f",
   "metadata": {},
   "outputs": [
    {
     "name": "stdout",
     "output_type": "stream",
     "text": [
      "77\n"
     ]
    }
   ],
   "source": [
    "# 2. multiple line comment\n",
    "# b has a integer value\n",
    "# c has a integer value \n",
    "#if we plus the b and c we get intger vaule\n",
    "b = 33\n",
    "c = 44\n",
    "print(b+c)"
   ]
  },
  {
   "cell_type": "code",
   "execution_count": 13,
   "id": "02717a6b-b4d4-464e-ba9e-4caa7ecca8c2",
   "metadata": {},
   "outputs": [
    {
     "name": "stdout",
     "output_type": "stream",
     "text": [
      "Hello, World!\n"
     ]
    }
   ],
   "source": [
    "# 3. Docstring comment code \n",
    "# we use \"\"\" triple quotes in this type of comment \n",
    "# example \n",
    "\n",
    "\n",
    "\"\"\"\n",
    "when we have to \n",
    "comment more \n",
    "than one line\n",
    "then we use this\n",
    "\"\"\"\n",
    "print(\"Hello, World!\") \n",
    "\n"
   ]
  },
  {
   "cell_type": "code",
   "execution_count": 16,
   "id": "dc0154d4-422f-47c0-b276-76bdb56f6923",
   "metadata": {},
   "outputs": [
    {
     "data": {
      "text/plain": [
       "str"
      ]
     },
     "execution_count": 16,
     "metadata": {},
     "output_type": "execute_result"
    }
   ],
   "source": [
    "# Question  2\n",
    "# variables we assign the vaules to the variable \n",
    "# like a = 5\n",
    "# where \"=\" is the sign of assigning now 'a' has a value inside it.\n",
    "# example\n",
    "a = \"pwskills\"\n",
    "b = 1324124\n",
    "c = 22.333\n",
    "# python undunderstand automatically what is inside the variable\n",
    "type(a)"
   ]
  },
  {
   "cell_type": "code",
   "execution_count": 17,
   "id": "0950a65f-c42e-47d0-931d-c4a624d6520c",
   "metadata": {},
   "outputs": [
    {
     "data": {
      "text/plain": [
       "int"
      ]
     },
     "execution_count": 17,
     "metadata": {},
     "output_type": "execute_result"
    }
   ],
   "source": [
    "type(b)"
   ]
  },
  {
   "cell_type": "code",
   "execution_count": 18,
   "id": "241ae1fc-5345-4510-92c0-0ae3f5c9691b",
   "metadata": {},
   "outputs": [
    {
     "data": {
      "text/plain": [
       "float"
      ]
     },
     "execution_count": 18,
     "metadata": {},
     "output_type": "execute_result"
    }
   ],
   "source": [
    "type(c)"
   ]
  },
  {
   "cell_type": "code",
   "execution_count": 19,
   "id": "78cb364e-24c2-4e7b-a844-62389be28cd1",
   "metadata": {},
   "outputs": [],
   "source": [
    "# Question 3\n",
    "l=[1,2,3,4,5,6,7,8,9,0]"
   ]
  },
  {
   "cell_type": "code",
   "execution_count": 20,
   "id": "f88495f9-7a52-48fe-a171-aa5a0c6c0561",
   "metadata": {},
   "outputs": [
    {
     "data": {
      "text/plain": [
       "list"
      ]
     },
     "execution_count": 20,
     "metadata": {},
     "output_type": "execute_result"
    }
   ],
   "source": [
    "type(l)"
   ]
  },
  {
   "cell_type": "code",
   "execution_count": 23,
   "id": "57c94ec4-8bec-4815-8db2-70a5321d3b63",
   "metadata": {},
   "outputs": [
    {
     "name": "stdout",
     "output_type": "stream",
     "text": [
      "(1, 2, 3, 4, 5, 6, 7, 8, 9, 0)\n"
     ]
    }
   ],
   "source": [
    "l1 = tuple(l)\n",
    "print(l1)"
   ]
  },
  {
   "cell_type": "code",
   "execution_count": 25,
   "id": "6f00d07b-1636-4cec-bfcc-b662ed309454",
   "metadata": {},
   "outputs": [
    {
     "data": {
      "text/plain": [
       "tuple"
      ]
     },
     "execution_count": 25,
     "metadata": {},
     "output_type": "execute_result"
    }
   ],
   "source": [
    "type(l1)"
   ]
  },
  {
   "cell_type": "code",
   "execution_count": 26,
   "id": "3d78ebc8-5125-4d75-8e85-4693a6c13cc4",
   "metadata": {},
   "outputs": [],
   "source": [
    "# this how we can covert one data type to another data type"
   ]
  },
  {
   "cell_type": "code",
   "execution_count": 27,
   "id": "6d2df8de-7f94-4de7-9de7-5f2bd777a402",
   "metadata": {},
   "outputs": [],
   "source": [
    "# Question 4\n",
    "# firstly we have to open the command line terminal \n",
    "# then we have to type the 'python' in the cmd teterminal \n",
    "# after that python REPL (Read, Evaluate, Print, Loop) will start in python\n",
    "# and REPL work as calculator..\n",
    "# this how we can run the [ython script in command line "
   ]
  },
  {
   "cell_type": "code",
   "execution_count": null,
   "id": "032193b3-7aab-4b33-86c6-62e1e36ed600",
   "metadata": {},
   "outputs": [],
   "source": []
  },
  {
   "cell_type": "code",
   "execution_count": 55,
   "id": "47d9ab25-fb50-4abd-b186-a4b727c27ea2",
   "metadata": {},
   "outputs": [
    {
     "name": "stdout",
     "output_type": "stream",
     "text": [
      "[[2, 3]]\n"
     ]
    }
   ],
   "source": [
    "# Question 5\n",
    "my_list = [1, 2, 3, 4, 5]\n",
    "sub_list=[]\n",
    "sub_list.append(my_list[1:3])\n",
    "print(sub_list)"
   ]
  },
  {
   "cell_type": "code",
   "execution_count": 56,
   "id": "2ae15c00-600f-42f3-bf72-78266d21b1ee",
   "metadata": {},
   "outputs": [],
   "source": [
    "# Question 6\n",
    "# complex number in mathematics \n",
    "#  5+6j\n",
    "# where j is an imaginary number\n",
    "# represented in python \n",
    "# example\n",
    "complex_number = (5+6j)+ (22+23j)\n"
   ]
  },
  {
   "cell_type": "code",
   "execution_count": 57,
   "id": "63c7afd3-2ad7-48e9-a5da-8cc5bb27a064",
   "metadata": {},
   "outputs": [
    {
     "data": {
      "text/plain": [
       "complex"
      ]
     },
     "execution_count": 57,
     "metadata": {},
     "output_type": "execute_result"
    }
   ],
   "source": [
    "type(complex_number)"
   ]
  },
  {
   "cell_type": "code",
   "execution_count": 58,
   "id": "59e98774-03ba-4b44-9086-6bceefc1f21c",
   "metadata": {},
   "outputs": [],
   "source": [
    "# Question 7\n",
    "# by declaring the variable age then assign the vale 25\n",
    "age = 25"
   ]
  },
  {
   "cell_type": "code",
   "execution_count": 59,
   "id": "30829ab9-b779-46d0-8114-399202d3ce85",
   "metadata": {},
   "outputs": [
    {
     "data": {
      "text/plain": [
       "float"
      ]
     },
     "execution_count": 59,
     "metadata": {},
     "output_type": "execute_result"
    }
   ],
   "source": [
    "#Question 8\n",
    "\n",
    "price=9.99\n",
    "type(price)\n"
   ]
  },
  {
   "cell_type": "code",
   "execution_count": 60,
   "id": "00708daa-36eb-4394-acf9-ce4b8c007c24",
   "metadata": {},
   "outputs": [],
   "source": [
    "# it belong tp float data type"
   ]
  },
  {
   "cell_type": "code",
   "execution_count": 61,
   "id": "4bd592aa-8a8a-467b-a149-e4812d39b766",
   "metadata": {},
   "outputs": [
    {
     "name": "stdout",
     "output_type": "stream",
     "text": [
      "vishal kumar\n"
     ]
    }
   ],
   "source": [
    "# Question 9\n",
    "name = \"vishal kumar\"\n",
    "print(name)"
   ]
  },
  {
   "cell_type": "code",
   "execution_count": 1,
   "id": "0850e8b1-7e0c-4338-9144-366ddbe17e55",
   "metadata": {},
   "outputs": [
    {
     "name": "stdout",
     "output_type": "stream",
     "text": [
      "World\n"
     ]
    }
   ],
   "source": [
    "# Question 10\n",
    "task = \"Hello, World!\"\n",
    "print(task[7:12])"
   ]
  },
  {
   "cell_type": "code",
   "execution_count": 6,
   "id": "90518a8a-f0e9-492f-916d-491037bf7626",
   "metadata": {},
   "outputs": [],
   "source": [
    "# Question 11\n",
    "\n",
    "is_student= True # if you are a student\n",
    "is_student= False # if you are not a student"
   ]
  },
  {
   "cell_type": "code",
   "execution_count": null,
   "id": "d03ca9df-b321-4e32-8d7c-c4cf49c39f3c",
   "metadata": {},
   "outputs": [],
   "source": []
  },
  {
   "cell_type": "code",
   "execution_count": null,
   "id": "a648a9e1-3c65-41f3-ab10-b335a86cdf42",
   "metadata": {},
   "outputs": [],
   "source": []
  }
 ],
 "metadata": {
  "kernelspec": {
   "display_name": "Python 3 (ipykernel)",
   "language": "python",
   "name": "python3"
  },
  "language_info": {
   "codemirror_mode": {
    "name": "ipython",
    "version": 3
   },
   "file_extension": ".py",
   "mimetype": "text/x-python",
   "name": "python",
   "nbconvert_exporter": "python",
   "pygments_lexer": "ipython3",
   "version": "3.10.8"
  }
 },
 "nbformat": 4,
 "nbformat_minor": 5
}
