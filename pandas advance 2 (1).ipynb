{
 "cells": [
  {
   "cell_type": "code",
   "execution_count": 1,
   "id": "ef9e313d-870c-442e-bc1c-db03e0d5c3d4",
   "metadata": {},
   "outputs": [],
   "source": [
    "#Consider following code to answer further questions:\n",
    "import pandas as pd\n",
    "course_name = ['Data Science', 'Machine Learning', 'Big Data', 'Data Engineer']\n",
    "duration = [2,3,6,4]\n",
    "df = pd.DataFrame(data = {'course_name' : course_name, 'duration' : duration})"
   ]
  },
  {
   "cell_type": "markdown",
   "id": "0750d921-874f-4600-a2d9-5b23474b94f8",
   "metadata": {},
   "source": [
    "Q1. Write a code to print the data present in the second row of the dataframe, df."
   ]
  },
  {
   "cell_type": "code",
   "execution_count": 2,
   "id": "c0a1f66a-73bc-41b3-ba28-cb7386876d2c",
   "metadata": {},
   "outputs": [
    {
     "data": {
      "text/html": [
       "<div>\n",
       "<style scoped>\n",
       "    .dataframe tbody tr th:only-of-type {\n",
       "        vertical-align: middle;\n",
       "    }\n",
       "\n",
       "    .dataframe tbody tr th {\n",
       "        vertical-align: top;\n",
       "    }\n",
       "\n",
       "    .dataframe thead th {\n",
       "        text-align: right;\n",
       "    }\n",
       "</style>\n",
       "<table border=\"1\" class=\"dataframe\">\n",
       "  <thead>\n",
       "    <tr style=\"text-align: right;\">\n",
       "      <th></th>\n",
       "      <th>course_name</th>\n",
       "      <th>duration</th>\n",
       "    </tr>\n",
       "  </thead>\n",
       "  <tbody>\n",
       "    <tr>\n",
       "      <th>0</th>\n",
       "      <td>Data Science</td>\n",
       "      <td>2</td>\n",
       "    </tr>\n",
       "    <tr>\n",
       "      <th>1</th>\n",
       "      <td>Machine Learning</td>\n",
       "      <td>3</td>\n",
       "    </tr>\n",
       "    <tr>\n",
       "      <th>2</th>\n",
       "      <td>Big Data</td>\n",
       "      <td>6</td>\n",
       "    </tr>\n",
       "    <tr>\n",
       "      <th>3</th>\n",
       "      <td>Data Engineer</td>\n",
       "      <td>4</td>\n",
       "    </tr>\n",
       "  </tbody>\n",
       "</table>\n",
       "</div>"
      ],
      "text/plain": [
       "        course_name  duration\n",
       "0      Data Science         2\n",
       "1  Machine Learning         3\n",
       "2          Big Data         6\n",
       "3     Data Engineer         4"
      ]
     },
     "execution_count": 2,
     "metadata": {},
     "output_type": "execute_result"
    }
   ],
   "source": [
    "df"
   ]
  },
  {
   "cell_type": "code",
   "execution_count": 3,
   "id": "7ed72577-5d6f-4d0a-ab1a-af5c5f128753",
   "metadata": {},
   "outputs": [
    {
     "data": {
      "text/html": [
       "<div>\n",
       "<style scoped>\n",
       "    .dataframe tbody tr th:only-of-type {\n",
       "        vertical-align: middle;\n",
       "    }\n",
       "\n",
       "    .dataframe tbody tr th {\n",
       "        vertical-align: top;\n",
       "    }\n",
       "\n",
       "    .dataframe thead th {\n",
       "        text-align: right;\n",
       "    }\n",
       "</style>\n",
       "<table border=\"1\" class=\"dataframe\">\n",
       "  <thead>\n",
       "    <tr style=\"text-align: right;\">\n",
       "      <th></th>\n",
       "      <th>course_name</th>\n",
       "      <th>duration</th>\n",
       "    </tr>\n",
       "  </thead>\n",
       "  <tbody>\n",
       "    <tr>\n",
       "      <th>1</th>\n",
       "      <td>Machine Learning</td>\n",
       "      <td>3</td>\n",
       "    </tr>\n",
       "  </tbody>\n",
       "</table>\n",
       "</div>"
      ],
      "text/plain": [
       "        course_name  duration\n",
       "1  Machine Learning         3"
      ]
     },
     "execution_count": 3,
     "metadata": {},
     "output_type": "execute_result"
    }
   ],
   "source": [
    "df[1:2]"
   ]
  },
  {
   "cell_type": "markdown",
   "id": "35197dfc-9182-489f-b9df-7f8a90c07507",
   "metadata": {},
   "source": [
    "Q2. What is the difference between the functions loc and iloc in pandas.DataFrame?"
   ]
  },
  {
   "cell_type": "code",
   "execution_count": 4,
   "id": "57e41a56-c9f3-4049-ad0b-80069a82168c",
   "metadata": {},
   "outputs": [
    {
     "data": {
      "text/plain": [
       "'Data Science'"
      ]
     },
     "execution_count": 4,
     "metadata": {},
     "output_type": "execute_result"
    }
   ],
   "source": [
    "# loc is a label based, which means you can access dataframe with name of row and columns\n",
    "df.loc[0,\"course_name\"]\n"
   ]
  },
  {
   "cell_type": "code",
   "execution_count": 5,
   "id": "7d9aff10-dced-4dd6-8ca3-29c3d1552c4d",
   "metadata": {},
   "outputs": [
    {
     "data": {
      "text/plain": [
       "'Data Science'"
      ]
     },
     "execution_count": 5,
     "metadata": {},
     "output_type": "execute_result"
    }
   ],
   "source": [
    "# iloc is a integer based, which means we have to give command in integer format to access the datafame\n",
    "df.iloc[0,0]"
   ]
  },
  {
   "cell_type": "markdown",
   "id": "80d56e0c-dc13-46ca-b268-d84ba754039d",
   "metadata": {},
   "source": [
    "Q3. Reindex the given dataframe using a variable, reindex = [3,0,1,2] and store it in the variable, new_df\n",
    "then find the output for both new_df.loc[2] and new_df.iloc[2].Did you observe any difference in both the outputs? If so then explain it."
   ]
  },
  {
   "cell_type": "code",
   "execution_count": 6,
   "id": "d50fad06-60ad-40b4-ac4b-1a625ddef5bc",
   "metadata": {},
   "outputs": [],
   "source": [
    "reindex=[3,0,1,2]"
   ]
  },
  {
   "cell_type": "code",
   "execution_count": 7,
   "id": "b04b2dfd-2f6c-40c0-9b6d-0f067b6f3859",
   "metadata": {},
   "outputs": [],
   "source": [
    "new_df=df.reindex(reindex)"
   ]
  },
  {
   "cell_type": "code",
   "execution_count": 8,
   "id": "c34a8cdb-b22a-4126-ab2d-c502457d2689",
   "metadata": {},
   "outputs": [
    {
     "data": {
      "text/html": [
       "<div>\n",
       "<style scoped>\n",
       "    .dataframe tbody tr th:only-of-type {\n",
       "        vertical-align: middle;\n",
       "    }\n",
       "\n",
       "    .dataframe tbody tr th {\n",
       "        vertical-align: top;\n",
       "    }\n",
       "\n",
       "    .dataframe thead th {\n",
       "        text-align: right;\n",
       "    }\n",
       "</style>\n",
       "<table border=\"1\" class=\"dataframe\">\n",
       "  <thead>\n",
       "    <tr style=\"text-align: right;\">\n",
       "      <th></th>\n",
       "      <th>course_name</th>\n",
       "      <th>duration</th>\n",
       "    </tr>\n",
       "  </thead>\n",
       "  <tbody>\n",
       "    <tr>\n",
       "      <th>3</th>\n",
       "      <td>Data Engineer</td>\n",
       "      <td>4</td>\n",
       "    </tr>\n",
       "    <tr>\n",
       "      <th>0</th>\n",
       "      <td>Data Science</td>\n",
       "      <td>2</td>\n",
       "    </tr>\n",
       "    <tr>\n",
       "      <th>1</th>\n",
       "      <td>Machine Learning</td>\n",
       "      <td>3</td>\n",
       "    </tr>\n",
       "    <tr>\n",
       "      <th>2</th>\n",
       "      <td>Big Data</td>\n",
       "      <td>6</td>\n",
       "    </tr>\n",
       "  </tbody>\n",
       "</table>\n",
       "</div>"
      ],
      "text/plain": [
       "        course_name  duration\n",
       "3     Data Engineer         4\n",
       "0      Data Science         2\n",
       "1  Machine Learning         3\n",
       "2          Big Data         6"
      ]
     },
     "execution_count": 8,
     "metadata": {},
     "output_type": "execute_result"
    }
   ],
   "source": [
    "new_df"
   ]
  },
  {
   "cell_type": "code",
   "execution_count": 9,
   "id": "47cd80a5-54f9-4062-96f3-a2520435b6dd",
   "metadata": {},
   "outputs": [
    {
     "data": {
      "text/plain": [
       "course_name    Big Data\n",
       "duration              6\n",
       "Name: 2, dtype: object"
      ]
     },
     "execution_count": 9,
     "metadata": {},
     "output_type": "execute_result"
    }
   ],
   "source": [
    "new_df.loc[2] # it is showing through the index numbering big data has the 2 number thats why it show the big data"
   ]
  },
  {
   "cell_type": "code",
   "execution_count": 10,
   "id": "13b13b83-26c2-40a3-98a3-e2ab5b896a82",
   "metadata": {},
   "outputs": [
    {
     "data": {
      "text/plain": [
       "course_name    Machine Learning\n",
       "duration                      3\n",
       "Name: 1, dtype: object"
      ]
     },
     "execution_count": 10,
     "metadata": {},
     "output_type": "execute_result"
    }
   ],
   "source": [
    "new_df.iloc[2] # it  is showing through the default index which it have in the table"
   ]
  },
  {
   "cell_type": "markdown",
   "id": "8adf907d-c6e3-4a94-94b0-0dabd4798bf7",
   "metadata": {},
   "source": [
    "Consider the below code to answer further questions:\n"
   ]
  },
  {
   "cell_type": "code",
   "execution_count": 11,
   "id": "a15be633-e2b0-4a96-a616-e3d01f3568cb",
   "metadata": {},
   "outputs": [],
   "source": [
    "import pandas as pd\n",
    "import numpy as np\n",
    "columns = ['column_1', 'column_2', 'column_3', 'column_4', 'column_5', 'column_6']\n",
    "indices = [1,2,3,4,5,6]\n",
    "#Creating a dataframe:\n",
    "df1 = pd.DataFrame(np.random.rand(6,6), columns = columns, index = indices)"
   ]
  },
  {
   "cell_type": "markdown",
   "id": "4d5f26d5-52a0-4322-bda8-be5376ecb6a1",
   "metadata": {},
   "source": [
    "Q4. Write a code to find the following statistical measurements for the above dataframe df1:\n",
    "(i) mean of each and every column present in the dataframe.\n",
    "(ii) standard deviation of column, ‘column_2’"
   ]
  },
  {
   "cell_type": "code",
   "execution_count": 12,
   "id": "48b5c8b2-5494-4833-bb52-db6490e9089c",
   "metadata": {},
   "outputs": [
    {
     "data": {
      "text/html": [
       "<div>\n",
       "<style scoped>\n",
       "    .dataframe tbody tr th:only-of-type {\n",
       "        vertical-align: middle;\n",
       "    }\n",
       "\n",
       "    .dataframe tbody tr th {\n",
       "        vertical-align: top;\n",
       "    }\n",
       "\n",
       "    .dataframe thead th {\n",
       "        text-align: right;\n",
       "    }\n",
       "</style>\n",
       "<table border=\"1\" class=\"dataframe\">\n",
       "  <thead>\n",
       "    <tr style=\"text-align: right;\">\n",
       "      <th></th>\n",
       "      <th>column_1</th>\n",
       "      <th>column_2</th>\n",
       "      <th>column_3</th>\n",
       "      <th>column_4</th>\n",
       "      <th>column_5</th>\n",
       "      <th>column_6</th>\n",
       "    </tr>\n",
       "  </thead>\n",
       "  <tbody>\n",
       "    <tr>\n",
       "      <th>1</th>\n",
       "      <td>0.656511</td>\n",
       "      <td>0.732702</td>\n",
       "      <td>0.398763</td>\n",
       "      <td>0.019259</td>\n",
       "      <td>0.051946</td>\n",
       "      <td>0.550066</td>\n",
       "    </tr>\n",
       "    <tr>\n",
       "      <th>2</th>\n",
       "      <td>0.686316</td>\n",
       "      <td>0.424274</td>\n",
       "      <td>0.628634</td>\n",
       "      <td>0.830415</td>\n",
       "      <td>0.520183</td>\n",
       "      <td>0.247699</td>\n",
       "    </tr>\n",
       "    <tr>\n",
       "      <th>3</th>\n",
       "      <td>0.866775</td>\n",
       "      <td>0.537801</td>\n",
       "      <td>0.226661</td>\n",
       "      <td>0.599207</td>\n",
       "      <td>0.577833</td>\n",
       "      <td>0.993441</td>\n",
       "    </tr>\n",
       "    <tr>\n",
       "      <th>4</th>\n",
       "      <td>0.384531</td>\n",
       "      <td>0.577294</td>\n",
       "      <td>0.498392</td>\n",
       "      <td>0.455970</td>\n",
       "      <td>0.264020</td>\n",
       "      <td>0.858647</td>\n",
       "    </tr>\n",
       "    <tr>\n",
       "      <th>5</th>\n",
       "      <td>0.810974</td>\n",
       "      <td>0.922599</td>\n",
       "      <td>0.344568</td>\n",
       "      <td>0.706170</td>\n",
       "      <td>0.645026</td>\n",
       "      <td>0.351297</td>\n",
       "    </tr>\n",
       "    <tr>\n",
       "      <th>6</th>\n",
       "      <td>0.053384</td>\n",
       "      <td>0.387392</td>\n",
       "      <td>0.241169</td>\n",
       "      <td>0.524143</td>\n",
       "      <td>0.520990</td>\n",
       "      <td>0.496582</td>\n",
       "    </tr>\n",
       "  </tbody>\n",
       "</table>\n",
       "</div>"
      ],
      "text/plain": [
       "   column_1  column_2  column_3  column_4  column_5  column_6\n",
       "1  0.656511  0.732702  0.398763  0.019259  0.051946  0.550066\n",
       "2  0.686316  0.424274  0.628634  0.830415  0.520183  0.247699\n",
       "3  0.866775  0.537801  0.226661  0.599207  0.577833  0.993441\n",
       "4  0.384531  0.577294  0.498392  0.455970  0.264020  0.858647\n",
       "5  0.810974  0.922599  0.344568  0.706170  0.645026  0.351297\n",
       "6  0.053384  0.387392  0.241169  0.524143  0.520990  0.496582"
      ]
     },
     "execution_count": 12,
     "metadata": {},
     "output_type": "execute_result"
    }
   ],
   "source": [
    "df1"
   ]
  },
  {
   "cell_type": "code",
   "execution_count": 13,
   "id": "b7c76fe9-4cf1-4603-a9ba-0b79bc5581ba",
   "metadata": {},
   "outputs": [
    {
     "data": {
      "text/plain": [
       "0.5764150250754919"
      ]
     },
     "execution_count": 13,
     "metadata": {},
     "output_type": "execute_result"
    }
   ],
   "source": [
    "df1['column_1'].mean()"
   ]
  },
  {
   "cell_type": "code",
   "execution_count": 14,
   "id": "9056d337-15c5-4410-be87-babe0d41cfaf",
   "metadata": {},
   "outputs": [
    {
     "data": {
      "text/plain": [
       "0.5970106791418163"
      ]
     },
     "execution_count": 14,
     "metadata": {},
     "output_type": "execute_result"
    }
   ],
   "source": [
    "df1['column_2'].mean()"
   ]
  },
  {
   "cell_type": "code",
   "execution_count": 15,
   "id": "c564e02d-e643-4a78-82a5-0d77e3331384",
   "metadata": {},
   "outputs": [
    {
     "data": {
      "text/plain": [
       "0.3896978578003864"
      ]
     },
     "execution_count": 15,
     "metadata": {},
     "output_type": "execute_result"
    }
   ],
   "source": [
    "df1['column_3'].mean()"
   ]
  },
  {
   "cell_type": "code",
   "execution_count": 16,
   "id": "7a016e1c-3797-4cb6-a9cc-bffca8666628",
   "metadata": {},
   "outputs": [
    {
     "data": {
      "text/plain": [
       "0.5225272960125362"
      ]
     },
     "execution_count": 16,
     "metadata": {},
     "output_type": "execute_result"
    }
   ],
   "source": [
    "df1['column_4'].mean()"
   ]
  },
  {
   "cell_type": "code",
   "execution_count": 17,
   "id": "f86c73b8-560a-4958-937c-9244d988f79a",
   "metadata": {},
   "outputs": [
    {
     "data": {
      "text/plain": [
       "0.4299995658266598"
      ]
     },
     "execution_count": 17,
     "metadata": {},
     "output_type": "execute_result"
    }
   ],
   "source": [
    "df1['column_5'].mean()"
   ]
  },
  {
   "cell_type": "code",
   "execution_count": 18,
   "id": "8cbae265-ea6c-4891-9d17-d6c5030e8d52",
   "metadata": {},
   "outputs": [
    {
     "data": {
      "text/plain": [
       "0.5829553047901582"
      ]
     },
     "execution_count": 18,
     "metadata": {},
     "output_type": "execute_result"
    }
   ],
   "source": [
    "df1['column_6'].mean()"
   ]
  },
  {
   "cell_type": "code",
   "execution_count": 19,
   "id": "1eeb6ad8-9759-433d-addf-da1dfc240a95",
   "metadata": {},
   "outputs": [
    {
     "data": {
      "text/plain": [
       "0.20104342048123297"
      ]
     },
     "execution_count": 19,
     "metadata": {},
     "output_type": "execute_result"
    }
   ],
   "source": [
    "df1[\"column_2\"].std()"
   ]
  },
  {
   "cell_type": "markdown",
   "id": "0c7f4382-e816-421a-a299-55f9c4651aca",
   "metadata": {},
   "source": [
    "Q5. Replace the data present in the second row of column, ‘column_2’ by a string variable then find the\n",
    "mean of column, column_2.\n",
    "If you are getting errors in executing it then explain why.\n",
    "[Hint: To replace the data use df1.loc[] and equate this to string data of your choice.]"
   ]
  },
  {
   "cell_type": "code",
   "execution_count": 20,
   "id": "532a0b53-0d10-4851-986c-54e223bb4096",
   "metadata": {},
   "outputs": [
    {
     "data": {
      "text/html": [
       "<div>\n",
       "<style scoped>\n",
       "    .dataframe tbody tr th:only-of-type {\n",
       "        vertical-align: middle;\n",
       "    }\n",
       "\n",
       "    .dataframe tbody tr th {\n",
       "        vertical-align: top;\n",
       "    }\n",
       "\n",
       "    .dataframe thead th {\n",
       "        text-align: right;\n",
       "    }\n",
       "</style>\n",
       "<table border=\"1\" class=\"dataframe\">\n",
       "  <thead>\n",
       "    <tr style=\"text-align: right;\">\n",
       "      <th></th>\n",
       "      <th>column_1</th>\n",
       "      <th>column_2</th>\n",
       "      <th>column_3</th>\n",
       "      <th>column_4</th>\n",
       "      <th>column_5</th>\n",
       "      <th>column_6</th>\n",
       "    </tr>\n",
       "  </thead>\n",
       "  <tbody>\n",
       "    <tr>\n",
       "      <th>1</th>\n",
       "      <td>0.656511</td>\n",
       "      <td>0.732702</td>\n",
       "      <td>0.398763</td>\n",
       "      <td>0.019259</td>\n",
       "      <td>0.051946</td>\n",
       "      <td>0.550066</td>\n",
       "    </tr>\n",
       "    <tr>\n",
       "      <th>2</th>\n",
       "      <td>0.686316</td>\n",
       "      <td>0.424274</td>\n",
       "      <td>0.628634</td>\n",
       "      <td>0.830415</td>\n",
       "      <td>0.520183</td>\n",
       "      <td>0.247699</td>\n",
       "    </tr>\n",
       "    <tr>\n",
       "      <th>3</th>\n",
       "      <td>0.866775</td>\n",
       "      <td>0.537801</td>\n",
       "      <td>0.226661</td>\n",
       "      <td>0.599207</td>\n",
       "      <td>0.577833</td>\n",
       "      <td>0.993441</td>\n",
       "    </tr>\n",
       "    <tr>\n",
       "      <th>4</th>\n",
       "      <td>0.384531</td>\n",
       "      <td>0.577294</td>\n",
       "      <td>0.498392</td>\n",
       "      <td>0.455970</td>\n",
       "      <td>0.264020</td>\n",
       "      <td>0.858647</td>\n",
       "    </tr>\n",
       "    <tr>\n",
       "      <th>5</th>\n",
       "      <td>0.810974</td>\n",
       "      <td>0.922599</td>\n",
       "      <td>0.344568</td>\n",
       "      <td>0.706170</td>\n",
       "      <td>0.645026</td>\n",
       "      <td>0.351297</td>\n",
       "    </tr>\n",
       "    <tr>\n",
       "      <th>6</th>\n",
       "      <td>0.053384</td>\n",
       "      <td>0.387392</td>\n",
       "      <td>0.241169</td>\n",
       "      <td>0.524143</td>\n",
       "      <td>0.520990</td>\n",
       "      <td>0.496582</td>\n",
       "    </tr>\n",
       "  </tbody>\n",
       "</table>\n",
       "</div>"
      ],
      "text/plain": [
       "   column_1  column_2  column_3  column_4  column_5  column_6\n",
       "1  0.656511  0.732702  0.398763  0.019259  0.051946  0.550066\n",
       "2  0.686316  0.424274  0.628634  0.830415  0.520183  0.247699\n",
       "3  0.866775  0.537801  0.226661  0.599207  0.577833  0.993441\n",
       "4  0.384531  0.577294  0.498392  0.455970  0.264020  0.858647\n",
       "5  0.810974  0.922599  0.344568  0.706170  0.645026  0.351297\n",
       "6  0.053384  0.387392  0.241169  0.524143  0.520990  0.496582"
      ]
     },
     "execution_count": 20,
     "metadata": {},
     "output_type": "execute_result"
    }
   ],
   "source": [
    "df1"
   ]
  },
  {
   "cell_type": "code",
   "execution_count": 21,
   "id": "e854c6b2-ef62-4f62-8fdd-4b611efdadc8",
   "metadata": {},
   "outputs": [],
   "source": [
    "df1.loc[1,\"column_2\"]=\"string variable\""
   ]
  },
  {
   "cell_type": "code",
   "execution_count": 22,
   "id": "b7f3aa4a-1386-42c7-9c48-1846497e5fa5",
   "metadata": {},
   "outputs": [
    {
     "ename": "KeyError",
     "evalue": "(1, 'column_2')",
     "output_type": "error",
     "traceback": [
      "\u001b[0;31m---------------------------------------------------------------------------\u001b[0m",
      "\u001b[0;31mKeyError\u001b[0m                                  Traceback (most recent call last)",
      "File \u001b[0;32m/opt/conda/lib/python3.10/site-packages/pandas/core/indexes/base.py:3803\u001b[0m, in \u001b[0;36mIndex.get_loc\u001b[0;34m(self, key, method, tolerance)\u001b[0m\n\u001b[1;32m   3802\u001b[0m \u001b[38;5;28;01mtry\u001b[39;00m:\n\u001b[0;32m-> 3803\u001b[0m     \u001b[38;5;28;01mreturn\u001b[39;00m \u001b[38;5;28;43mself\u001b[39;49m\u001b[38;5;241;43m.\u001b[39;49m\u001b[43m_engine\u001b[49m\u001b[38;5;241;43m.\u001b[39;49m\u001b[43mget_loc\u001b[49m\u001b[43m(\u001b[49m\u001b[43mcasted_key\u001b[49m\u001b[43m)\u001b[49m\n\u001b[1;32m   3804\u001b[0m \u001b[38;5;28;01mexcept\u001b[39;00m \u001b[38;5;167;01mKeyError\u001b[39;00m \u001b[38;5;28;01mas\u001b[39;00m err:\n",
      "File \u001b[0;32m/opt/conda/lib/python3.10/site-packages/pandas/_libs/index.pyx:138\u001b[0m, in \u001b[0;36mpandas._libs.index.IndexEngine.get_loc\u001b[0;34m()\u001b[0m\n",
      "File \u001b[0;32m/opt/conda/lib/python3.10/site-packages/pandas/_libs/index.pyx:165\u001b[0m, in \u001b[0;36mpandas._libs.index.IndexEngine.get_loc\u001b[0;34m()\u001b[0m\n",
      "File \u001b[0;32mpandas/_libs/hashtable_class_helper.pxi:5745\u001b[0m, in \u001b[0;36mpandas._libs.hashtable.PyObjectHashTable.get_item\u001b[0;34m()\u001b[0m\n",
      "File \u001b[0;32mpandas/_libs/hashtable_class_helper.pxi:5753\u001b[0m, in \u001b[0;36mpandas._libs.hashtable.PyObjectHashTable.get_item\u001b[0;34m()\u001b[0m\n",
      "\u001b[0;31mKeyError\u001b[0m: (1, 'column_2')",
      "\nThe above exception was the direct cause of the following exception:\n",
      "\u001b[0;31mKeyError\u001b[0m                                  Traceback (most recent call last)",
      "Cell \u001b[0;32mIn[22], line 1\u001b[0m\n\u001b[0;32m----> 1\u001b[0m \u001b[43mdf1\u001b[49m\u001b[43m[\u001b[49m\u001b[38;5;241;43m1\u001b[39;49m\u001b[43m,\u001b[49m\u001b[38;5;124;43m'\u001b[39;49m\u001b[38;5;124;43mcolumn_2\u001b[39;49m\u001b[38;5;124;43m'\u001b[39;49m\u001b[43m]\u001b[49m\u001b[38;5;241m.\u001b[39mmean()\n",
      "File \u001b[0;32m/opt/conda/lib/python3.10/site-packages/pandas/core/frame.py:3805\u001b[0m, in \u001b[0;36mDataFrame.__getitem__\u001b[0;34m(self, key)\u001b[0m\n\u001b[1;32m   3803\u001b[0m \u001b[38;5;28;01mif\u001b[39;00m \u001b[38;5;28mself\u001b[39m\u001b[38;5;241m.\u001b[39mcolumns\u001b[38;5;241m.\u001b[39mnlevels \u001b[38;5;241m>\u001b[39m \u001b[38;5;241m1\u001b[39m:\n\u001b[1;32m   3804\u001b[0m     \u001b[38;5;28;01mreturn\u001b[39;00m \u001b[38;5;28mself\u001b[39m\u001b[38;5;241m.\u001b[39m_getitem_multilevel(key)\n\u001b[0;32m-> 3805\u001b[0m indexer \u001b[38;5;241m=\u001b[39m \u001b[38;5;28;43mself\u001b[39;49m\u001b[38;5;241;43m.\u001b[39;49m\u001b[43mcolumns\u001b[49m\u001b[38;5;241;43m.\u001b[39;49m\u001b[43mget_loc\u001b[49m\u001b[43m(\u001b[49m\u001b[43mkey\u001b[49m\u001b[43m)\u001b[49m\n\u001b[1;32m   3806\u001b[0m \u001b[38;5;28;01mif\u001b[39;00m is_integer(indexer):\n\u001b[1;32m   3807\u001b[0m     indexer \u001b[38;5;241m=\u001b[39m [indexer]\n",
      "File \u001b[0;32m/opt/conda/lib/python3.10/site-packages/pandas/core/indexes/base.py:3805\u001b[0m, in \u001b[0;36mIndex.get_loc\u001b[0;34m(self, key, method, tolerance)\u001b[0m\n\u001b[1;32m   3803\u001b[0m     \u001b[38;5;28;01mreturn\u001b[39;00m \u001b[38;5;28mself\u001b[39m\u001b[38;5;241m.\u001b[39m_engine\u001b[38;5;241m.\u001b[39mget_loc(casted_key)\n\u001b[1;32m   3804\u001b[0m \u001b[38;5;28;01mexcept\u001b[39;00m \u001b[38;5;167;01mKeyError\u001b[39;00m \u001b[38;5;28;01mas\u001b[39;00m err:\n\u001b[0;32m-> 3805\u001b[0m     \u001b[38;5;28;01mraise\u001b[39;00m \u001b[38;5;167;01mKeyError\u001b[39;00m(key) \u001b[38;5;28;01mfrom\u001b[39;00m \u001b[38;5;21;01merr\u001b[39;00m\n\u001b[1;32m   3806\u001b[0m \u001b[38;5;28;01mexcept\u001b[39;00m \u001b[38;5;167;01mTypeError\u001b[39;00m:\n\u001b[1;32m   3807\u001b[0m     \u001b[38;5;66;03m# If we have a listlike key, _check_indexing_error will raise\u001b[39;00m\n\u001b[1;32m   3808\u001b[0m     \u001b[38;5;66;03m#  InvalidIndexError. Otherwise we fall through and re-raise\u001b[39;00m\n\u001b[1;32m   3809\u001b[0m     \u001b[38;5;66;03m#  the TypeError.\u001b[39;00m\n\u001b[1;32m   3810\u001b[0m     \u001b[38;5;28mself\u001b[39m\u001b[38;5;241m.\u001b[39m_check_indexing_error(key)\n",
      "\u001b[0;31mKeyError\u001b[0m: (1, 'column_2')"
     ]
    }
   ],
   "source": [
    "df1[1,'column_2'].mean()"
   ]
  },
  {
   "cell_type": "markdown",
   "id": "f9d2c88f-804f-48b1-87be-b098a6730bb4",
   "metadata": {},
   "source": [
    "this showing error because as we know that if we want to find the mean of any columns then it must be the intger"
   ]
  },
  {
   "cell_type": "markdown",
   "id": "360708b0-0299-48fa-b960-568592629091",
   "metadata": {},
   "source": [
    "Q6. What do you understand about the windows function in pandas and list the types of windows\n",
    "functions?"
   ]
  },
  {
   "cell_type": "code",
   "execution_count": null,
   "id": "d0ecf2d6-37f4-471d-ba4b-c0ad109323be",
   "metadata": {},
   "outputs": [],
   "source": [
    "#window function is the group of function and that opreate on the set of rows related to the current columns\n",
    "# there are theree types of window function\n",
    "#1.rolling() function\n",
    "#2.expanding() function\n",
    "#3.common aggreation function"
   ]
  },
  {
   "cell_type": "code",
   "execution_count": null,
   "id": "ed3c1c0d-ed1c-42aa-9018-b67268bca0ad",
   "metadata": {},
   "outputs": [],
   "source": [
    "import pandas as pd\n",
    "\n",
    "# Sample DataFrame\n",
    "data = {'value': [1, 2, 3, 4, 5, 6, 7, 8, 9]}\n",
    "df = pd.DataFrame(data)\n",
    "\n",
    "# Calculate the expanding sum\n",
    "df['expanding_sum'] = df['value'].expanding().sum()\n",
    "\n",
    "# Calculate the rolling minimum over a window of 2 rows\n",
    "df['rolling_min'] = df['value'].rolling(window=2).min()\n",
    "\n",
    "# Calculate the rolling maximum over a window of 2 rows\n",
    "df['rolling_max'] = df['value'].rolling(window=2).max()\n",
    "\n",
    "# Calculate the rolling standard deviation over a window of 2 rows\n",
    "df['rolling_std'] = df['value'].rolling(window=2).std()\n",
    "\n",
    "# Calculate the count of non-null values in the rolling window\n",
    "df['rolling_count'] = df['value'].rolling(window=2).count()\n",
    "\n",
    "print(df)\n"
   ]
  },
  {
   "cell_type": "markdown",
   "id": "20dbd297-afd1-4ae1-90a7-4b89895605d9",
   "metadata": {},
   "source": [
    "Q7. Write a code to print only the current month and year at the time of answering this question.\n",
    "[Hint: Use pandas.datetime function]"
   ]
  },
  {
   "cell_type": "code",
   "execution_count": 23,
   "id": "2e230c1a-ac34-4192-b984-6283f1daa137",
   "metadata": {},
   "outputs": [
    {
     "name": "stdout",
     "output_type": "stream",
     "text": [
      "November\n",
      "2023\n"
     ]
    }
   ],
   "source": [
    "import pandas as pd\n",
    "\n",
    "current_date= pd.to_datetime(\"today\")\n",
    "current_month =current_date.strftime(\"%B\")\n",
    "current_year=current_date.strftime(\"%Y\")\n",
    "\n",
    "print(current_month)\n",
    "print(current_year)"
   ]
  },
  {
   "cell_type": "markdown",
   "id": "65d0adf7-e882-463c-bf74-a7de1190649d",
   "metadata": {},
   "source": [
    "Q8. Write a Python program that takes in two dates as input (in the format YYYY-MM-DD) and\n",
    "calculates the difference between them in days, hours, and minutes using Pandas time delta. The\n",
    "program should prompt the user to enter the dates and display the result."
   ]
  },
  {
   "cell_type": "code",
   "execution_count": null,
   "id": "52d59c1e-1b2f-415c-a68a-d212f2d11781",
   "metadata": {},
   "outputs": [],
   "source": []
  },
  {
   "cell_type": "code",
   "execution_count": 24,
   "id": "b216161f-3c75-499c-a977-ba933c4c756d",
   "metadata": {},
   "outputs": [
    {
     "name": "stdin",
     "output_type": "stream",
     "text": [
      "Enter the first date:  2001-12-05\n",
      "Enter the second date:  2023-12-05\n"
     ]
    },
    {
     "name": "stdout",
     "output_type": "stream",
     "text": [
      "hours Difference: 8035 days 00:00:00\n",
      "Difference in hours: 192840\n",
      "Difference in minutes: 11570400\n"
     ]
    }
   ],
   "source": [
    "import pandas as pd\n",
    "\n",
    "def difference(date1, date2):\n",
    "    try:\n",
    "        date1 = pd.to_datetime(date1)\n",
    "        date2 = pd.to_datetime(date2)\n",
    "        time_difference = date2 - date1\n",
    "        \n",
    "        print(f\"hours Difference: {time_difference}\")\n",
    "        print(\"Difference in hours:\", time_difference.days * 24)\n",
    "        print(\"Difference in minutes:\", time_difference.days * 24 * 60)\n",
    "    \n",
    "    except ValueError as e:\n",
    "        print(f\"Error: {e}. Please enter dates in the correct format (YYYY-MM-DD).\")\n",
    "\n",
    "date1 = input(\"Enter the first date: \")\n",
    "date2 = input(\"Enter the second date: \")\n",
    "\n",
    "difference(date1, date2)\n"
   ]
  },
  {
   "cell_type": "raw",
   "id": "b7d2d25d-8b57-495c-8036-8ba3d4707f07",
   "metadata": {},
   "source": [
    "Q9. Write a Python program that reads a CSV file containing categorical data and converts a specified\n",
    "column to a categorical data type. The program should prompt the user to enter the file path, column\n",
    "name, and category order, and then display the sorted data."
   ]
  },
  {
   "cell_type": "code",
   "execution_count": 46,
   "id": "abc662ce-e010-482f-a30f-77fc1b038299",
   "metadata": {},
   "outputs": [],
   "source": [
    "data={\"name\":['vishal','kumar','singh','vishal','kumar'],\n",
    "     \"gender\":[\"male\",\"female\",\"male\",\"female\",\"male\"]}"
   ]
  },
  {
   "cell_type": "code",
   "execution_count": 47,
   "id": "69a767b0-435d-4c0a-809e-31ef6d16cd0b",
   "metadata": {},
   "outputs": [],
   "source": [
    "sheet=pd.DataFrame(data)"
   ]
  },
  {
   "cell_type": "code",
   "execution_count": 48,
   "id": "ebc7f859-5876-4c99-b530-af02424e98c8",
   "metadata": {},
   "outputs": [],
   "source": [
    "sheet.to_csv('data.csv',index=False)"
   ]
  },
  {
   "cell_type": "code",
   "execution_count": 49,
   "id": "d1089d77-e1de-4d4a-97cf-7940ced10fd0",
   "metadata": {},
   "outputs": [],
   "source": [
    "cat=pd.Categorical(sheet)"
   ]
  },
  {
   "cell_type": "code",
   "execution_count": 50,
   "id": "3e38b499-fe88-4b5d-8d9e-c7173adf2567",
   "metadata": {},
   "outputs": [
    {
     "data": {
      "text/plain": [
       "['name', 'gender']\n",
       "Categories (2, object): ['gender', 'name']"
      ]
     },
     "execution_count": 50,
     "metadata": {},
     "output_type": "execute_result"
    }
   ],
   "source": [
    "cat"
   ]
  },
  {
   "cell_type": "code",
   "execution_count": 54,
   "id": "8d870e93-bed2-489c-9e56-a133e119dcba",
   "metadata": {},
   "outputs": [
    {
     "name": "stdin",
     "output_type": "stream",
     "text": [
      "Enter the file path of the CSV file:  sample_data.csv\n",
      "Enter the column name to convert to categorical data type:  Gender\n",
      "Enter the category order (comma-separated):  Female,Male\n"
     ]
    },
    {
     "name": "stdout",
     "output_type": "stream",
     "text": [
      "      Name  Gender\n",
      "0    Alice  Female\n",
      "3    David  Female\n",
      "4      Eve  Female\n",
      "1      Bob    Male\n",
      "2  Charlie    Male\n"
     ]
    }
   ],
   "source": [
    "import pandas as pd\n",
    "\n",
    "# create a sample CSV file\n",
    "data ={ \n",
    "    'Name': ['Alice', 'Bob', 'Charlie', 'David', 'Eve'],\n",
    "    'Gender': ['Female', 'Male', 'Male', 'Female', 'Female']}\n",
    "\n",
    "\n",
    "df = pd.DataFrame(data)\n",
    "df.to_csv('sample_data.csv', index=False)\n",
    "\n",
    "# prompt user to enter the file path, column name, and category order\n",
    "file_path = input(\"Enter the file path of the CSV file: \")\n",
    "column_name = input(\"Enter the column name to convert to categorical data type: \")\n",
    "category_order = input(\"Enter the category order (comma-separated): \")\n",
    "\n",
    "# read the CSV file\n",
    "data = pd.read_csv(file_path)\n",
    "\n",
    "# convert the specified column to categorical data type\n",
    "data[column_name] = pd.Categorical(data[column_name], categories=category_order.split(','), ordered=True)\n",
    "\n",
    "# display the sorted data\n",
    "sorted_data = data.sort_values(by=column_name)\n",
    "print(sorted_data)\n"
   ]
  },
  {
   "cell_type": "markdown",
   "id": "30bd63db-dd62-4890-bafd-f4749bc5babb",
   "metadata": {},
   "source": [
    "Q10. You are given a CSV file containing student data that includes the student ID and their test score. Write\n",
    "a Python program that reads the CSV file, calculates the mean, median, and mode of the test scores, and\n",
    "displays the results in a table.\n",
    "The program should do the followingM\n",
    "I Prompt the user to enter the file path of the CSV file containing the student dataR\n",
    "I Read the CSV file into a Pandas DataFrameR\n",
    "I Calculate the mean, median, and mode of the test scores using Pandas toolsR\n",
    "I Display the mean, median, and mode in a table.\n",
    "\n",
    "Assume the CSV file contains the following columnsM\n",
    "I Student ID: The ID of the studentR\n",
    "I Test Score: The score of the student's test.\n",
    "Example usage of the program:\n",
    "\n",
    "Enter the file path of the CSV file containing the student data: student_data.csv\n",
    "\n",
    "\n",
    "+-----------+--------+\n",
    "\n",
    "| Statistic | Value  |\n",
    "\n",
    "+-----------+--------+\n",
    "\n",
    "| Mean      | 79.6   |\n",
    "\n",
    "| Median    | 82     |\n",
    "\n",
    "| Mode      | 85, 90 |\n",
    "\n",
    "+-----------+--------+\n",
    "\n",
    "\n",
    "Assume that the CSV file student_data.csv contains the following data:\n",
    "\n",
    "Student ID,Test Score\n",
    "\n",
    "1,85\n",
    "\n",
    "2,90\n",
    "\n",
    "3,80\n",
    "\n",
    "4,75\n",
    "\n",
    "5,85\n",
    "\n",
    "6,82\n",
    "\n",
    "7,78\n",
    "\n",
    "8,85\n",
    "\n",
    "9,90\n",
    "\n",
    "10,85\n",
    "\n",
    "\n",
    "The program should calculate the mean, median, and mode of the test scores and display the results\n",
    "in a table."
   ]
  },
  {
   "cell_type": "code",
   "execution_count": 60,
   "id": "68cac2c5-6350-4a40-9863-decfad73b2d7",
   "metadata": {},
   "outputs": [],
   "source": [
    "data={\n",
    "    \"Student ID\":[1,2,3,4,5,6,7,8,9,10],\n",
    "    \"Test score\":[85,90,80,75,85,82,78,85,90,85]\n",
    "}\n",
    "student_data=pd.DataFrame(data)"
   ]
  },
  {
   "cell_type": "code",
   "execution_count": 63,
   "id": "64a3891b-976a-47b1-aa58-4e4eaaa56da3",
   "metadata": {},
   "outputs": [],
   "source": [
    "student_data.to_csv(\"student_ID.csv\",index=False)"
   ]
  },
  {
   "cell_type": "code",
   "execution_count": 74,
   "id": "a84bc476-5b23-41b3-b2d1-13af49bc47b1",
   "metadata": {},
   "outputs": [
    {
     "name": "stdin",
     "output_type": "stream",
     "text": [
      "enter the path of file student_ID.csv\n"
     ]
    }
   ],
   "source": [
    "\n",
    "    file_path=input(\"enter the path of file\")\n",
    "    dt=pd.read_csv(file_path)\n",
    "    ob={\n",
    "        \"statistic\":[\"Mean\",\"Median\",\"Mode\"],\n",
    "        \"Value\":[dt[\"Test score\"].mean(),dt[\"Test score\"].median(),dt[\"Test score\"].mode()]\n",
    "    }\n",
    "    sheet1=pd.DataFrame(ob)\n",
    "    "
   ]
  },
  {
   "cell_type": "code",
   "execution_count": 75,
   "id": "93a98aad-1b46-4926-b5e9-f1f2d74f8b7c",
   "metadata": {},
   "outputs": [
    {
     "data": {
      "text/html": [
       "<div>\n",
       "<style scoped>\n",
       "    .dataframe tbody tr th:only-of-type {\n",
       "        vertical-align: middle;\n",
       "    }\n",
       "\n",
       "    .dataframe tbody tr th {\n",
       "        vertical-align: top;\n",
       "    }\n",
       "\n",
       "    .dataframe thead th {\n",
       "        text-align: right;\n",
       "    }\n",
       "</style>\n",
       "<table border=\"1\" class=\"dataframe\">\n",
       "  <thead>\n",
       "    <tr style=\"text-align: right;\">\n",
       "      <th></th>\n",
       "      <th>statistic</th>\n",
       "      <th>Value</th>\n",
       "    </tr>\n",
       "  </thead>\n",
       "  <tbody>\n",
       "    <tr>\n",
       "      <th>0</th>\n",
       "      <td>Mean</td>\n",
       "      <td>83.5</td>\n",
       "    </tr>\n",
       "    <tr>\n",
       "      <th>1</th>\n",
       "      <td>Median</td>\n",
       "      <td>85.0</td>\n",
       "    </tr>\n",
       "    <tr>\n",
       "      <th>2</th>\n",
       "      <td>Mode</td>\n",
       "      <td>0    85\n",
       "Name: Test score, dtype: int64</td>\n",
       "    </tr>\n",
       "  </tbody>\n",
       "</table>\n",
       "</div>"
      ],
      "text/plain": [
       "  statistic                                   Value\n",
       "0      Mean                                    83.5\n",
       "1    Median                                    85.0\n",
       "2      Mode  0    85\n",
       "Name: Test score, dtype: int64"
      ]
     },
     "execution_count": 75,
     "metadata": {},
     "output_type": "execute_result"
    }
   ],
   "source": [
    "sheet1"
   ]
  },
  {
   "cell_type": "code",
   "execution_count": 80,
   "id": "c54dd814-cb0e-4fcf-b244-e1d4d0686fb7",
   "metadata": {},
   "outputs": [
    {
     "data": {
      "text/plain": [
       "85.0"
      ]
     },
     "execution_count": 80,
     "metadata": {},
     "output_type": "execute_result"
    }
   ],
   "source": [
    "student_data['Test score'].median()"
   ]
  },
  {
   "cell_type": "code",
   "execution_count": null,
   "id": "df339fe2-2672-4fb0-951b-efcc9e51ef10",
   "metadata": {},
   "outputs": [],
   "source": []
  }
 ],
 "metadata": {
  "kernelspec": {
   "display_name": "Python 3 (ipykernel)",
   "language": "python",
   "name": "python3"
  },
  "language_info": {
   "codemirror_mode": {
    "name": "ipython",
    "version": 3
   },
   "file_extension": ".py",
   "mimetype": "text/x-python",
   "name": "python",
   "nbconvert_exporter": "python",
   "pygments_lexer": "ipython3",
   "version": "3.10.8"
  }
 },
 "nbformat": 4,
 "nbformat_minor": 5
}
