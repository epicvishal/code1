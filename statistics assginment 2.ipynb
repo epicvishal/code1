{
 "cells": [
  {
   "cell_type": "markdown",
   "id": "1b9bf408-1e04-47de-95ec-d7c29a5c7c85",
   "metadata": {},
   "source": [
    "Q1.What are the three measures of central tendency?"
   ]
  },
  {
   "cell_type": "code",
   "execution_count": 2,
   "id": "5d00a036-7298-4433-ba82-8cd814a3f6be",
   "metadata": {},
   "outputs": [],
   "source": [
    "# there are three measures of central tendency \n",
    "\n",
    "import pandas as pd\n",
    "\n",
    "data=[1,23,34,56,687,433,4,34,67]\n",
    "\n",
    "df=pd.DataFrame(data)"
   ]
  },
  {
   "cell_type": "code",
   "execution_count": 3,
   "id": "9c9d72c1-bb24-4181-8b50-fee9dab4039e",
   "metadata": {},
   "outputs": [
    {
     "data": {
      "text/plain": [
       "0    148.777778\n",
       "dtype: float64"
      ]
     },
     "execution_count": 3,
     "metadata": {},
     "output_type": "execute_result"
    }
   ],
   "source": [
    "#1.median\n",
    "df.mean()"
   ]
  },
  {
   "cell_type": "code",
   "execution_count": 4,
   "id": "ccd8e3db-8d32-4871-a4c4-9e5aac87725c",
   "metadata": {},
   "outputs": [
    {
     "data": {
      "text/html": [
       "<div>\n",
       "<style scoped>\n",
       "    .dataframe tbody tr th:only-of-type {\n",
       "        vertical-align: middle;\n",
       "    }\n",
       "\n",
       "    .dataframe tbody tr th {\n",
       "        vertical-align: top;\n",
       "    }\n",
       "\n",
       "    .dataframe thead th {\n",
       "        text-align: right;\n",
       "    }\n",
       "</style>\n",
       "<table border=\"1\" class=\"dataframe\">\n",
       "  <thead>\n",
       "    <tr style=\"text-align: right;\">\n",
       "      <th></th>\n",
       "      <th>0</th>\n",
       "    </tr>\n",
       "  </thead>\n",
       "  <tbody>\n",
       "    <tr>\n",
       "      <th>0</th>\n",
       "      <td>34</td>\n",
       "    </tr>\n",
       "  </tbody>\n",
       "</table>\n",
       "</div>"
      ],
      "text/plain": [
       "    0\n",
       "0  34"
      ]
     },
     "execution_count": 4,
     "metadata": {},
     "output_type": "execute_result"
    }
   ],
   "source": [
    "# 2.mode\n",
    "df.mode()\n"
   ]
  },
  {
   "cell_type": "code",
   "execution_count": 5,
   "id": "9eea06c0-869b-4bfc-a578-958597fa7ec1",
   "metadata": {},
   "outputs": [
    {
     "data": {
      "text/plain": [
       "0    34.0\n",
       "dtype: float64"
      ]
     },
     "execution_count": 5,
     "metadata": {},
     "output_type": "execute_result"
    }
   ],
   "source": [
    "# 3.median\n",
    "df.median()"
   ]
  },
  {
   "cell_type": "markdown",
   "id": "b2eb58b5-94b9-405b-8ff8-80c556c6e815",
   "metadata": {},
   "source": [
    "Q2. What is the difference between the mean, median, and mode? How are they used to measure the\n",
    "central tendency of a dataset?"
   ]
  },
  {
   "cell_type": "code",
   "execution_count": 6,
   "id": "aeaa13f6-e3e2-4eaa-845f-a28375e6aa1b",
   "metadata": {},
   "outputs": [],
   "source": [
    "#The mean, median, and mode are all measures of central tendency used to describe the center of a dataset. \n",
    "#1. Mean: The mean is the average of all the numbers in a dataset.\n",
    "#It is calculated by adding up all the values in the dataset and then dividing by the total number of values.\n",
    "\n",
    "#2.Median: The median is the middle value in a dataset when the values are arranged in ascending or descending order. \n",
    "#If there is an even number of values, the median is the average of the two middle values.\n",
    "\n",
    "#3. Mode: The mode is the value that appears most frequently in a dataset.\n",
    "#A dataset can have one mode, more than one mode (multimodal), or no mode if all values appear with the same frequency.\n",
    "\n",
    "#These measures are used to provide a single value that represents the center of a dataset. \n",
    "#The mean is sensitive to extreme values and outliers, while the median is less affected by extreme values. \n",
    "#The mode is useful for identifying the most common value or category in a dataset.\n",
    "\n",
    "#In practice,\n",
    "#statisticians and analysts use these measures based on the characteristics of the dataset and the specific context of the analysis.\n"
   ]
  },
  {
   "cell_type": "markdown",
   "id": "815b642d-82a0-46e0-b98e-e316703294a0",
   "metadata": {},
   "source": [
    "Q3. Measure the three measures of central tendency for the given height data:\n",
    "\n",
    " [178,177,176,177,178.2,178,175,179,180,175,178.9,176.2,177,172.5,178,176.5]"
   ]
  },
  {
   "cell_type": "code",
   "execution_count": 7,
   "id": "3112526e-d2fa-4b59-ab03-0b8cb2d88781",
   "metadata": {},
   "outputs": [],
   "source": [
    "import pandas as pd\n",
    "a=[178,177,176,177,178.2,178,175,179,180,175,178.9,176.2,177,172.5,178,176.5]\n",
    "\n",
    "\n",
    "df1=pd.DataFrame(a)"
   ]
  },
  {
   "cell_type": "code",
   "execution_count": 8,
   "id": "25d8159e-0704-40f4-a29b-daa69e7649f2",
   "metadata": {},
   "outputs": [
    {
     "data": {
      "text/plain": [
       "0    177.0\n",
       "dtype: float64"
      ]
     },
     "execution_count": 8,
     "metadata": {},
     "output_type": "execute_result"
    }
   ],
   "source": [
    "df1.median()"
   ]
  },
  {
   "cell_type": "code",
   "execution_count": 9,
   "id": "2b5460fb-6082-4c90-b25f-49656548953f",
   "metadata": {},
   "outputs": [
    {
     "data": {
      "text/plain": [
       "0    177.01875\n",
       "dtype: float64"
      ]
     },
     "execution_count": 9,
     "metadata": {},
     "output_type": "execute_result"
    }
   ],
   "source": [
    "df1.mean()"
   ]
  },
  {
   "cell_type": "code",
   "execution_count": 10,
   "id": "ba2005bb-c606-4e04-b6cf-478d4912412a",
   "metadata": {},
   "outputs": [
    {
     "data": {
      "text/html": [
       "<div>\n",
       "<style scoped>\n",
       "    .dataframe tbody tr th:only-of-type {\n",
       "        vertical-align: middle;\n",
       "    }\n",
       "\n",
       "    .dataframe tbody tr th {\n",
       "        vertical-align: top;\n",
       "    }\n",
       "\n",
       "    .dataframe thead th {\n",
       "        text-align: right;\n",
       "    }\n",
       "</style>\n",
       "<table border=\"1\" class=\"dataframe\">\n",
       "  <thead>\n",
       "    <tr style=\"text-align: right;\">\n",
       "      <th></th>\n",
       "      <th>0</th>\n",
       "    </tr>\n",
       "  </thead>\n",
       "  <tbody>\n",
       "    <tr>\n",
       "      <th>0</th>\n",
       "      <td>177.0</td>\n",
       "    </tr>\n",
       "    <tr>\n",
       "      <th>1</th>\n",
       "      <td>178.0</td>\n",
       "    </tr>\n",
       "  </tbody>\n",
       "</table>\n",
       "</div>"
      ],
      "text/plain": [
       "       0\n",
       "0  177.0\n",
       "1  178.0"
      ]
     },
     "execution_count": 10,
     "metadata": {},
     "output_type": "execute_result"
    }
   ],
   "source": [
    "df1.mode()"
   ]
  },
  {
   "cell_type": "markdown",
   "id": "c6cc61ff-4918-41e7-8488-9734bedc6852",
   "metadata": {},
   "source": [
    "Q4. Find the standard deviation for the given data:\n",
    "\n",
    "[178,177,176,177,178.2,178,175,179,180,175,178.9,176.2,177,172.5,178,176.5]"
   ]
  },
  {
   "cell_type": "code",
   "execution_count": 11,
   "id": "4e5a4d71-8a4c-4cea-a475-ed1f11a508f9",
   "metadata": {},
   "outputs": [],
   "source": [
    "import numpy as np\n",
    "data=[178,177,176,177,178.2,178,175,179,180,175,178.9,176.2,177,172.5,178,176.5]"
   ]
  },
  {
   "cell_type": "code",
   "execution_count": 12,
   "id": "60669bc5-bd5e-4db5-b6c1-a243f9323b91",
   "metadata": {},
   "outputs": [
    {
     "data": {
      "text/plain": [
       "1.7885814036548633"
      ]
     },
     "execution_count": 12,
     "metadata": {},
     "output_type": "execute_result"
    }
   ],
   "source": [
    "np.std(data)"
   ]
  },
  {
   "cell_type": "markdown",
   "id": "ea5639e5-0aed-4715-9086-a6800ed01e9b",
   "metadata": {},
   "source": [
    "Q5. How are measures of dispersion such as range, variance, and standard deviation used to describe\n",
    "the spread of a dataset? Provide an example."
   ]
  },
  {
   "cell_type": "code",
   "execution_count": 13,
   "id": "bb4d1a0f-318e-4c61-afb9-23a5ed726bdd",
   "metadata": {},
   "outputs": [],
   "source": [
    "import numpy as np"
   ]
  },
  {
   "cell_type": "code",
   "execution_count": 14,
   "id": "5e915c78-c6eb-4b3a-8703-702fb0c284b9",
   "metadata": {},
   "outputs": [
    {
     "name": "stdout",
     "output_type": "stream",
     "text": [
      "range: 76876\n",
      "variance: 368037727.5288888\n",
      "standard deviation: 19184.30940974652\n"
     ]
    }
   ],
   "source": [
    "#range\n",
    "sheet=np.array([11,345,567,34,67,834,76887,213,5657,2324,6767,23424,3435,5675,344,])\n",
    "\n",
    "dispersion_range=np.max(sheet) - np.min(sheet)\n",
    "# variance\n",
    "var= np.var(sheet)\n",
    "# standard deviation\n",
    "standard_deviation=np.std(sheet)\n",
    "\n",
    "print(\"range:\",dispersion_range)\n",
    "print(\"variance:\",var)\n",
    "print(\"standard deviation:\",standard_deviation)"
   ]
  },
  {
   "cell_type": "markdown",
   "id": "b31607a1-0249-48f4-8365-6e3fb6bff429",
   "metadata": {},
   "source": [
    "Q6. What is a Venn diagram?"
   ]
  },
  {
   "cell_type": "code",
   "execution_count": 15,
   "id": "99a9a0ae-fd7b-4c7f-a134-2a4d8e8db022",
   "metadata": {},
   "outputs": [],
   "source": [
    "# Venn diagram is a graphical representation of the relationships between different sets of items.\n",
    "# It consists of overlapping circles or other shapes,\n",
    "#with each circle representing a set and the overlapping areas representing the intersections between sets.\n",
    "\n",
    "from matplotlib import pyplot as py\n",
    "from matplotlib_venn import venn2"
   ]
  },
  {
   "cell_type": "code",
   "execution_count": 18,
   "id": "9c37cf85-3afe-47b9-8371-b4e02e2d6a1d",
   "metadata": {},
   "outputs": [
    {
     "data": {
      "image/png": "[encoded data removed]",
      "text/plain": [
       "<Figure size 640x480 with 1 Axes>"
      ]
     },
     "metadata": {},
     "output_type": "display_data"
    }
   ],
   "source": [
    "set1={1,2,3,4,5}\n",
    "set2={3,4,5,6,7}\n",
    "\n",
    "venn2(subsets=(len(set1-set2),len(set2-set1),len(set1&set2)),set_labels=(\"set1\",\"set2\"))\n",
    "\n",
    "py.title(\"venn diagram \")\n",
    "py.show()"
   ]
  },
  {
   "cell_type": "markdown",
   "id": "e6e64c23-67d8-4787-8a05-63c635b39c31",
   "metadata": {},
   "source": [
    "Q7. For the two given sets A = (2,3,4,5,6,7) & B = (0,2,6,8,10). Find:\n",
    "\n",
    "(i) \tA B\n",
    "\n",
    "(ii)\tA ⋃ B"
   ]
  },
  {
   "cell_type": "code",
   "execution_count": 17,
   "id": "6466a383-1534-4d34-a908-c94a7dc955dd",
   "metadata": {},
   "outputs": [
    {
     "name": "stdout",
     "output_type": "stream",
     "text": [
      "union of A and B: {0, 2, 3, 4, 5, 6, 7, 8, 10}\n",
      "intersection of A and B: {2, 6}\n"
     ]
    }
   ],
   "source": [
    "\n",
    "A = {2,3,4,5,6,7}\n",
    "B = {0,2,6,8,10}\n",
    "\n",
    "union=A.union(B)\n",
    "intersection=A.intersection(B)\n",
    "print(\"union of A and B:\",union)\n",
    "print(\"intersection of A and B:\",intersection)"
   ]
  },
  {
   "cell_type": "markdown",
   "id": "6405cb44-f93a-4fd8-8a8e-a50995f03be6",
   "metadata": {},
   "source": [
    "Q8. What do you understand about skewness in data?"
   ]
  },
  {
   "cell_type": "code",
   "execution_count": 19,
   "id": "a511777c-5fb9-48c7-af65-3558cdcf8151",
   "metadata": {},
   "outputs": [],
   "source": [
    "# skewness is a statistical measure that describe the asymmetry of the distribution of a dataset.\n",
    "#It indicates whether the data is concentrated more on one side of the mean that the other \n",
    "\n",
    "#there are two types of skewness\n",
    "\n",
    "#1.positive skewnees(right skewed):\n",
    "# In a positively skewed distribution, the tail of the distribution is longer on the right-hand side.\n",
    "# the mean is greater than the median, and the mode is less than the median.\n",
    "# the majority of the data points are concentrated on the left-hand side of the distribution.\n",
    "\n",
    "#2.Negative skewnees(left skewed):\n",
    "# In a negative skewed distribution, the tail of the distribution is loner on the left -hand side.\n",
    "# The mean is less than the median, and the mode is greater than the median.\n",
    "# The majority of the data points are concentrated on the right-hand side of the distribution."
   ]
  },
  {
   "cell_type": "markdown",
   "id": "ea4b1296-0234-4432-bcd8-7834b3336b32",
   "metadata": {},
   "source": [
    "Q9. If a data is right skewed then what will be the position of median with respect to mean?"
   ]
  },
  {
   "cell_type": "code",
   "execution_count": 20,
   "id": "1a947645-074c-4354-b4e6-2a605d4231c2",
   "metadata": {},
   "outputs": [],
   "source": [
    "#In a right-skewed distribution, the tail of the distribution is longer on the right side, \n",
    "\n",
    "#indicating that there are some very large values that pull the mean in that direction. \n",
    "#As a result, the mean is typically greater than the median in a right-skewed distribution.\n",
    "# The mean is influenced by extreme values, so the presence of a few very large values in the right tail of the distribution can pull the mean in that direction.\n",
    "# On the other hand, the median is less affected by extreme values and is more representative of the central tendency of the data.\n",
    "#In a right-skewed distribution, the median will be closer to the left (lower) end of the distribution, as it is less influenced by the long right tail.\n",
    "\n"
   ]
  },
  {
   "cell_type": "markdown",
   "id": "e4a213cd-1048-40ca-8546-9006c2b1e739",
   "metadata": {},
   "source": [
    "Q10. Explain the difference between covariance and correlation. How are these measures used in\n",
    "statistical analysis?"
   ]
  },
  {
   "cell_type": "code",
   "execution_count": 22,
   "id": "c606bb89-fb07-491c-bb4d-1dc5b8102b59",
   "metadata": {},
   "outputs": [
    {
     "name": "stdout",
     "output_type": "stream",
     "text": [
      "covariance: 14.25\n",
      "correlation: 0.28249339829380343\n"
     ]
    }
   ],
   "source": [
    "#Covariance and correlation are both measures of the relationship between two variables in statistics, but they have some key differences in terms of their interpretation and usage.\n",
    "\n",
    "#1. Covariance:\n",
    "#   - Covariance measures the extent to which two variables change together. If the values of one variable tend to increase as the values of the other variable increase, the covariance is positive. If one variable tends to decrease as the other increases, the covariance is negative.\n",
    "#   - However, the magnitude of covariance is not standardized, meaning it can be difficult to interpret in isolation. It is influenced by the scales of the variables involved, making it challenging to compare covariances across different datasets.\n",
    "\n",
    "#2. Correlation:\n",
    "#   - Correlation, on the other hand, standardizes the measure of the relationship between two variables. It provides a more interpretable measure of how strongly the variables are related and the direction of that relationship.\n",
    "#   - The correlation coefficient ranges from -1 to 1, where 1 indicates a perfect positive linear relationship, -1 indicates a perfect negative linear relationship, and 0 indicates no linear relationship.\n",
    "#   - Correlation is not affected by the scales of the variables, making it easier to compare the strength and direction of relationships across different datasets.\n",
    "\n",
    "#In statistical analysis:\n",
    "#- Covariance is used to understand the direction of the relationship between two variables and whether they tend to move together or in opposite directions. However, due to its lack of standardization, it is less commonly used for comparing relationships across different datasets.\n",
    "#- Correlation is widely used to assess the strength and direction of linear relationships between variables. It is particularly useful for comparing relationships between different pairs of variables and for identifying the most influential relationships in multivariate datasets.\n",
    "\n",
    "import numpy as np\n",
    "\n",
    "hours=[3,5,6,4,7,3,8,9]\n",
    "\n",
    "score=[75,80,30,67,89,90,100,95]\n",
    "\n",
    "covariance=np.cov(hours,score)[0][1]\n",
    "print(\"covariance:\",covariance)\n",
    "\n",
    "correlation=np.corrcoef(hours,score)[0][1]\n",
    "print(\"correlation:\",correlation)"
   ]
  },
  {
   "cell_type": "markdown",
   "id": "325cbce1-a70c-4f81-948d-44ec5891c8cd",
   "metadata": {},
   "source": [
    "Q11. What is the formula for calculating the sample mean? Provide an example calculation for a\n",
    "dataset."
   ]
  },
  {
   "cell_type": "code",
   "execution_count": 23,
   "id": "5a666086-949f-4336-baab-b7a942978a2b",
   "metadata": {},
   "outputs": [
    {
     "name": "stdout",
     "output_type": "stream",
     "text": [
      "5.0\n"
     ]
    }
   ],
   "source": [
    "#fromula\n",
    "#x̅ = ∑_i=1^n x_i/n\n",
    "#Where:\n",
    "#- x̅ represents the sample mean\n",
    "#- n represents the number of observations in the dataset\n",
    "#- x_i represents the individual values in the dataset\n",
    "\n",
    "#Using the same example of the dataset of 5 numbers: 3, 7, 2, 8, 5, we would calculate the sample mean as follows:\n",
    "#x̅ = 3 + 7 + 2 + 8 + 5/5\n",
    "#x̅ = 25/5\n",
    "#x̅ = 5\n",
    "\n",
    "import numpy as np\n",
    "\n",
    "a=[3,7,2,8,5]\n",
    "\n",
    "mean=np.mean(a)\n",
    "print(mean)"
   ]
  },
  {
   "cell_type": "markdown",
   "id": "be0674da-855d-4a2b-a845-9ffadd5c41ed",
   "metadata": {},
   "source": [
    "Q12. For a normal distribution data what is the relationship between its measure of central tendency?"
   ]
  },
  {
   "cell_type": "code",
   "execution_count": 24,
   "id": "e0ea36c9-f264-4d0e-a2f7-68d0dd240481",
   "metadata": {},
   "outputs": [],
   "source": [
    "#In a normal distribution:\n",
    "#1. The mean, median, and mode are all equal.\n",
    "#2. They are all located at the center of the distribution.\n",
    "#This is a fundamental property of a normal distribution, and \n",
    "#it is what makes the normal distribution symmetric around its central value."
   ]
  },
  {
   "cell_type": "markdown",
   "id": "b4b2985d-0cd0-4032-ac1f-8710769f41bb",
   "metadata": {},
   "source": [
    "Q13. How is covariance different from correlation?"
   ]
  },
  {
   "cell_type": "code",
   "execution_count": 25,
   "id": "627fb2f7-3b09-4a78-9ad3-38ca0fe1f48a",
   "metadata": {},
   "outputs": [],
   "source": [
    "#Covariance and correlation are both measures of the relationship between two variables, but they differ in their scale and interpretation.\n",
    "\n",
    "#Covariance:\n",
    "#- Covariance measures the degree to which two variables change together. \n",
    "#- It can take on any value within a range, which makes it difficult to interpret the strength and direction of the relationship.\n",
    "#- The sign of the covariance indicates the direction of the relationship (positive for direct relationship, negative for inverse relationship), but the magnitude is not standardized, so it's hard to compare covariances across different data sets.\n",
    "\n",
    "#Correlation:\n",
    "#- Correlation, on the other hand, standardizes the measure of relationship between two variables.\n",
    "#- It always ranges between -1 and 1, where 1 indicates a perfect positive linear relationship, -1 indicates a perfect negative linear relationship, and 0 indicates no linear relationship.\n",
    "#- Correlation is easier to interpret because it provides a clear indication of both the strength and direction of the relationship between the variables."
   ]
  },
  {
   "cell_type": "markdown",
   "id": "50536610-5153-467c-bbec-8e1fe2d07da2",
   "metadata": {},
   "source": [
    "Q14. How do outliers affect measures of central tendency and dispersion? Provide an example."
   ]
  },
  {
   "cell_type": "code",
   "execution_count": null,
   "id": "a01e93f5-04e8-4aab-a2ad-5ed81990a50a",
   "metadata": {},
   "outputs": [],
   "source": []
  }
 ],
 "metadata": {
  "kernelspec": {
   "display_name": "Python 3 (ipykernel)",
   "language": "python",
   "name": "python3"
  },
  "language_info": {
   "codemirror_mode": {
    "name": "ipython",
    "version": 3
   },
   "file_extension": ".py",
   "mimetype": "text/x-python",
   "name": "python",
   "nbconvert_exporter": "python",
   "pygments_lexer": "ipython3",
   "version": "3.10.8"
  }
 },
 "nbformat": 4,
 "nbformat_minor": 5
}
