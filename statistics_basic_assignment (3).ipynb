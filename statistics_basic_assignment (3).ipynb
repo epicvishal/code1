{
 "cells": [
  {
   "cell_type": "markdown",
   "id": "a3805220-3b11-4419-abfc-674e7b2eb0aa",
   "metadata": {},
   "source": [
    "\n",
    "\n",
    "Q1. What is Statistics?"
   ]
  },
  {
   "cell_type": "markdown",
   "id": "e6f183cf-c597-49ee-8fe9-0dfc986535eb",
   "metadata": {},
   "source": [
    "Sol:  Statistics in data science is the practice of collecting, analyzing, interpreting, and presenting data to make informed decisions. It involves using mathematical techniques to summarize and interpret data, identify patterns and trends, and make predictions based on the available information. Statistics plays a crucial role in data science by providing the tools and methods to understand and derive insights from large and complex datasets. It helps data scientists to draw meaningful conclusions and make data-driven decisions.\n"
   ]
  },
  {
   "cell_type": "markdown",
   "id": "1e5fb44c-b53c-427c-9a7d-d690c15d3803",
   "metadata": {},
   "source": [
    "Q2. Define the different types of statistics and give an example of when each type might be used."
   ]
  },
  {
   "cell_type": "markdown",
   "id": "ac30db62-3852-4cab-b253-da2029be6d92",
   "metadata": {},
   "source": [
    "SOl: \n",
    "There are two types of statistics\n",
    "1. Descriptive Statistics \n",
    "It consists of organizing and summarizing data \n",
    "example: 1. Measure of central tendency [ mean, mode, median]\n",
    "         2. Measure of Disperstion[Variance,std]\n",
    "         3. Different type of Distribution of data.\n",
    "         for example: Histogram ,pdf\n",
    "         \n",
    "2. Inferential Statistics\n",
    "It consist of using data you have measured to form conclusion\n",
    "Example: 1. Z-test\n",
    "         2. T-test\n",
    "         3. CHI square"
   ]
  },
  {
   "cell_type": "markdown",
   "id": "09fde301-4de2-4bb1-95d7-f538a8be7a2f",
   "metadata": {},
   "source": [
    "Q3.  What are the different types of data and how do they differ from each other? Provide an example of\n",
    "each type of data."
   ]
  },
  {
   "cell_type": "markdown",
   "id": "5a0184ec-4706-454c-9839-98e472c8f072",
   "metadata": {},
   "source": [
    "There are two types of data\n",
    "1.Quantitative(numerical)\n",
    "2.Qualitative(Categoraical data)\n",
    "\n",
    "There are two types of  Quantitative data\n",
    "1.Discrtic(Whole number)\n",
    "For example:1.no of bank account\n",
    "            2.no of children in family\n",
    "            \n",
    "2.Continuous(Any value)\n",
    "For example:Height,weight,temperature,speed\n",
    "\n",
    "\n",
    "There are two types of Qualitative data\n",
    "1.Nominal\n",
    "For example: Gender,Blood group,Pincode\n",
    "\n",
    "2.ordinal(rank)\n",
    "For example: Customer feedback like good,bad,better"
   ]
  },
  {
   "cell_type": "markdown",
   "id": "5694ee29-abfe-450d-91fe-50b5c4194abb",
   "metadata": {},
   "source": [
    "Q4. Categorise the following datasets with respect to quantitative and qualitative data types:\n",
    "\n",
    "(i)\tGrading in exam: A+, A, B+, B, C+, C, D, E\n",
    "\n",
    "(ii)\tColour of mangoes: yellow, green, orange, red\n",
    "\n",
    "(iii)\tHeight data of a class: [178.9, 179, 179.5, 176, 177.2, 178.3, 175.8,...]\n",
    "\n",
    "(iv)\tNumber of mangoes exported by a farm: [500, 600, 478, 672, …]"
   ]
  },
  {
   "cell_type": "markdown",
   "id": "f3a7393d-1d6c-46ab-8b71-4532f0d3caf1",
   "metadata": {},
   "source": [
    "(i)\tGrading in exam: A+, A, B+, B, C+, C, D, E                                   (Qualitative data types)\n",
    "(ii)\tColour of mangoes: yellow, green, orange, red                            (Qualitative data types)\n",
    "(iii)\tHeight data of a class: [178.9, 179, 179.5, 176, 177.2, 178.3, 175.8,...](Quantitative data types)\n",
    "(iv)\tNumber of mangoes exported by a farm: [500, 600, 478, 672, …]            (Quantitative data types)"
   ]
  },
  {
   "cell_type": "markdown",
   "id": "e96ba9a5-754f-4d54-b3b6-1f82ab39ed99",
   "metadata": {},
   "source": [
    "Q5. Explain the concept of levels of measurement and give an example of a variable for each level."
   ]
  },
  {
   "cell_type": "markdown",
   "id": "32b92a7b-91bd-4b3d-9658-8c8ebab04d70",
   "metadata": {},
   "source": [
    "Levels of measurement refer to the different ways in which variables can be categorized and measured. \n",
    "There are four levels of measurement.\n",
    "1. Nominal scale: This is the lowest level of measurement, where data is categorized into distinct, non-ordered categories. Examples include gender, race, and political affiliation.\n",
    "\n",
    "2. Ordinal scale: This level of measurement allows for the ranking of data, but the intervals between the categories are not equal. Examples include education levels and customer satisfaction ratings.\n",
    "\n",
    "3. Interval scale: This level of measurement has equal intervals between values, but there is no true zero point. Examples include temperature in Celsius or Fahrenheit and IQ scores.\n",
    "\n",
    "4. Ratio scale: This is the highest level of measurement, with equal intervals between values and a true zero point. Examples include age, weight, height, and income."
   ]
  },
  {
   "cell_type": "markdown",
   "id": "1a877870-8caf-4dcb-a33f-ebefcdc363d3",
   "metadata": {},
   "source": [
    "Q6. Why is it important to understand the level of measurement when analyzing data? Provide an\n",
    "example to illustrate your answer."
   ]
  },
  {
   "cell_type": "markdown",
   "id": "ed014954-865a-4048-a8a8-0665c56a30b3",
   "metadata": {},
   "source": [
    "It is important to understand the level of measurement when analyzing data because it determines the type of statistical analysis that can be performed on the data and the conclusions that can be drawn from the analysis.\n",
    "\n",
    "For example, if a researcher is analyzing data on income using different levels of measurement, they would need to consider the implications of the level of measurement on their analysis. If income is measured at the nominal level (e.g., categorized into income brackets), they would be limited to using descriptive statistics such as mode or frequency distributions. However, if income is measured at the ratio level (e.g., actual dollar amounts), they could use more advanced statistical techniques such as mean, median, and standard deviation to analyze the data and make comparisons between different income levels.\n",
    "\n",
    "Understanding the level of measurement is crucial for choosing the appropriate statistical techniques and drawing accurate conclusions from the data analysis.\n"
   ]
  },
  {
   "cell_type": "markdown",
   "id": "80c03bf2-499f-4466-9e86-5c0017a7ee16",
   "metadata": {},
   "source": [
    "Q7. How nominal data type is different from ordinal data type."
   ]
  },
  {
   "cell_type": "markdown",
   "id": "3ca45e47-b79b-47d4-b461-5d85e0d70d05",
   "metadata": {},
   "source": [
    "Nominal data is used to categorize variables into groups with no inherent order or ranking. For example, categories such as gender (male, female, non-binary) or marital status (single, married, divorced) are nominal data types. In nominal data, the categories are distinct and do not have any numerical significance.\n",
    "\n",
    "On the other hand, ordinal data also categorizes variables into groups, but these groups have a specific order or ranking. For example, a Likert scale (e.g., strongly disagree, disagree, neutral, agree, strongly agree) or education level (e.g., high school, some college, bachelor's degree, master's degree) are examples of ordinal data. In ordinal data, the categories have a clear sequence or ranking, but the differences between the categories may not be equal.\n",
    "\n",
    "\n",
    "nomial data type                               Ordinal data type\n",
    "1.Ranking is not important.                    1.Ranking is important.\n",
    "2.Order does not matter                        2.Order matters.\n",
    "example:Gnder, colors                           example:Ranking(best, good,bad)\n",
    "\n"
   ]
  },
  {
   "cell_type": "markdown",
   "id": "93326d03-52b5-4f5d-acdc-1b325ab50c0a",
   "metadata": {},
   "source": [
    "Q8. Which type of plot can be used to display data in terms of range?"
   ]
  },
  {
   "cell_type": "markdown",
   "id": "fe3c9395-8975-435d-acde-c30e2bd78897",
   "metadata": {},
   "source": [
    "A box plot or a violin plot can be used to display data in terms of range. These plots show the distribution of the data and can provide information about the spread and variability of the values within each category or group.\n"
   ]
  },
  {
   "cell_type": "markdown",
   "id": "554f54af-ca05-4373-be6e-1c565755edc3",
   "metadata": {},
   "source": [
    "Q9. Describe the difference between descriptive and inferential statistics. Give an example of each\n",
    "type of statistics and explain how they are used."
   ]
  },
  {
   "cell_type": "markdown",
   "id": "52e9b649-f71c-4b9d-95cb-00600b1e980c",
   "metadata": {},
   "source": [
    "Descriptive statistics is used to describe and summarize the characteristics of a data set. It includes measures such as mean, median, mode, range, and standard deviation. Descriptive statistics are used to present and analyze the data in a meaningful way, such as in tables, charts, or graphs.\n",
    "\n",
    "Inferential statistics, on the other hand, is used to make inferences or predictions about a population based on a sample of data. It involves using probability and hypothesis testing to draw conclusions about a population. For example, if a researcher wants to know if a new drug is effective in treating a certain condition, they may use inferential statistics to analyze the results of a clinical trial and make conclusions about the effectiveness of the drug for the larger population.\n",
    "\n",
    "Example:\n",
    "Descriptive statistics: A researcher collects data on the ages of students in a school and calculates the mean, median, and range of the ages to summarize the characteristics of the student population.\n",
    "\n",
    "Inferential statistics: A marketing company conducts a survey to determine if there is a relationship between customer satisfaction and brand loyalty. They use inferential statistics to analyze the survey results and make predictions about customer behavior based on the sample data.\n"
   ]
  },
  {
   "cell_type": "markdown",
   "id": "b24c9bb1-1699-44c1-87a2-360a82fcd5cc",
   "metadata": {},
   "source": [
    "Q10. What are some common measures of central tendency and variability used in statistics? Explain\n",
    "how each measure can be used to describe a dataset."
   ]
  },
  {
   "cell_type": "markdown",
   "id": "ca4b7be3-f854-424a-88aa-77f4d2dec1f8",
   "metadata": {},
   "source": [
    "Some common measures of central tendency used in statistics include the mean, median, and mode. The mean is the average of a set of numbers and is calculated by adding up all the values and dividing by the total number of values. The mean provides a measure of the center of the data set and is useful for understanding the typical value in a dataset.\n",
    "\n",
    "The median is the middle value in a data set when the values are arranged in ascending order. It is less affected by extreme values than the mean and provides a measure of the central tendency that is more robust to outliers.\n",
    "\n",
    "The mode is the value that appears most frequently in a data set. It provides information about the most common value or category in a dataset.\n",
    "\n",
    "Measures of variability, on the other hand, include range and standard deviation. The range is the difference between the highest and lowest values in a dataset and provides a simple measure of the spread of the data.\n",
    "\n",
    "The standard deviation measures the amount of variation or dispersion of a set of values. It indicates how much the values deviate from the mean. A larger standard deviation indicates that the values are more spread out, while a smaller standard deviation indicates that the values are closer to the mean.\n",
    "\n",
    "These measures of central tendency and variability are used to describe and summarize the characteristics of a dataset, providing valuable insights into the distribution and dispersion of the data.\n"
   ]
  },
  {
   "cell_type": "code",
   "execution_count": null,
   "id": "3b10b552-6d6e-46b5-a71e-28bafef673f1",
   "metadata": {},
   "outputs": [],
   "source": []
  }
 ],
 "metadata": {
  "kernelspec": {
   "display_name": "Python 3 (ipykernel)",
   "language": "python",
   "name": "python3"
  },
  "language_info": {
   "codemirror_mode": {
    "name": "ipython",
    "version": 3
   },
   "file_extension": ".py",
   "mimetype": "text/x-python",
   "name": "python",
   "nbconvert_exporter": "python",
   "pygments_lexer": "ipython3",
   "version": "3.10.8"
  }
 },
 "nbformat": 4,
 "nbformat_minor": 5
}
