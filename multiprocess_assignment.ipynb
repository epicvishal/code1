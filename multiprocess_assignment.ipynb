{
 "cells": [
  {
   "cell_type": "markdown",
   "id": "8277efd9-7cb0-4546-8bd6-99e38adeb983",
   "metadata": {},
   "source": [
    "Question 1. What is multiprocessing in python? why is it useful?"
   ]
  },
  {
   "cell_type": "code",
   "execution_count": 1,
   "id": "58fc46f6-ae0a-45c6-92c4-abd232586f76",
   "metadata": {},
   "outputs": [
    {
     "name": "stdout",
     "output_type": "stream",
     "text": [
      "[729, 512, 343, 216, 125, 64, 27, 8, 1]\n"
     ]
    }
   ],
   "source": [
    "# running multiple process simultaneously in a single program is known as multiprocess in python\n",
    "# it is usefull because it helps in achiving parallelism and it also improve overall effiency of the program.\n",
    "# example\n",
    "\n",
    "import multiprocessing\n",
    "import logging\n",
    "\n",
    "logging.basicConfig(filename=\"information.log\",level=logging.NOTSET)\n",
    "\n",
    "try:\n",
    "    def cube(n):\n",
    "        return n**3\n",
    "    \n",
    "    if __name__==\"__main__\":\n",
    "        with multiprocessing.Pool(processes=4) as pool:  \n",
    "            out=pool.map(cube,[9,8,7,6,5,4,3,2,1])\n",
    "            print(out)\n",
    "            logging.info(out)\n",
    "            \n",
    "except Exception as e:\n",
    "    print(e)\n",
    "    logging.error(\"{}\".format(e))\n",
    "            \n",
    "# as we can see above, I have created the 4 process to run one program in order to run the program more fast."
   ]
  },
  {
   "cell_type": "markdown",
   "id": "4f924113-7cd8-4a9a-99c9-7be40fdf6648",
   "metadata": {},
   "source": [
    "Question 2. What are the diffrence between multiprocessing and multithreading?"
   ]
  },
  {
   "cell_type": "code",
   "execution_count": 2,
   "id": "7954b69a-9c22-43d5-94be-7fe8bcddfbd5",
   "metadata": {},
   "outputs": [
    {
     "name": "stdout",
     "output_type": "stream",
     "text": [
      "the square of 1 is 1\n",
      "the square of 2 is 4\n",
      "the square of 3 is 9\n",
      "the square of 4 is 16\n",
      "the square of 5 is 25\n"
     ]
    }
   ],
   "source": [
    "# multiprocess is used to running multiple process simultaneously in a single program while\n",
    "# multithreading involves running multiple threads within a single process.\n",
    "\n",
    "\n",
    "# example of multiprocess\n",
    "\n",
    "import multiprocessing\n",
    "\n",
    "try:\n",
    "    def square(num):\n",
    "        result=num*num\n",
    "        print(f\"the square of {num} is {result}\")\n",
    "        logging.info(f\"the square of {num} is {result}\")\n",
    "        \n",
    "    if __name__==\"__main__\":\n",
    "        numbers=[1,2,3,4,5]\n",
    "        process=[]\n",
    "        \n",
    "        for num in numbers:\n",
    "            p=multiprocessing.Process(target=square,args=(num,))\n",
    "            process.append(p)\n",
    "            p.start()\n",
    "            \n",
    "        for process in process:\n",
    "            process.join()\n",
    "\n",
    "except Exception as e:\n",
    "    print(e)\n",
    "    logging.error(\"{}\".format(e))    "
   ]
  },
  {
   "cell_type": "code",
   "execution_count": 3,
   "id": "e628a6d3-226d-4d98-b458-b76e248b55e0",
   "metadata": {},
   "outputs": [
    {
     "name": "stdout",
     "output_type": "stream",
     "text": [
      "this is process 0\n",
      "active thread: 9\n",
      "this is process 1\n",
      "active thread: 8\n",
      "this is process 2\n",
      "active thread: 8\n"
     ]
    }
   ],
   "source": [
    "# example of multithreading\n",
    "\n",
    "import threading\n",
    "\n",
    "\n",
    "try:\n",
    "    \n",
    "    def square(id):\n",
    "        print(\"this is process %d\"%id)\n",
    "        logging.info(\"this is process %d\"%id)\n",
    "        \n",
    "    thread=[threading.Thread(target=square,args=(i,)) for i in range(3)]\n",
    "\n",
    "    \n",
    "    for t in thread:\n",
    "        t.start()\n",
    "        print(\"active thread:\",threading.active_count())\n",
    "        logging.info(\"{}\".format(\"active thread:\",threading.active_count()))\n",
    "        \n",
    "except Exception as e:\n",
    "    logging.error(\"{}\".fomat(e))\n",
    "    print(e)\n",
    "    \n",
    "    \n",
    "# as we can see above in the program that multithreading happend in single process"
   ]
  },
  {
   "cell_type": "markdown",
   "id": "24cf08f0-2905-4c95-b940-d5ed41a34001",
   "metadata": {},
   "source": [
    "Question 3. Write a pyhton code to create a process using the multiprocessing module"
   ]
  },
  {
   "cell_type": "code",
   "execution_count": 4,
   "id": "47161d58-330e-4938-8eff-cdeda2c20611",
   "metadata": {},
   "outputs": [
    {
     "name": "stdout",
     "output_type": "stream",
     "text": [
      "[1, 4, 9, 16, 25, 36, 49, 64, 81]\n"
     ]
    }
   ],
   "source": [
    "import multiprocessing\n",
    "\n",
    "try:\n",
    "    \n",
    "    def square(num):\n",
    "        return num*num\n",
    "    \n",
    "    if __name__==\"__main__\":\n",
    "        numbers=[1,2,3,4,5,6,7,8,9]\n",
    "        \n",
    "        with multiprocessing.Pool(processes=5) as pool:\n",
    "            result=pool.map(square,numbers)\n",
    "            print(result)\n",
    "            logging.info(result)\n",
    "        \n",
    "except Exception as e:\n",
    "    print(e)\n",
    "    logging.info(\"{}\".format(e))"
   ]
  },
  {
   "cell_type": "markdown",
   "id": "66194ddb-7ecd-486e-a624-24b4d9e5ed77",
   "metadata": {},
   "source": [
    "Question 4. What is multiprocessing pool in python using the multiprocessing module?"
   ]
  },
  {
   "cell_type": "code",
   "execution_count": 5,
   "id": "f74dfeb2-6b99-4a2b-9c13-217570a3582a",
   "metadata": {},
   "outputs": [
    {
     "name": "stdout",
     "output_type": "stream",
     "text": [
      "[44, 88, 132, 176, 220, 264, 308, 352, 396, 440]\n"
     ]
    }
   ],
   "source": [
    "# Multiprocess pool is a tool which used to prallel execution of tasks by automactically distribution the work \n",
    "# example\n",
    "\n",
    "import multiprocessing\n",
    "\n",
    "try:\n",
    "    \n",
    "    def test(num):\n",
    "        return (num+num)*2\n",
    "    \n",
    "    if __name__==\"__main__\":\n",
    "        numbers=[11,22,33,44,55,66,77,88,99,110]\n",
    "        \n",
    "        with multiprocessing.Pool(processes=5) as pool:  # here with pool tool give 5 processes to one program to execute faster\n",
    "            result=pool.map(test,numbers)\n",
    "            print(result)\n",
    "            logging.info(result)\n",
    "            \n",
    "except Exception as e:\n",
    "    print(e)\n",
    "    logging.error(\"{}\".format(e))"
   ]
  },
  {
   "cell_type": "markdown",
   "id": "ec750809-3606-4e98-8ead-0dd4484a0143",
   "metadata": {},
   "source": [
    "Question 5. How we can create a pool of worker processess in python using the multiprocessing module?"
   ]
  },
  {
   "cell_type": "code",
   "execution_count": 6,
   "id": "48df3482-dce4-48f6-9e5c-f783d90a11e8",
   "metadata": {},
   "outputs": [
    {
     "name": "stdout",
     "output_type": "stream",
     "text": [
      "[55.5, 111.0, 166.5, 222.0, 277.5, 333.0, 388.5, 444.0, 499.5]\n"
     ]
    }
   ],
   "source": [
    "# we can create pool using multiprocessing module in which we called the pool tool to assign the number of processing in it\n",
    "\n",
    "#example\n",
    "\n",
    "import multiprocessing\n",
    "\n",
    "try:\n",
    "    def test2(num):\n",
    "        return num/2\n",
    "    \n",
    "    if __name__==\"__main__\":\n",
    "        numbers=[111,222,333,444,555,666,777,888,999]\n",
    "        # here we create the pool and define the number of processes to it \n",
    "        with multiprocessing.Pool(processes=10) as pool: \n",
    "            result=pool.map(test2,numbers)\n",
    "            print(result)\n",
    "            logging.info(result)\n",
    "            \n",
    "except Exception as e:\n",
    "    print(e)\n",
    "    logging(\"{}\".format(e))"
   ]
  },
  {
   "cell_type": "markdown",
   "id": "e46c4ace-0539-4885-b121-0fba65af8d2e",
   "metadata": {},
   "source": [
    "Question 6. write a python program to create 4 processes, each process should print a different number using the multiprocessing module in python."
   ]
  },
  {
   "cell_type": "code",
   "execution_count": 14,
   "id": "47397ac6-0257-4e5d-876c-a9d340b6e6a4",
   "metadata": {},
   "outputs": [
    {
     "name": "stdout",
     "output_type": "stream",
     "text": [
      "[3564, 24234, 234234, 23424]\n"
     ]
    }
   ],
   "source": [
    "import multiprocessing\n",
    "\n",
    "try:\n",
    "    \n",
    "    def my_fun(num):\n",
    "        return num\n",
    "    \n",
    "    \n",
    "    if __name__==\"__main__\":\n",
    "        number=[3564,24234,234234,23424]\n",
    "        pool=multiprocessing.Pool(processes=4)\n",
    "        result=pool.map(my_fun,number)\n",
    "        print(result)\n",
    "        logging.info(result)\n",
    "        \n",
    "except Exception as e:\n",
    "    print(e)\n",
    "    logging.error(\"{}\".format(e))\n",
    "        \n",
    "\n",
    "# here the numbers are print my four processes        \n",
    "        "
   ]
  },
  {
   "cell_type": "code",
   "execution_count": null,
   "id": "f54ee41c-2369-4d99-8dec-7806598ef11c",
   "metadata": {},
   "outputs": [],
   "source": []
  },
  {
   "cell_type": "code",
   "execution_count": null,
   "id": "29ceb207-77e7-4575-b033-94b5a5f5c0c4",
   "metadata": {},
   "outputs": [],
   "source": []
  }
 ],
 "metadata": {
  "kernelspec": {
   "display_name": "Python 3 (ipykernel)",
   "language": "python",
   "name": "python3"
  },
  "language_info": {
   "codemirror_mode": {
    "name": "ipython",
    "version": 3
   },
   "file_extension": ".py",
   "mimetype": "text/x-python",
   "name": "python",
   "nbconvert_exporter": "python",
   "pygments_lexer": "ipython3",
   "version": "3.10.8"
  }
 },
 "nbformat": 4,
 "nbformat_minor": 5
}
