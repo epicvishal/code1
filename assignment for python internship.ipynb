{
 "cells": [
  {
   "cell_type": "code",
   "execution_count": 13,
   "id": "10167db3-2dfa-4507-aa2f-5743179d2e26",
   "metadata": {},
   "outputs": [],
   "source": [
    "# weather api\n",
    "\n",
    "import requests\n",
    "import json"
   ]
  },
  {
   "cell_type": "code",
   "execution_count": 14,
   "id": "d15d4a27-c90d-445f-a173-bf8038b610fa",
   "metadata": {},
   "outputs": [
    {
     "name": "stdin",
     "output_type": "stream",
     "text": [
      "Enter the name of the city \n",
      " hathras\n"
     ]
    },
    {
     "name": "stdout",
     "output_type": "stream",
     "text": [
      "tempreature 15.8\n"
     ]
    }
   ],
   "source": [
    "city=input(\"Enter the name of the city \\n\")\n",
    "url=f\"https://api.weatherapi.com/v1/current.json?key=c6cbb93a2471466fa87155942241602&q={city}\"\n",
    "r= requests.get(url)\n",
    "#print(r.text)\n",
    "wdic=json.loads(r.text)\n",
    "print(\"tempreature\",wdic[\"current\"][\"temp_c\"])"
   ]
  },
  {
   "cell_type": "code",
   "execution_count": null,
   "id": "a262c021-019e-4eda-a35a-c2c9d42bbc60",
   "metadata": {},
   "outputs": [
    {
     "name": "stdout",
     "output_type": "stream",
     "text": [
      "\n",
      "===== TO DO List =====\n",
      "1. Add Task\n",
      "2. show Tasks\n",
      "3. Mark Task as Done\n",
      "4. Exit\n"
     ]
    },
    {
     "name": "stdin",
     "output_type": "stream",
     "text": [
      "Enter your choice: 1\n"
     ]
    },
    {
     "name": "stdout",
     "output_type": "stream",
     "text": [
      "\n"
     ]
    },
    {
     "name": "stdin",
     "output_type": "stream",
     "text": [
      "How many tasks you want to add: 1\n",
      "Enter the task: add \n"
     ]
    },
    {
     "name": "stdout",
     "output_type": "stream",
     "text": [
      "Task added\n",
      "\n",
      "===== TO DO List =====\n",
      "1. Add Task\n",
      "2. show Tasks\n",
      "3. Mark Task as Done\n",
      "4. Exit\n"
     ]
    },
    {
     "name": "stdin",
     "output_type": "stream",
     "text": [
      "Enter your choice: 2\n"
     ]
    },
    {
     "name": "stdout",
     "output_type": "stream",
     "text": [
      "\n",
      "Tasks:\n",
      "1. add  - Not Done\n",
      "\n",
      "===== TO DO List =====\n",
      "1. Add Task\n",
      "2. show Tasks\n",
      "3. Mark Task as Done\n",
      "4. Exit\n"
     ]
    },
    {
     "name": "stdin",
     "output_type": "stream",
     "text": [
      "Enter your choice: 3\n",
      "Enter the task number to mark as done:  1\n"
     ]
    },
    {
     "name": "stdout",
     "output_type": "stream",
     "text": [
      "task marked as done!\n",
      "\n",
      "===== TO DO List =====\n",
      "1. Add Task\n",
      "2. show Tasks\n",
      "3. Mark Task as Done\n",
      "4. Exit\n"
     ]
    }
   ],
   "source": [
    "# to do list\n",
    "\n",
    "def main():\n",
    "    tasks=[]\n",
    "    while True:\n",
    "        print(\"\\n===== TO DO List =====\")\n",
    "        print(\"1. Add Task\")\n",
    "        print(\"2. show Tasks\")\n",
    "        print(\"3. Mark Task as Done\")\n",
    "        print(\"4. Exit\")\n",
    "        \n",
    "        choice = input(\"Enter your choice:\")\n",
    "        \n",
    "        if choice == \"1\":\n",
    "            print()\n",
    "            n_tasks = int(input(\"How many tasks you want to add:\"))\n",
    "            \n",
    "            for i in range(n_tasks):\n",
    "                task = input(\"Enter the task:\")\n",
    "                tasks.append({\"task\": task,\"done\":False})\n",
    "                print(\"Task added\")\n",
    "        \n",
    "        elif choice == '2':\n",
    "            print(\"\\nTasks:\")\n",
    "            for index, task in enumerate(tasks):\n",
    "                status=\"Done\" if task[\"done\"] else \"Not Done\"\n",
    "                print(f\"{index +1}. {task['task']} - {status}\")\n",
    "                \n",
    "        elif choice == '3':\n",
    "            task_index = int(input(\"Enter the task number to mark as done: \")) - 1\n",
    "            if 0<= task_index < len(tasks):\n",
    "                tasks[task_index][\"done\"] = True\n",
    "                print(\"task marked as done!\")\n",
    "            else:\n",
    "                print(\"Invalid task number:\")\n",
    "                \n",
    "        elif choice == \"4\":\n",
    "            print(\"Exiting the TO-DO list.\")\n",
    "            break\n",
    "            \n",
    "        else:\n",
    "            print(\"Invalid choice. Please try again\")\n",
    "            \n",
    "            \n",
    "            \n",
    "if __name__ ==\"__main__\":\n",
    "    main()"
   ]
  },
  {
   "cell_type": "code",
   "execution_count": 1,
   "id": "4be9823e-cafc-4908-ac06-eec48c4a79f2",
   "metadata": {},
   "outputs": [
    {
     "name": "stdout",
     "output_type": "stream",
     "text": [
      "\u001b[31mERROR: Could not find a version that satisfies the requirement sqlite3 (from versions: none)\u001b[0m\u001b[31m\n",
      "\u001b[0m\u001b[31mERROR: No matching distribution found for sqlite3\u001b[0m\u001b[31m\n",
      "\u001b[0mNote: you may need to restart the kernel to use updated packages.\n"
     ]
    }
   ],
   "source": [
    "pip install sqlite3"
   ]
  },
  {
   "cell_type": "code",
   "execution_count": 2,
   "id": "76f9f038-f9ee-4379-9d2a-a64eec873491",
   "metadata": {},
   "outputs": [],
   "source": [
    "import sqlite3"
   ]
  },
  {
   "cell_type": "code",
   "execution_count": null,
   "id": "9869e053-e90d-49f4-9cbc-59ab7a47293d",
   "metadata": {},
   "outputs": [],
   "source": []
  }
 ],
 "metadata": {
  "kernelspec": {
   "display_name": "Python 3 (ipykernel)",
   "language": "python",
   "name": "python3"
  },
  "language_info": {
   "codemirror_mode": {
    "name": "ipython",
    "version": 3
   },
   "file_extension": ".py",
   "mimetype": "text/x-python",
   "name": "python",
   "nbconvert_exporter": "python",
   "pygments_lexer": "ipython3",
   "version": "3.10.8"
  }
 },
 "nbformat": 4,
 "nbformat_minor": 5
}
