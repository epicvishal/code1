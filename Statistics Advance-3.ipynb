{
 "cells": [
  {
   "cell_type": "markdown",
   "id": "d1844377-7416-4630-966a-b66a6b3ae94f",
   "metadata": {},
   "source": [
    "Q1: What is Estimation Statistics? Explain point estimate and interval estimate."
   ]
  },
  {
   "cell_type": "code",
   "execution_count": 1,
   "id": "f90f0a4b-07cf-48ae-a378-e7b9ba9966d4",
   "metadata": {},
   "outputs": [],
   "source": [
    "#Estimation statistics is a branch of statistics that deals with estimating unknown parameters or characteristics of a population based on sample data. It involves using sample statistics to make inferences or predictions about population parameters.\n",
    "\n",
    "#Point estimate:\n",
    "#A point estimate is a single value that is used to estimate an unknown population parameter. It is calculated from the sample data and provides an estimate of the true value of the parameter. For example, if we want to estimate the mean height of all adults in a country, we can take a sample of heights and calculate the mean of the sample. This sample mean is a point estimate of the population mean.\n",
    "\n",
    "#Interval estimate:\n",
    "#An interval estimate provides a range of values within which the true population parameter is likely to fall. It takes into account the uncertainty associated with estimating the parameter and provides a measure of the precision or confidence in the estimate. Interval estimates are often expressed as confidence intervals. For example, a 95% confidence interval for the mean height of adults in a country might be [165 cm, 175 cm]. This means that we are 95% confident that the true population mean falls within this interval.\n",
    "\n",
    "#Interval estimates are based on both the sample data and the variability within the data. The width of the interval depends on factors such as the sample size, the level of confidence desired, and the variability of the data. A larger sample size or a higher level of confidence will result in a narrower interval.\n"
   ]
  },
  {
   "cell_type": "markdown",
   "id": "2520d357-1b65-414c-b62c-823f4b1b329d",
   "metadata": {},
   "source": [
    "Q2. Write a Python function to estimate the population mean using a sample mean and standard\n",
    "deviation."
   ]
  },
  {
   "cell_type": "code",
   "execution_count": 2,
   "id": "58c27d90-25b4-4bdc-ac0b-04a85c925515",
   "metadata": {},
   "outputs": [],
   "source": [
    "import math \n",
    "\n",
    "def estimate_population_mean(sample_mean,sample_std_dev, sample_size):\n",
    "    \n",
    "    std_error = sample_std_dev/math.sqrt(sample_size)\n",
    "    \n",
    "    margin_of_error = 1.96 * std_error\n",
    "    \n",
    "    lower_bound = sample_mean - margin_of_error\n",
    "    upper_bound = sample_mean + margin_of_error\n",
    "    \n",
    "    return sample_mean, (lower_bound, upper_bound)"
   ]
  },
  {
   "cell_type": "code",
   "execution_count": 5,
   "id": "8318f51f-fc2f-4531-b86c-1aa1e29be26f",
   "metadata": {},
   "outputs": [
    {
     "name": "stdout",
     "output_type": "stream",
     "text": [
      "Estimate population mean: 50.5\n",
      "confidence interval: (48.5008, 52.4992)\n"
     ]
    }
   ],
   "source": [
    "sample_mean = 50.5\n",
    "sample_std_dev = 10.2\n",
    "sample_size = 100\n",
    "\n",
    "estimate_mean, confidence_interval = estimate_population_mean(sample_mean, sample_std_dev, sample_size)\n",
    "\n",
    "print(\"Estimate population mean:\",estimate_mean)\n",
    "print(\"confidence interval:\",confidence_interval)"
   ]
  },
  {
   "cell_type": "markdown",
   "id": "9dddbbeb-175b-4f21-a88c-9327c37cd8c4",
   "metadata": {},
   "source": [
    "Q3: What is Hypothesis testing? Why is it used? State the importance of Hypothesis testing."
   ]
  },
  {
   "cell_type": "code",
   "execution_count": 6,
   "id": "cb138615-73ef-4928-9e18-7ead61bacc13",
   "metadata": {},
   "outputs": [],
   "source": [
    "#Hypothesis testing is a statistical method used to make inferences or draw conclusions about a population based on a sample of data. It involves formulating two competing hypotheses, the null hypothesis (H0) and the alternative hypothesis (Ha), and collecting evidence from the data to determine which hypothesis is more likely to be true.\n",
    "\n",
    "#The null hypothesis represents the default or existing belief, while the alternative hypothesis represents a new or different claim. Hypothesis testing allows us to assess the strength of evidence against the null hypothesis and make decisions based on this evidence.\n",
    "\n",
    "#The importance of hypothesis testing lies in its ability to provide a systematic framework for making decisions and drawing conclusions in the face of uncertainty. Here are some key reasons why hypothesis testing is important:\n",
    "\n",
    "#1. Objectivity: Hypothesis testing provides an objective way to evaluate the validity of claims or hypotheses. It allows us to base decisions on evidence rather than personal beliefs or opinions.\n",
    "\n",
    "#2. Scientific Method: Hypothesis testing is an essential part of the scientific method. It helps researchers test theories, validate assumptions, and contribute to the body of knowledge in various fields.\n",
    "\n",
    "#3. Decision Making: Hypothesis testing provides a structured approach to decision making. It helps businesses, organizations, and policymakers make informed choices based on statistical evidence.\n",
    "\n",
    "#4. Quality Control: Hypothesis testing plays a crucial role in quality control processes. It allows companies to assess whether their products or processes meet certain standards or specifications.\n",
    "\n",
    "#5. Risk Assessment: Hypothesis testing helps in assessing risks and uncertainties associated with different scenarios. It allows decision-makers to quantify the likelihood of certain outcomes and make risk-informed decisions.\n",
    "\n",
    "#6. Generalizability: Hypothesis testing enables researchers to generalize findings from a sample to a larger population. It provides a way to make inferences about a population based on limited data.\n"
   ]
  },
  {
   "cell_type": "markdown",
   "id": "16861994-ae55-4101-b331-81396d3d3218",
   "metadata": {},
   "source": [
    "Q4. Create a hypothesis that states whether the average weight of male college students is greater than\n",
    "the average weight of female college students."
   ]
  },
  {
   "cell_type": "code",
   "execution_count": 9,
   "id": "36f605e8-5bb4-488c-8a90-280427e9cb2c",
   "metadata": {},
   "outputs": [
    {
     "name": "stdout",
     "output_type": "stream",
     "text": [
      "Reject the null hypothesis.\n",
      "The average weight of male college students is greater than the average weight of female college students\n"
     ]
    }
   ],
   "source": [
    "import numpy as np\n",
    "from scipy import stats\n",
    "\n",
    "male_weights = np.array([70,75,80,85,90])\n",
    "\n",
    "female_weights = np.array([60,65,70,75,80])\n",
    "\n",
    "null_hypothesis = \"The average weight of male college students is equal  to or less than the averge weight of female college students\"\n",
    "alternative_hypothesis = \"The average weight of male college students is greater than the average weight of female college students\"\n",
    "\n",
    "t_statistics,p_value=stats.ttest_ind(male_weights,female_weights,alternative='greater')\n",
    "\n",
    "alpha = 0.05\n",
    "\n",
    "if p_value < alpha:\n",
    "    print(\"Reject the null hypothesis.\")\n",
    "    print(alternative_hypothesis)\n",
    "else:\n",
    "    print(\"Fail to reject the null hypothesis.\")\n",
    "    print(null_hypothesis)"
   ]
  },
  {
   "cell_type": "markdown",
   "id": "1db08fe5-54ed-42bb-b620-e1835d587a66",
   "metadata": {},
   "source": [
    "Q5. Write a Python script to conduct a hypothesis test on the difference between two population means,\n",
    "given a sample from each population."
   ]
  },
  {
   "cell_type": "code",
   "execution_count": 10,
   "id": "644e0d29-7840-4395-84d3-480515747ff0",
   "metadata": {},
   "outputs": [
    {
     "name": "stdout",
     "output_type": "stream",
     "text": [
      "Reject the null hypothesis\n",
      "The means of the two population are different\n"
     ]
    }
   ],
   "source": [
    "import numpy as np\n",
    "from scipy import stats\n",
    "\n",
    "population1 = np.array([1,2,3,4,5])\n",
    "\n",
    "population2 = np.array([6,7,8,9,10])\n",
    "\n",
    "null_hypothesis = \"The means of the two population are equal\"\n",
    "\n",
    "alternative_hypothesis = \"The means of the two population are different\"\n",
    "\n",
    "t_statistic, p_value = stats.ttest_ind(population1, population2)\n",
    "\n",
    "alpha = 0.05\n",
    "\n",
    "if p_value< alpha:\n",
    "    print(\"Reject the null hypothesis\")\n",
    "    print(alternative_hypothesis)\n",
    "else:\n",
    "    print(\"fail to reject the null hypothesis\")\n",
    "    print(null_hypothesis)"
   ]
  },
  {
   "cell_type": "markdown",
   "id": "7b424051-a059-4990-bd75-8b832ed87fc4",
   "metadata": {},
   "source": [
    "Q6: What is a null and alternative hypothesis? Give some examples."
   ]
  },
  {
   "cell_type": "code",
   "execution_count": 11,
   "id": "ec6249c1-15e1-4135-be43-7ab0f63a5e97",
   "metadata": {},
   "outputs": [],
   "source": [
    "#In hypothesis testing, the null hypothesis (H0) is a statement that assumes there is no significant difference or relationship between variables. The alternative hypothesis (H1) is a statement that contradicts the null hypothesis and suggests that there is a significant difference or relationship between variables.\n",
    "\n",
    "#Here are some examples of null and alternative hypotheses:\n",
    "\n",
    "#1. Example for comparing means:\n",
    " #  Null hypothesis (H0): The mean weight loss of participants in a diet program is equal to zero.\n",
    " #  Alternative hypothesis (H1): The mean weight loss of participants in a diet program is not equal to zero.\n",
    "\n",
    "#2. Example for comparing proportions:\n",
    " #  Null hypothesis (H0): The proportion of people who prefer brand A is equal to the proportion of people who prefer brand B.\n",
    " #  Alternative hypothesis (H1): The proportion of people who prefer brand A is different from the proportion of people who prefer brand B.\n",
    "\n",
    "#3. Example for testing correlation:\n",
    " #  Null hypothesis (H0): There is no significant correlation between hours studied and exam scores.\n",
    " #  Alternative hypothesis (H1): There is a significant correlation between hours studied and exam scores.\n",
    "\n",
    "#4. Example for testing the effectiveness of a new drug:\n",
    " #  Null hypothesis (H0): The new drug has no effect on reducing symptoms.\n",
    " #  Alternative hypothesis (H1): The new drug has a significant effect on reducing symptoms.\n",
    "\n",
    "#5. Example for testing the impact of a training program:\n",
    " #  Null hypothesis (H0): The training program has no effect on employee productivity.\n",
    " #  Alternative hypothesis (H1): The training program has a significant effect on employee productivity.\n"
   ]
  },
  {
   "cell_type": "markdown",
   "id": "d439f8fe-b1b5-4b6d-88ef-ae93ca786487",
   "metadata": {},
   "source": [
    "Q7: Write down the steps involved in hypothesis testing."
   ]
  },
  {
   "cell_type": "code",
   "execution_count": 12,
   "id": "9c0eadb7-70c9-477c-ba59-fee4a04aa4ae",
   "metadata": {},
   "outputs": [],
   "source": [
    "#The steps involved in hypothesis testing are as follows:\n",
    "\n",
    "#1. State the null and alternative hypotheses: Clearly define the null hypothesis (H0) and the alternative hypothesis (H1) based on the research question being investigated.\n",
    "\n",
    "#2. Set the significance level: Determine the desired level of significance (usually denoted as α), which represents the maximum probability of rejecting the null hypothesis when it is true. Common significance levels include 0.05 (5%) and 0.01 (1%).\n",
    "\n",
    "#3. Collect and analyze data: Gather relevant data and perform appropriate statistical analysis to obtain sample statistics, such as means, proportions, or correlation coefficients.\n",
    "\n",
    "#4. Determine the test statistic: Calculate the test statistic based on the sample data and the specific hypothesis test being conducted. The test statistic is a numerical value that measures the difference between the observed data and what would be expected under the null hypothesis.\n",
    "\n",
    "#5. Determine the critical region: Identify the critical region or rejection region, which is the range of values for the test statistic that would lead to rejecting the null hypothesis. The critical region is determined based on the significance level and the distribution of the test statistic (e.g., t-distribution or z-distribution).\n",
    "\n",
    "#6. Compare the test statistic to critical values: Compare the calculated test statistic to the critical values from the distribution. If the test statistic falls within the critical region, the null hypothesis is rejected in favor of the alternative hypothesis. If it falls outside the critical region, the null hypothesis is not rejected.\n",
    "\n",
    "#7. Calculate the p-value: Alternatively, instead of comparing the test statistic to critical values, you can calculate the p-value. The p-value is the probability of obtaining a test statistic as extreme or more extreme than the observed value, assuming the null hypothesis is true. If the p-value is less than or equal to the significance level, the null hypothesis is rejected.\n",
    "\n",
    "#8. Draw conclusions: Based on the results of the hypothesis test, make a decision about whether to reject or fail to reject the null hypothesis. If the null hypothesis is rejected, it suggests evidence in favor of the alternative hypothesis. If the null hypothesis is not rejected, there is not enough evidence to support the alternative hypothesis.\n",
    "\n",
    "#9. Interpret the results: Explain the implications and meaning of the hypothesis test results in the context of the research question. Discuss any limitations or assumptions made during the hypothesis testing process.\n"
   ]
  },
  {
   "cell_type": "markdown",
   "id": "5ea5b877-a604-4226-adf9-118c322c0375",
   "metadata": {},
   "source": [
    "Q8. Define p-value and explain its significance in hypothesis testing."
   ]
  },
  {
   "cell_type": "code",
   "execution_count": 13,
   "id": "6b7e785f-c778-4d93-8db6-1533b013ebe6",
   "metadata": {},
   "outputs": [],
   "source": [
    "#The p-value is a statistical measure that quantifies the strength of evidence against the null hypothesis.\n",
    "#It represents the probability of obtaining a test statistic as extreme or more extreme than the observed value, assuming the null hypothesis is true.\n",
    "\n",
    "#In hypothesis testing, the p-value is compared to the significance level (α) to make a decision about whether to reject or fail to reject the null hypothesis. \n",
    "#If the p-value is less than or equal to α, it suggests that the observed data is unlikely to have occurred by chance alone under the null hypothesis.\n",
    "#In this case, the null hypothesis is rejected in favor of the alternative hypothesis, indicating that there is sufficient evidence to support the alternative hypothesis.\n",
    "\n",
    "#On the other hand, if the p-value is greater than α, it suggests that the observed data is reasonably likely to have occurred by chance alone under the null hypothesis.\n",
    "#In this case, the null hypothesis is not rejected, indicating that there is not enough evidence to support the alternative hypothesis.\n",
    "\n",
    "#The p-value provides a quantitative measure of how strong the evidence is against the null hypothesis. \n",
    "#A smaller p-value indicates stronger evidence against the null hypothesis, while a larger p-value suggests weaker evidence. However, \n",
    "#it is important to note that the p-value does not directly provide information about the magnitude or practical significance of the observed effect.\n",
    "#It only indicates whether the effect is statistically significant or not."
   ]
  },
  {
   "cell_type": "markdown",
   "id": "0dfcafe7-b11d-4ebd-b11e-037a3a085c96",
   "metadata": {},
   "source": [
    "Q9. Generate a Student's t-distribution plot using Python's matplotlib library, with the degrees of freedom\n",
    "parameter set to 10.\n",
    "\n"
   ]
  },
  {
   "cell_type": "code",
   "execution_count": 18,
   "id": "47f42061-2634-4a7a-9b50-c2b291fa645b",
   "metadata": {},
   "outputs": [
    {
     "data": {
      "image/png": "[encoded data removed]",
      "text/plain": [
       "<Figure size 640x480 with 1 Axes>"
      ]
     },
     "metadata": {},
     "output_type": "display_data"
    }
   ],
   "source": [
    "import numpy as np\n",
    "import matplotlib.pyplot as plt\n",
    "from scipy.stats import t\n",
    "\n",
    "df = 10\n",
    "\n",
    "x = np.linspace(-4,4,100)\n",
    "\n",
    "y = t.pdf(x,df)\n",
    "\n",
    "plt.plot(x,y)\n",
    "plt.title(\"Student's T-distribution (df = 10)\")\n",
    "plt.xlabel(\"X\")\n",
    "plt.ylabel(\"Probability Density\")\n",
    "plt.grid(True)\n",
    "plt.show()"
   ]
  },
  {
   "cell_type": "markdown",
   "id": "c5ea0b1c-3bdd-4385-bd2c-61ef8a4953ed",
   "metadata": {},
   "source": [
    "Q10. Write a Python program to calculate the two-sample t-test for independent samples, given two\n",
    "random samples of equal size and a null hypothesis that the population means are equal."
   ]
  },
  {
   "cell_type": "code",
   "execution_count": 19,
   "id": "5f1a64f8-166f-499f-a542-b4da2f3b3c68",
   "metadata": {},
   "outputs": [
    {
     "name": "stdout",
     "output_type": "stream",
     "text": [
      "T-Statistics: -5.0\n",
      "P-value: 8.355469790577332e-06\n"
     ]
    }
   ],
   "source": [
    "import numpy as np\n",
    "from scipy.stats import ttest_ind\n",
    "\n",
    "sample1 = np.random.normal(0,1,100)\n",
    "sample2 = np.random.normal(0.5,1,100)\n",
    "\n",
    "t_statistics, p_value = ttest_ind(sample1, sample2)\n",
    "\n",
    "print(\"T-Statistics:\",t_statistic)\n",
    "print(\"P-value:\",p_value)"
   ]
  },
  {
   "cell_type": "markdown",
   "id": "0a07f7ee-8dde-4128-8ab9-1468de843c30",
   "metadata": {},
   "source": [
    "Q11: What is Student’s t distribution? When to use the t-Distribution.\n",
    "\n"
   ]
  },
  {
   "cell_type": "code",
   "execution_count": 20,
   "id": "38858552-962d-4f5d-81cc-55e164622ec9",
   "metadata": {},
   "outputs": [],
   "source": [
    "#Student's t-distribution, also known as the t-distribution, is a probability distribution that is used to estimate population parameters when the sample size is small and the population standard deviation is unknown. It is similar to the normal distribution, but with heavier tails.\n",
    "\n",
    "#The t-distribution is characterized by its degrees of freedom (df), which determine the shape of the distribution. As the degrees of freedom increase, the t-distribution approaches the standard normal distribution.\n",
    "\n",
    "#The t-distribution is used in statistical hypothesis testing when we want to compare sample means and make inferences about the population means. It is commonly used when:\n",
    "\n",
    "#1. The sample size is small: The t-distribution is more appropriate when the sample size is small (typically less than 30) because it accounts for the added uncertainty due to the smaller sample.\n",
    "\n",
    "#2. The population standard deviation is unknown: If the population standard deviation is unknown, the t-distribution can be used to estimate it based on the sample standard deviation.\n",
    "\n",
    "#3. The data are normally distributed: The t-distribution assumes that the data are normally distributed. However, it is robust to deviations from normality, especially when the sample size is large."
   ]
  },
  {
   "cell_type": "markdown",
   "id": "2cfeca8a-4980-459e-bcd2-d17ad3fce1eb",
   "metadata": {},
   "source": [
    "Q12: What is t-statistic? State the formula for t-statistic."
   ]
  },
  {
   "cell_type": "code",
   "execution_count": 21,
   "id": "b4e072c3-91d5-44d4-8dfa-f428b367658e",
   "metadata": {},
   "outputs": [],
   "source": [
    "#The t-statistic, also known as the t-value, is a measure of how much the sample mean differs from the hypothesized population mean, in terms of standard errors. It is used in hypothesis testing to determine whether there is a significant difference between the sample mean and the population mean.\n",
    "\n",
    "#The formula for calculating the t-statistic is:\n",
    "\n",
    "#t = (x - μ) / (s / √n)\n",
    "\n",
    "#where:\n",
    "#- t is the t-statistic\n",
    "#- x is the sample mean\n",
    "#- μ is the hypothesized population mean\n",
    "#- s is the sample standard deviation\n",
    "#- n is the sample size\n",
    "\n",
    "#In this formula, (x - μ) represents the difference between the sample mean and the hypothesized population mean. The denominator (s / √n) represents the standard error of the sample mean, which measures the variability of the sample mean."
   ]
  },
  {
   "cell_type": "markdown",
   "id": "33a06ff7-e36a-48e8-91fd-e0ae36d76929",
   "metadata": {},
   "source": [
    "Q13. A coffee shop owner wants to estimate the average daily revenue for their shop. They take a random\n",
    "sample of 50 days and find the sample mean revenue to be $500 with a standard deviation of $50.\n",
    "Estimate the population mean revenue with a 95% confidence interval.\n",
    "\n"
   ]
  },
  {
   "cell_type": "code",
   "execution_count": 24,
   "id": "26ba3069-0f36-4ba7-ad12-e73166452ba0",
   "metadata": {},
   "outputs": [
    {
     "name": "stdout",
     "output_type": "stream",
     "text": [
      "The 95% confidence interval for the population mean revenue is ($ 485.79, $ 514.21)\n"
     ]
    }
   ],
   "source": [
    "import scipy.stats as stats\n",
    "import math\n",
    "\n",
    "sample_mean = 500\n",
    "standard_deviation = 50\n",
    "sample_size = 50\n",
    "confidence_level = 0.95\n",
    "\n",
    "standard_error = standard_deviation / math.sqrt(sample_size)\n",
    "\n",
    "degree_of_freedom = sample_size -1 \n",
    "\n",
    "t_value = stats.t.ppf((1+confidence_level)/2,degree_of_freedom)\n",
    "\n",
    "\n",
    "margin_of_error = t_value * standard_error\n",
    "\n",
    "lower_bound = sample_mean - margin_of_error\n",
    "upper_bound = sample_mean + margin_of_error\n",
    "\n",
    "print(f\"The 95% confidence interval for the population mean revenue is (${lower_bound: .2f}, ${upper_bound: .2f})\")"
   ]
  },
  {
   "cell_type": "markdown",
   "id": "9ecd4b1b-bafe-4006-adec-17709ec20c4c",
   "metadata": {},
   "source": [
    "Q14. A researcher hypothesizes that a new drug will decrease blood pressure by 10 mmHg. They conduct a\n",
    "clinical trial with 100 patients and find that the sample mean decrease in blood pressure is 8 mmHg with a\n",
    "standard deviation of 3 mmHg. Test the hypothesis with a significance level of 0.05."
   ]
  },
  {
   "cell_type": "code",
   "execution_count": 26,
   "id": "4e1485ff-82e8-4235-97d6-32e4f304aec1",
   "metadata": {},
   "outputs": [
    {
     "name": "stdout",
     "output_type": "stream",
     "text": [
      "Reject the null hypothesis\n"
     ]
    }
   ],
   "source": [
    "import scipy.stats as stats\n",
    "import math\n",
    "\n",
    "sample_mean = 8\n",
    "hypothesized_mean = 10\n",
    "standard_deviation = 3\n",
    "significance_level = 0.05\n",
    "\n",
    "test_statistic = (sample_mean -hypothesized_mean)/(standard_deviation /math.sqrt(sample_size))\n",
    "\n",
    "degrees_of_freedom = sample_size -1\n",
    "\n",
    "p_value = 2*(1-stats.t.cdf(abs(test_statistic),degree_of_freedom))\n",
    "\n",
    "if p_value< significance_level:\n",
    "    print(\"Reject the null hypothesis\")\n",
    "else:\n",
    "    print(\"Fail to reject the null hypothesis\")\n",
    "    "
   ]
  },
  {
   "cell_type": "markdown",
   "id": "c1e4682a-acfc-4aee-9312-c1a71f046438",
   "metadata": {},
   "source": [
    "Q15. An electronics company produces a certain type of product with a mean weight of 5 pounds and a\n",
    "standard deviation of 0.5 pounds. A random sample of 25 products is taken, and the sample mean weight\n",
    "is found to be 4.8 pounds. Test the hypothesis that the true mean weight of the products is less than 5\n",
    "pounds with a significance level of 0.01."
   ]
  },
  {
   "cell_type": "code",
   "execution_count": 27,
   "id": "720a128b-652d-4403-948f-1f1f391b8ad6",
   "metadata": {},
   "outputs": [
    {
     "name": "stdout",
     "output_type": "stream",
     "text": [
      "Fail to reject the null hypothesis\n"
     ]
    }
   ],
   "source": [
    "import scipy.stats as stats\n",
    "import math\n",
    "\n",
    "sample_mean = 4.8\n",
    "hypothesized_mean = 5\n",
    "standard_deviation = 0.5\n",
    "sample_size = 25\n",
    "significance_level = 0.01\n",
    "\n",
    "\n",
    "test_statistic = (sample_mean - hypothesized_mean) / (standard_deviation / math.sqrt(sample_size))\n",
    "\n",
    "\n",
    "degrees_of_freedom = sample_size - 1\n",
    "\n",
    "\n",
    "p_value = stats.t.cdf(test_statistic, degrees_of_freedom)\n",
    "\n",
    "\n",
    "if p_value < significance_level:\n",
    "    print(\"Reject the null hypothesis\")\n",
    "else:\n",
    "    print(\"Fail to reject the null hypothesis\")\n"
   ]
  },
  {
   "cell_type": "markdown",
   "id": "c0866e59-98d0-48cf-83a8-7c7056d7dab4",
   "metadata": {},
   "source": [
    "Q16. Two groups of students are given different study materials to prepare for a test. The first group (n1 =\n",
    "30) has a mean score of 80 with a standard deviation of 10, and the second group (n2 = 40) has a mean\n",
    "score of 75 with a standard deviation of 8. Test the hypothesis that the population means for the two\n",
    "groups are equal with a significance level of 0.01."
   ]
  },
  {
   "cell_type": "code",
   "execution_count": 28,
   "id": "3d294e8d-36d7-470c-8451-a0977aaa6cd4",
   "metadata": {},
   "outputs": [
    {
     "name": "stdout",
     "output_type": "stream",
     "text": [
      "Fail to reject the null hypothesis\n"
     ]
    }
   ],
   "source": [
    "import scipy.stats as stats\n",
    "import math\n",
    "\n",
    "sample_mean1 = 80\n",
    "sample_mean2 = 75\n",
    "sample_variance1 = 10**2\n",
    "sample_variance2 = 8**2\n",
    "n1 = 30\n",
    "n2 = 40\n",
    "significance_level = 0.01\n",
    "\n",
    "\n",
    "test_statistic = (sample_mean1 - sample_mean2) / math.sqrt((sample_variance1/n1) + (sample_variance2/n2))\n",
    "\n",
    "\n",
    "degrees_of_freedom = n1 + n2 - 2\n",
    "\n",
    "\n",
    "p_value = 2 * (1 - stats.t.cdf(abs(test_statistic), degrees_of_freedom))\n",
    "\n",
    "\n",
    "if p_value < significance_level:\n",
    "    print(\"Reject the null hypothesis\")\n",
    "else:\n",
    "    print(\"Fail to reject the null hypothesis\")\n"
   ]
  },
  {
   "cell_type": "markdown",
   "id": "88d16653-abdf-4183-a16b-407c9483c9d4",
   "metadata": {},
   "source": [
    "Q17. A marketing company wants to estimate the average number of ads watched by viewers during a TV\n",
    "program. They take a random sample of 50 viewers and find that the sample mean is 4 with a standard\n",
    "deviation of 1.5. Estimate the population mean with a 99% confidence interval."
   ]
  },
  {
   "cell_type": "code",
   "execution_count": null,
   "id": "4606f0a6-2ae6-4da1-8c09-17f2f1ff1c64",
   "metadata": {},
   "outputs": [],
   "source": []
  }
 ],
 "metadata": {
  "kernelspec": {
   "display_name": "Python 3 (ipykernel)",
   "language": "python",
   "name": "python3"
  },
  "language_info": {
   "codemirror_mode": {
    "name": "ipython",
    "version": 3
   },
   "file_extension": ".py",
   "mimetype": "text/x-python",
   "name": "python",
   "nbconvert_exporter": "python",
   "pygments_lexer": "ipython3",
   "version": "3.10.8"
  }
 },
 "nbformat": 4,
 "nbformat_minor": 5
}
