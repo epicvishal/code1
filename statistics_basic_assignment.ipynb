{
 "cells": [
  {
   "cell_type": "markdown",
   "id": "a3805220-3b11-4419-abfc-674e7b2eb0aa",
   "metadata": {},
   "source": [
    "\n",
    "\n",
    "Q1. What is Statistics?"
   ]
  },
  {
   "cell_type": "raw",
   "id": "f19941dc-2c88-4026-b3dc-4866f738ee30",
   "metadata": {},
   "source": [
    "Sol:  Statistics in data science is the practice of collecting, analyzing, interpreting, and presenting data to make informed decisions. It involves using mathematical techniques to summarize and interpret data, identify patterns and trends, and make predictions based on the available information. Statistics plays a crucial role in data science by providing the tools and methods to understand and derive insights from large and complex datasets. It helps data scientists to draw meaningful conclusions and make data-driven decisions.\n"
   ]
  },
  {
   "cell_type": "markdown",
   "id": "1e5fb44c-b53c-427c-9a7d-d690c15d3803",
   "metadata": {},
   "source": [
    "Q2. Define the different types of statistics and give an example of when each type might be used."
   ]
  },
  {
   "cell_type": "raw",
   "id": "39a12edd-a41b-41eb-9268-da39306a91a6",
   "metadata": {},
   "source": [
    "SOl: \n",
    "There are two types of statistics\n",
    "1. Descriptive Statistics \n",
    "It consists of organizing and summarizing data \n",
    "example: 1. Measure of central tendency [ mean, mode, median]\n",
    "         2. Measure of Disperstion[Variance,std]\n",
    "         3. Different type of Distribution of data.\n",
    "         for example: Histogram ,pdf\n",
    "         \n",
    "2. Inferential Statistics\n",
    "It consist of using data you have measured to form conclusion\n",
    "Example: 1. Z-test\n",
    "         2. T-test\n",
    "         3. CHI square"
   ]
  },
  {
   "cell_type": "markdown",
   "id": "09fde301-4de2-4bb1-95d7-f538a8be7a2f",
   "metadata": {},
   "source": [
    "Q3.  What are the different types of data and how do they differ from each other? Provide an example of\n",
    "each type of data."
   ]
  },
  {
   "cell_type": "raw",
   "id": "d63c94ee-45f4-4a11-8664-67fa65f97f5c",
   "metadata": {},
   "source": [
    "There are two types of data\n",
    "1.Quantitative(numerical)\n",
    "2.Qualitative(Categoraical data)\n",
    "\n",
    "There are two types of  Quantitative data\n",
    "1.Discrtic(Whole number)\n",
    "For example:1.no of bank account\n",
    "            2.no of children in family\n",
    "            \n",
    "2.Continuous(Any value)\n",
    "For example:Height,weight,temperature,speed\n",
    "\n",
    "\n",
    "There are two types of Qualitative data\n",
    "1.Nominal\n",
    "For example: Gender,Blood group,Pincode\n",
    "\n",
    "2.ordinal(rank)\n",
    "For example: Customer feedback like good,bad,better"
   ]
  },
  {
   "cell_type": "markdown",
   "id": "5694ee29-abfe-450d-91fe-50b5c4194abb",
   "metadata": {},
   "source": [
    "Q4. Categorise the following datasets with respect to quantitative and qualitative data types:\n",
    "\n",
    "(i)\tGrading in exam: A+, A, B+, B, C+, C, D, E\n",
    "\n",
    "(ii)\tColour of mangoes: yellow, green, orange, red\n",
    "\n",
    "(iii)\tHeight data of a class: [178.9, 179, 179.5, 176, 177.2, 178.3, 175.8,...]\n",
    "\n",
    "(iv)\tNumber of mangoes exported by a farm: [500, 600, 478, 672, …]"
   ]
  },
  {
   "cell_type": "raw",
   "id": "5a7efc62-8fc4-4abe-926e-0863dad4b54b",
   "metadata": {},
   "source": [
    "(i)\tGrading in exam: A+, A, B+, B, C+, C, D, E                                   (Qualitative data types)\n",
    "(ii)\tColour of mangoes: yellow, green, orange, red                            (Qualitative data types)\n",
    "(iii)\tHeight data of a class: [178.9, 179, 179.5, 176, 177.2, 178.3, 175.8,...](Quantitative data types)\n",
    "(iv)\tNumber of mangoes exported by a farm: [500, 600, 478, 672, …]            (Quantitative data types)"
   ]
  },
  {
   "cell_type": "markdown",
   "id": "e96ba9a5-754f-4d54-b3b6-1f82ab39ed99",
   "metadata": {},
   "source": [
    "Q5. Explain the concept of levels of measurement and give an example of a variable for each level."
   ]
  },
  {
   "cell_type": "raw",
   "id": "4aeb19a2-811c-4670-ae3d-73f46a8e17f1",
   "metadata": {},
   "source": [
    "Levels of measurement refer to the different ways in which variables can be categorized and measured. \n",
    "There are four levels of measurement.\n",
    "1. Nominal scale: This is the lowest level of measurement, where data is categorized into distinct, non-ordered categories. Examples include gender, race, and political affiliation.\n",
    "\n",
    "2. Ordinal scale: This level of measurement allows for the ranking of data, but the intervals between the categories are not equal. Examples include education levels and customer satisfaction ratings.\n",
    "\n",
    "3. Interval scale: This level of measurement has equal intervals between values, but there is no true zero point. Examples include temperature in Celsius or Fahrenheit and IQ scores.\n",
    "\n",
    "4. Ratio scale: This is the highest level of measurement, with equal intervals between values and a true zero point. Examples include age, weight, height, and income."
   ]
  },
  {
   "cell_type": "markdown",
   "id": "1a877870-8caf-4dcb-a33f-ebefcdc363d3",
   "metadata": {},
   "source": [
    "Q6. Why is it important to understand the level of measurement when analyzing data? Provide an\n",
    "example to illustrate your answer."
   ]
  },
  {
   "cell_type": "raw",
   "id": "2e4c0e49-a6e0-464a-ae91-aabcb923a0bd",
   "metadata": {},
   "source": [
    "It is important to understand the level of measurement when analyzing data because it determines the type of statistical analysis that can be performed on the data and the conclusions that can be drawn from the analysis.\n",
    "\n",
    "For example, if a researcher is analyzing data on income using different levels of measurement, they would need to consider the implications of the level of measurement on their analysis. If income is measured at the nominal level (e.g., categorized into income brackets), they would be limited to using descriptive statistics such as mode or frequency distributions. However, if income is measured at the ratio level (e.g., actual dollar amounts), they could use more advanced statistical techniques such as mean, median, and standard deviation to analyze the data and make comparisons between different income levels.\n",
    "\n",
    "Understanding the level of measurement is crucial for choosing the appropriate statistical techniques and drawing accurate conclusions from the data analysis.\n"
   ]
  },
  {
   "cell_type": "markdown",
   "id": "80c03bf2-499f-4466-9e86-5c0017a7ee16",
   "metadata": {},
   "source": [
    "Q7. How nominal data type is different from ordinal data type."
   ]
  },
  {
   "cell_type": "raw",
   "id": "cfeb3f2b-b7c4-4c8f-9732-642c969200f7",
   "metadata": {},
   "source": [
    "Nominal data is used to categorize variables into groups with no inherent order or ranking. For example, categories such as gender (male, female, non-binary) or marital status (single, married, divorced) are nominal data types. In nominal data, the categories are distinct and do not have any numerical significance.\n",
    "\n",
    "On the other hand, ordinal data also categorizes variables into groups, but these groups have a specific order or ranking. For example, a Likert scale (e.g., strongly disagree, disagree, neutral, agree, strongly agree) or education level (e.g., high school, some college, bachelor's degree, master's degree) are examples of ordinal data. In ordinal data, the categories have a clear sequence or ranking, but the differences between the categories may not be equal.\n",
    "\n",
    "\n",
    "nomial data type                               Ordinal data type\n",
    "1.Ranking is not important.                    1.Ranking is important.\n",
    "2.Order does not matter                        2.Order matters.\n",
    "example:Gnder, colors                           example:Ranking(best, good,bad)\n",
    "\n"
   ]
  },
  {
   "cell_type": "markdown",
   "id": "93326d03-52b5-4f5d-acdc-1b325ab50c0a",
   "metadata": {},
   "source": [
    "Q8. Which type of plot can be used to display data in terms of range?"
   ]
  },
  {
   "cell_type": "raw",
   "id": "6a61a7a1-d2d5-4e4a-8c19-b2168e300819",
   "metadata": {},
   "source": [
    "A box plot or a violin plot can be used to display data in terms of range. These plots show the distribution of the data and can provide information about the spread and variability of the values within each category or group.\n"
   ]
  },
  {
   "cell_type": "markdown",
   "id": "554f54af-ca05-4373-be6e-1c565755edc3",
   "metadata": {},
   "source": [
    "Q9. Describe the difference between descriptive and inferential statistics. Give an example of each\n",
    "type of statistics and explain how they are used."
   ]
  },
  {
   "cell_type": "raw",
   "id": "40f5b83b-5d9d-4197-95d9-5a1f3dd2c86c",
   "metadata": {},
   "source": [
    "Descriptive statistics is used to describe and summarize the characteristics of a data set. It includes measures such as mean, median, mode, range, and standard deviation. Descriptive statistics are used to present and analyze the data in a meaningful way, such as in tables, charts, or graphs.\n",
    "\n",
    "Inferential statistics, on the other hand, is used to make inferences or predictions about a population based on a sample of data. It involves using probability and hypothesis testing to draw conclusions about a population. For example, if a researcher wants to know if a new drug is effective in treating a certain condition, they may use inferential statistics to analyze the results of a clinical trial and make conclusions about the effectiveness of the drug for the larger population.\n",
    "\n",
    "Example:\n",
    "Descriptive statistics: A researcher collects data on the ages of students in a school and calculates the mean, median, and range of the ages to summarize the characteristics of the student population.\n",
    "\n",
    "Inferential statistics: A marketing company conducts a survey to determine if there is a relationship between customer satisfaction and brand loyalty. They use inferential statistics to analyze the survey results and make predictions about customer behavior based on the sample data.\n"
   ]
  },
  {
   "cell_type": "markdown",
   "id": "b24c9bb1-1699-44c1-87a2-360a82fcd5cc",
   "metadata": {},
   "source": [
    "Q10. What are some common measures of central tendency and variability used in statistics? Explain\n",
    "how each measure can be used to describe a dataset."
   ]
  },
  {
   "cell_type": "code",
   "execution_count": null,
   "id": "7d736787-691f-410d-bde5-402ab6289166",
   "metadata": {},
   "outputs": [],
   "source": []
  }
 ],
 "metadata": {
  "kernelspec": {
   "display_name": "Python 3 (ipykernel)",
   "language": "python",
   "name": "python3"
  },
  "language_info": {
   "codemirror_mode": {
    "name": "ipython",
    "version": 3
   },
   "file_extension": ".py",
   "mimetype": "text/x-python",
   "name": "python",
   "nbconvert_exporter": "python",
   "pygments_lexer": "ipython3",
   "version": "3.10.8"
  }
 },
 "nbformat": 4,
 "nbformat_minor": 5
}
