{
 "cells": [
  {
   "cell_type": "markdown",
   "id": "41857282-0b0c-48bf-ba7b-2c55556a9a51",
   "metadata": {},
   "source": [
    "Q1. What is the differnce between a t-test and z-test? Provide an example scenario where you would use each type of test."
   ]
  },
  {
   "cell_type": "code",
   "execution_count": 1,
   "id": "a01bfbfd-36a7-4679-aaa8-c238fe93095f",
   "metadata": {},
   "outputs": [
    {
     "name": "stdout",
     "output_type": "stream",
     "text": [
      "T-test Results:\n",
      "T-statistic: 1.9630264600785698\n",
      "P-value: 0.06528585052386887\n",
      "There is no significant difference between the two groups.\n",
      "\n",
      "Z-test Results:\n",
      "Z-statistic: 7.0710678118654755\n",
      "P-value: 0.9999999999992313\n",
      "The sample mean is not significantly different from the population mean.\n"
     ]
    }
   ],
   "source": [
    "## Test checks the mean between two samples that the both samples of mean are drawn from same population\n",
    "import numpy as np\n",
    "from scipy import stats\n",
    "\n",
    "# Example data for t-test\n",
    "group1_scores = np.array([82, 85, 79, 90, 88, 87, 84, 85, 90, 83])\n",
    "group2_scores = np.array([78, 80, 85, 81, 79, 88, 82, 86, 80, 84])\n",
    "\n",
    "# Performing independent t-test\n",
    "t_statistic, p_value = stats.ttest_ind(group1_scores, group2_scores)\n",
    "print(\"T-test Results:\")\n",
    "print(\"T-statistic:\", t_statistic)\n",
    "print(\"P-value:\", p_value)\n",
    "if p_value < 0.05:\n",
    "    print(\"There is a significant difference between the two groups.\")\n",
    "else:\n",
    "    print(\"There is no significant difference between the two groups.\")\n",
    "\n",
    "# Example data for z-test\n",
    "sample_mean = 115\n",
    "pop_mean = 100\n",
    "pop_std = 15\n",
    "sample_size = 50\n",
    "\n",
    "# Performing one-sample z-test\n",
    "z_statistic = (sample_mean - pop_mean) / (pop_std / np.sqrt(sample_size))\n",
    "p_value = stats.norm.cdf(z_statistic)\n",
    "print(\"\\nZ-test Results:\")\n",
    "print(\"Z-statistic:\", z_statistic)\n",
    "print(\"P-value:\", p_value)\n",
    "if p_value < 0.05:\n",
    "    print(\"The sample mean is significantly different from the population mean.\")\n",
    "else:\n",
    "    print(\"The sample mean is not significantly different from the population mean.\")\n"
   ]
  },
  {
   "cell_type": "markdown",
   "id": "436c0955-93be-43e7-b2be-458afd67ceff",
   "metadata": {},
   "source": [
    "Q2: Differentiate between one-tailed and two-tailed tests."
   ]
  },
  {
   "cell_type": "code",
   "execution_count": 3,
   "id": "39744316-a642-4a0a-b902-b56503221192",
   "metadata": {
    "tags": []
   },
   "outputs": [
    {
     "name": "stdout",
     "output_type": "stream",
     "text": [
      "One-tailed p-value: 0.39706951905985977\n",
      "Two-tailed p-value: 0.7941390381197195\n"
     ]
    }
   ],
   "source": [
    "import numpy as np\n",
    "from scipy import stats\n",
    "\n",
    "# Example data\n",
    "sample_data = np.array([82, 85, 79, 90, 88, 87, 84, 85, 90, 83])\n",
    "\n",
    "# Population mean (null hypothesis)\n",
    "pop_mean = 85\n",
    "\n",
    "# One-tailed test\n",
    "# Null hypothesis: Population mean is less than or equal to the sample mean\n",
    "# Alternative hypothesis: Population mean is greater than the sample mean\n",
    "one_tailed_p_value = stats.ttest_1samp(sample_data, pop_mean).pvalue / 2  # divide by 2 for one-tailed\n",
    "print(\"One-tailed p-value:\", one_tailed_p_value)\n",
    "\n",
    "# Two-tailed test\n",
    "# Null hypothesis: Population mean is equal to the sample mean\n",
    "# Alternative hypothesis: Population mean is not equal to the sample mean\n",
    "two_tailed_p_value = stats.ttest_1samp(sample_data, pop_mean).pvalue\n",
    "print(\"Two-tailed p-value:\", two_tailed_p_value)\n"
   ]
  },
  {
   "cell_type": "markdown",
   "id": "d8352e8b-d10e-427c-bf83-b5617ceb9cdf",
   "metadata": {},
   "source": [
    "Q4:  Explain Bayes's theorem with an example"
   ]
  },
  {
   "cell_type": "code",
   "execution_count": 4,
   "id": "e4961301-25e0-4c42-a3bf-a27ecfea77e3",
   "metadata": {
    "tags": []
   },
   "outputs": [
    {
     "name": "stdout",
     "output_type": "stream",
     "text": [
      "No Type I Error: Null hypothesis not rejected\n",
      "No Type II Error: Null hypothesis rejected\n"
     ]
    }
   ],
   "source": [
    "import numpy as np\n",
    "from scipy import stats\n",
    "\n",
    "# Example scenario for Type I error (False Positive)\n",
    "# True population mean is 100\n",
    "# Null hypothesis: Population mean is equal to 100\n",
    "# Significance level (alpha) = 0.05\n",
    "\n",
    "# Generate sample data\n",
    "np.random.seed(42)\n",
    "sample_data_type1 = np.random.normal(loc=100, scale=10, size=100)\n",
    "\n",
    "# Perform t-test\n",
    "t_statistic_type1, p_value_type1 = stats.ttest_1samp(sample_data_type1, 100)\n",
    "\n",
    "# Check if we reject the null hypothesis\n",
    "alpha = 0.05\n",
    "if p_value_type1 < alpha:\n",
    "    print(\"Type I Error: Null hypothesis rejected (False Positive)\")\n",
    "else:\n",
    "    print(\"No Type I Error: Null hypothesis not rejected\")\n",
    "\n",
    "# Example scenario for Type II error (False Negative)\n",
    "# True population mean is 100\n",
    "# Null hypothesis: Population mean is equal to 100\n",
    "# Alternative hypothesis: Population mean is greater than 100\n",
    "# Significance level (alpha) = 0.05\n",
    "\n",
    "# Generate sample data\n",
    "np.random.seed(42)\n",
    "sample_data_type2 = np.random.normal(loc=105, scale=10, size=100)\n",
    "\n",
    "# Perform one-tailed t-test\n",
    "t_statistic_type2, p_value_type2 = stats.ttest_1samp(sample_data_type2, 100)\n",
    "\n",
    "# Check if we fail to reject the null hypothesis\n",
    "if p_value_type2 >= alpha:\n",
    "    print(\"Type II Error: Null hypothesis not rejected (False Negative)\")\n",
    "else:\n",
    "    print(\"No Type II Error: Null hypothesis rejected\")\n"
   ]
  },
  {
   "cell_type": "markdown",
   "id": "a6744573-57be-4db0-9b63-cba676859eda",
   "metadata": {},
   "source": [
    "Q5: What is a confidence interval? How to calculate the confidence interval, explain with an example."
   ]
  },
  {
   "cell_type": "code",
   "execution_count": 5,
   "id": "f7faa824-3555-4254-8d69-7ce6afae6ba8",
   "metadata": {
    "tags": []
   },
   "outputs": [
    {
     "name": "stdout",
     "output_type": "stream",
     "text": [
      "Sample Mean: 98.96153482605907\n",
      "Confidence Interval: (97.18155741526742, 100.74151223685071)\n"
     ]
    }
   ],
   "source": [
    "import numpy as np\n",
    "from scipy import stats\n",
    "\n",
    "# Example data\n",
    "np.random.seed(42)\n",
    "sample_data = np.random.normal(loc=100, scale=10, size=100)  # Sample data with mean=100, std=10\n",
    "\n",
    "# Calculate sample statistics\n",
    "sample_mean = np.mean(sample_data)\n",
    "sample_std = np.std(sample_data, ddof=1)  # ddof=1 for sample standard deviation\n",
    "sample_size = len(sample_data)\n",
    "\n",
    "# Set confidence level (e.g., 95%)\n",
    "confidence_level = 0.95\n",
    "\n",
    "# Calculate standard error\n",
    "standard_error = sample_std / np.sqrt(sample_size)\n",
    "\n",
    "# Calculate margin of error (using z-score for a large sample size)\n",
    "z_score = stats.norm.ppf((1 + confidence_level) / 2)  # Two-tailed z-score\n",
    "margin_of_error = z_score * standard_error\n",
    "\n",
    "# Calculate confidence interval\n",
    "lower_bound = sample_mean - margin_of_error\n",
    "upper_bound = sample_mean + margin_of_error\n",
    "\n",
    "print(\"Sample Mean:\", sample_mean)\n",
    "print(\"Confidence Interval:\", (lower_bound, upper_bound))\n"
   ]
  },
  {
   "cell_type": "markdown",
   "id": "dc619eb3-a99b-42a5-814e-5c1c071ef69e",
   "metadata": {},
   "source": [
    "Q6. Use Bayes' Theorem to calculate the probability of an event occurring given prior knowledge of the\n",
    "event's probability and new evidence. Provide a sample problem and solution."
   ]
  },
  {
   "cell_type": "code",
   "execution_count": 6,
   "id": "ffeaf2be-8b84-4322-b976-e519147e4433",
   "metadata": {
    "tags": []
   },
   "outputs": [
    {
     "name": "stdout",
     "output_type": "stream",
     "text": [
      "Probability of having the disease given a positive test result: 0.3333333333333334\n"
     ]
    }
   ],
   "source": [
    "# Define probabilities\n",
    "sensitivity = 0.95  # P(Positive|Disease)\n",
    "specificity = 0.90  # P(Negative|No Disease)\n",
    "prevalence = 0.05   # P(Disease)\n",
    "\n",
    "# Calculate complementary probabilities\n",
    "false_positive_rate = 1 - specificity  # P(Positive|No Disease)\n",
    "true_negative_rate = 1 - false_positive_rate  # P(Negative|No Disease)\n",
    "\n",
    "# Apply Bayes' Theorem\n",
    "p_positive_given_disease = sensitivity  # P(Positive|Disease)\n",
    "p_negative_given_no_disease = true_negative_rate  # P(Negative|No Disease)\n",
    "\n",
    "# Calculate denominator P(Positive)\n",
    "p_positive = (prevalence * sensitivity) + ((1 - prevalence) * false_positive_rate)\n",
    "\n",
    "# Calculate posterior probability P(Disease|Positive)\n",
    "p_disease_given_positive = (p_positive_given_disease * prevalence) / p_positive\n",
    "\n",
    "print(\"Probability of having the disease given a positive test result:\", p_disease_given_positive)\n"
   ]
  },
  {
   "cell_type": "markdown",
   "id": "d7635d26-3a9c-49ca-8d42-c73ae714523f",
   "metadata": {},
   "source": [
    "Q7. Calculate the 95% confidence interval for a sample of data with a mean of 50 and a standard deviation\n",
    "of 5. Interpret the results."
   ]
  },
  {
   "cell_type": "code",
   "execution_count": 7,
   "id": "b5cb6f35-b3f8-4474-9208-d6e209e0600c",
   "metadata": {
    "tags": []
   },
   "outputs": [
    {
     "name": "stdout",
     "output_type": "stream",
     "text": [
      "95% Confidence Interval: (49.02, 50.98)\n"
     ]
    }
   ],
   "source": [
    "import numpy as np\n",
    "\n",
    "# Given data\n",
    "sample_mean = 50\n",
    "population_std = 5\n",
    "confidence_level = 0.95\n",
    "sample_size = 100  # Let's assume a sample size of 100\n",
    "\n",
    "# Calculate Z-score for 95% confidence level\n",
    "z_score = 1.96  # Approximate Z-score for 95% confidence level\n",
    "\n",
    "# Calculate standard error\n",
    "standard_error = population_std / np.sqrt(sample_size)\n",
    "\n",
    "# Calculate margin of error\n",
    "margin_of_error = z_score * standard_error\n",
    "\n",
    "# Calculate confidence interval\n",
    "lower_bound = sample_mean - margin_of_error\n",
    "upper_bound = sample_mean + margin_of_error\n",
    "\n",
    "print(\"95% Confidence Interval:\", (lower_bound, upper_bound))\n"
   ]
  },
  {
   "cell_type": "markdown",
   "id": "5583cc1a-e019-4bfb-8073-278f79d16a9f",
   "metadata": {},
   "source": [
    "Q8. What is the margin of error in a confidence interval? How does sample size affect the margin of error?\n",
    "Provide an example of a scenario where a larger sample size would result in a smaller margin of error."
   ]
  },
  {
   "cell_type": "code",
   "execution_count": 8,
   "id": "35ad6e5c-1497-44d4-894f-17399382c4af",
   "metadata": {
    "tags": []
   },
   "outputs": [
    {
     "name": "stdout",
     "output_type": "stream",
     "text": [
      "Sample Size: 50, Margin of Error: 4.157711473049033\n",
      "Sample Size: 100, Margin of Error: 2.939945976810081\n",
      "Sample Size: 200, Margin of Error: 2.0788557365245164\n",
      "Sample Size: 500, Margin of Error: 1.3147838108648724\n"
     ]
    }
   ],
   "source": [
    "import numpy as np\n",
    "from scipy import stats\n",
    "\n",
    "# Population parameters\n",
    "population_mean = 100\n",
    "population_std = 15\n",
    "\n",
    "# Sample sizes to compare\n",
    "sample_sizes = [50, 100, 200, 500]\n",
    "\n",
    "# Calculate margin of error for each sample size\n",
    "for sample_size in sample_sizes:\n",
    "    # Generate sample data\n",
    "    sample_data = np.random.normal(loc=population_mean, scale=population_std, size=sample_size)\n",
    "    \n",
    "    # Calculate standard error\n",
    "    standard_error = population_std / np.sqrt(sample_size)\n",
    "    \n",
    "    # Calculate margin of error (using Z-score for a 95% confidence interval)\n",
    "    z_score = stats.norm.ppf(0.975)  # Two-tailed Z-score for 95% confidence level\n",
    "    margin_of_error = z_score * standard_error\n",
    "    \n",
    "    print(f\"Sample Size: {sample_size}, Margin of Error: {margin_of_error}\")\n"
   ]
  },
  {
   "cell_type": "markdown",
   "id": "505adcbc-b040-4de0-8e61-6128177446ea",
   "metadata": {},
   "source": [
    "Q9. Calculate the z-score for a data point with a value of 75, a population mean of 70, and a population\n",
    "standard deviation of 5. Interpret the results."
   ]
  },
  {
   "cell_type": "code",
   "execution_count": 9,
   "id": "4ba41c2c-4dd0-4b6b-8ee8-a51b6262631e",
   "metadata": {
    "tags": []
   },
   "outputs": [
    {
     "name": "stdout",
     "output_type": "stream",
     "text": [
      "Z-score: 1.0\n"
     ]
    }
   ],
   "source": [
    "# Given data\n",
    "x = 75  # Value of the data point\n",
    "population_mean = 70\n",
    "population_std = 5\n",
    "\n",
    "# Calculate Z-score\n",
    "z_score = (x - population_mean) / population_std\n",
    "\n",
    "print(\"Z-score:\", z_score)\n"
   ]
  },
  {
   "cell_type": "markdown",
   "id": "1ee29fdf-9449-4839-9ec8-7b8bf7749882",
   "metadata": {},
   "source": [
    "Q10. In a study of the effectiveness of a new weight loss drug, a sample of 50 participants lost an average\n",
    "of 6 pounds with a standard deviation of 2.5 pounds. Conduct a hypothesis test to determine if the drug is\n",
    "significantly effective at a 95% confidence level using a t-test."
   ]
  },
  {
   "cell_type": "code",
   "execution_count": 10,
   "id": "ecd217fb-9007-4a44-82fc-cff159b05d62",
   "metadata": {
    "tags": []
   },
   "outputs": [
    {
     "name": "stdout",
     "output_type": "stream",
     "text": [
      "T-statistic: 16.970562748477143\n",
      "Critical t-value: 2.009575234489209\n",
      "Null hypothesis rejected. The drug is significantly effective.\n"
     ]
    }
   ],
   "source": [
    "from scipy import stats\n",
    "\n",
    "# Given data\n",
    "sample_mean = 6\n",
    "sample_std = 2.5\n",
    "sample_size = 50\n",
    "null_hypothesis_mean = 0\n",
    "alpha = 0.05\n",
    "\n",
    "# Calculate the t-statistic\n",
    "t_statistic = (sample_mean - null_hypothesis_mean) / (sample_std / (sample_size ** 0.5))\n",
    "\n",
    "# Determine the critical t-value(s) for the two-tailed test\n",
    "critical_t_value = stats.t.ppf(1 - alpha / 2, df=sample_size - 1)\n",
    "\n",
    "# Print results\n",
    "print(\"T-statistic:\", t_statistic)\n",
    "print(\"Critical t-value:\", critical_t_value)\n",
    "\n",
    "# Determine if null hypothesis should be rejected\n",
    "if abs(t_statistic) > critical_t_value:\n",
    "    print(\"Null hypothesis rejected. The drug is significantly effective.\")\n",
    "else:\n",
    "    print(\"Null hypothesis not rejected. There is not enough evidence to conclude that the drug is significantly effective.\")\n"
   ]
  },
  {
   "cell_type": "markdown",
   "id": "7bc287f8-613b-4f6b-bff2-cfec2a45f8ff",
   "metadata": {},
   "source": [
    "Q11. In a survey of 500 people, 65% reported being satisfied with their current job. Calculate the 95%\n",
    "confidence interval for the true proportion of people who are satisfied with their job."
   ]
  },
  {
   "cell_type": "code",
   "execution_count": 11,
   "id": "39e49363-12c3-4298-a0c1-106fc4197e39",
   "metadata": {
    "tags": []
   },
   "outputs": [
    {
     "name": "stdout",
     "output_type": "stream",
     "text": [
      "95% Confidence Interval for the true proportion of people satisfied with their job:\n",
      "Lower bound: 0.608191771144905\n",
      "Upper bound: 0.6918082288550951\n"
     ]
    }
   ],
   "source": [
    "import numpy as np\n",
    "\n",
    "# Given data\n",
    "sample_proportion = 0.65  # 65% reported being satisfied with their job\n",
    "sample_size = 500\n",
    "confidence_level = 0.95\n",
    "\n",
    "# Calculate the Z-score for the desired confidence level\n",
    "z_score = 1.96  # Approximate Z-score for a 95% confidence level\n",
    "\n",
    "# Calculate standard error\n",
    "standard_error = np.sqrt((sample_proportion * (1 - sample_proportion)) / sample_size)\n",
    "\n",
    "# Calculate margin of error\n",
    "margin_of_error = z_score * standard_error\n",
    "\n",
    "# Calculate confidence interval\n",
    "lower_bound = sample_proportion - margin_of_error\n",
    "upper_bound = sample_proportion + margin_of_error\n",
    "\n",
    "print(\"95% Confidence Interval for the true proportion of people satisfied with their job:\")\n",
    "print(\"Lower bound:\", lower_bound)\n",
    "print(\"Upper bound:\", upper_bound)\n"
   ]
  },
  {
   "cell_type": "markdown",
   "id": "10673af9-445d-4b38-b75a-f7f3dd6c8814",
   "metadata": {},
   "source": [
    "Q12. A researcher is testing the effectiveness of two different teaching methods on student performance.\n",
    "Sample A has a mean score of 85 with a standard deviation of 6, while sample B has a mean score of 82\n",
    "with a standard deviation of 5. Conduct a hypothesis test to determine if the two teaching methods have a\n",
    "significant difference in student performance using a t-test with a significance level of 0.01."
   ]
  },
  {
   "cell_type": "code",
   "execution_count": 12,
   "id": "0fba98f3-ae86-4e6e-ade6-4ec133127893",
   "metadata": {
    "tags": []
   },
   "outputs": [
    {
     "name": "stdout",
     "output_type": "stream",
     "text": [
      "T-statistic: 2.1038606199548298\n",
      "Critical t-value: 2.6632869538098674\n",
      "Fail to reject the null hypothesis. There is no significant difference in student performance between the two teaching methods.\n"
     ]
    }
   ],
   "source": [
    "from scipy import stats\n",
    "\n",
    "# Given data for Sample A\n",
    "mean_A = 85\n",
    "std_A = 6\n",
    "n_A = 30  # Sample size for Sample A\n",
    "\n",
    "# Given data for Sample B\n",
    "mean_B = 82\n",
    "std_B = 5\n",
    "n_B = 30  # Sample size for Sample B\n",
    "\n",
    "# Significance level\n",
    "alpha = 0.01\n",
    "\n",
    "# Calculate the t-statistic\n",
    "std_error = ((std_A**2 / n_A) + (std_B**2 / n_B))**0.5\n",
    "t_statistic = (mean_A - mean_B) / std_error\n",
    "\n",
    "# Determine degrees of freedom\n",
    "df = n_A + n_B - 2\n",
    "\n",
    "# Find critical t-value for two-tailed test\n",
    "critical_t_value = stats.t.ppf(1 - alpha / 2, df)\n",
    "\n",
    "# Print results\n",
    "print(\"T-statistic:\", t_statistic)\n",
    "print(\"Critical t-value:\", critical_t_value)\n",
    "\n",
    "# Determine if null hypothesis should be rejected\n",
    "if abs(t_statistic) > critical_t_value:\n",
    "    print(\"Reject the null hypothesis. There is a significant difference in student performance between the two teaching methods.\")\n",
    "else:\n",
    "    print(\"Fail to reject the null hypothesis. There is no significant difference in student performance between the two teaching methods.\")\n"
   ]
  },
  {
   "cell_type": "markdown",
   "id": "86056d19-603b-4a03-a371-fefee1cf8403",
   "metadata": {},
   "source": [
    "Q13. A population has a mean of 60 and a standard deviation of 8. A sample of 50 observations has a mean\n",
    "of 65. Calculate the 90% confidence interval for the true population mean."
   ]
  },
  {
   "cell_type": "code",
   "execution_count": 13,
   "id": "90abfabe-f003-4074-8a8f-f0a83d567d9e",
   "metadata": {
    "tags": []
   },
   "outputs": [
    {
     "name": "stdout",
     "output_type": "stream",
     "text": [
      "90% Confidence Interval for the true population mean:\n",
      "Lower bound: 63.13889495191701\n",
      "Upper bound: 66.86110504808299\n"
     ]
    }
   ],
   "source": [
    "import numpy as np\n",
    "\n",
    "# Given data\n",
    "sample_mean = 65\n",
    "population_std = 8\n",
    "sample_size = 50\n",
    "confidence_level = 0.90\n",
    "\n",
    "# Calculate the Z-score for the desired confidence level\n",
    "z_score = 1.645  # Z-score for a 90% confidence level\n",
    "\n",
    "# Calculate standard error\n",
    "standard_error = population_std / np.sqrt(sample_size)\n",
    "\n",
    "# Calculate margin of error\n",
    "margin_of_error = z_score * standard_error\n",
    "\n",
    "# Calculate confidence interval\n",
    "lower_bound = sample_mean - margin_of_error\n",
    "upper_bound = sample_mean + margin_of_error\n",
    "\n",
    "print(\"90% Confidence Interval for the true population mean:\")\n",
    "print(\"Lower bound:\", lower_bound)\n",
    "print(\"Upper bound:\", upper_bound)\n"
   ]
  },
  {
   "cell_type": "markdown",
   "id": "f9b61575-7a58-4fb5-868c-8574badf60ec",
   "metadata": {},
   "source": [
    "Q14. In a study of the effects of caffeine on reaction time, a sample of 30 participants had an average\n",
    "reaction time of 0.25 seconds with a standard deviation of 0.05 seconds. Conduct a hypothesis test to\n",
    "determine if the caffeine has a significant effect on reaction time at a 90% confidence level using a t-test."
   ]
  },
  {
   "cell_type": "code",
   "execution_count": 14,
   "id": "b99f910c-4aaa-4d3b-815f-db2b8a685b97",
   "metadata": {
    "tags": []
   },
   "outputs": [
    {
     "name": "stdout",
     "output_type": "stream",
     "text": [
      "T-statistic: -2.1908902300206665\n",
      "Critical t-values (lower, upper): -1.6991270265334977 , 1.6991270265334972\n",
      "Reject the null hypothesis. Caffeine has a significant effect on reaction time.\n"
     ]
    }
   ],
   "source": [
    "from scipy import stats\n",
    "\n",
    "# Given data\n",
    "sample_mean = 0.25\n",
    "sample_std = 0.05\n",
    "sample_size = 30\n",
    "population_mean_without_caffeine = 0.27  # Assumed population mean without caffeine\n",
    "alpha = 0.10\n",
    "\n",
    "# Calculate the t-statistic\n",
    "t_statistic = (sample_mean - population_mean_without_caffeine) / (sample_std / (sample_size ** 0.5))\n",
    "\n",
    "# Determine degrees of freedom\n",
    "df = sample_size - 1\n",
    "\n",
    "# Find critical t-values for two-tailed test\n",
    "critical_t_value_lower = stats.t.ppf(alpha / 2, df)\n",
    "critical_t_value_upper = stats.t.ppf(1 - alpha / 2, df)\n",
    "\n",
    "# Print results\n",
    "print(\"T-statistic:\", t_statistic)\n",
    "print(\"Critical t-values (lower, upper):\", critical_t_value_lower, \",\", critical_t_value_upper)\n",
    "\n",
    "# Determine if null hypothesis should be rejected\n",
    "if t_statistic < critical_t_value_lower or t_statistic > critical_t_value_upper:\n",
    "    print(\"Reject the null hypothesis. Caffeine has a significant effect on reaction time.\")\n",
    "else:\n",
    "    print(\"Fail to reject the null hypothesis. There is no significant effect of caffeine on reaction time.\")\n"
   ]
  },
  {
   "cell_type": "code",
   "execution_count": null,
   "id": "3a180887-00d3-4285-b8fb-4bcd65c8934c",
   "metadata": {},
   "outputs": [],
   "source": []
  }
 ],
 "metadata": {
  "kernelspec": {
   "display_name": "Python 3 (ipykernel)",
   "language": "python",
   "name": "python3"
  },
  "language_info": {
   "codemirror_mode": {
    "name": "ipython",
    "version": 3
   },
   "file_extension": ".py",
   "mimetype": "text/x-python",
   "name": "python",
   "nbconvert_exporter": "python",
   "pygments_lexer": "ipython3",
   "version": "3.11.5"
  }
 },
 "nbformat": 4,
 "nbformat_minor": 5
}
