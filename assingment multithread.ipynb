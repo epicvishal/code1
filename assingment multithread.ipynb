{
 "cells": [
  {
   "cell_type": "markdown",
   "metadata": {},
   "source": [
    "Question 1. What is multithreading in python? Why is it used? Name the module used to handle threads in python."
   ]
  },
  {
   "cell_type": "code",
   "execution_count": 1,
   "metadata": {},
   "outputs": [],
   "source": [
    "#Multithreading in python refers to ablitiy of  excute program in multiple threads simultaneously. \n",
    "# It is used to improve the performance of a program.\n",
    "# \" threading\" module is used to handle the threads in python\n",
    "# example\n",
    "\n",
    "import threading\n",
    "\n",
    "\n",
    "def test(id):\n",
    "    print(\"there are %d\"%id)"
   ]
  },
  {
   "cell_type": "code",
   "execution_count": 2,
   "metadata": {},
   "outputs": [
    {
     "name": "stdout",
     "output_type": "stream",
     "text": [
      "there are 45\n"
     ]
    }
   ],
   "source": [
    "test(45)"
   ]
  },
  {
   "cell_type": "code",
   "execution_count": 3,
   "metadata": {},
   "outputs": [],
   "source": [
    "thread=[threading.Thread(target=test,args=(i,)) for i in range(3)]\n"
   ]
  },
  {
   "cell_type": "code",
   "execution_count": 4,
   "metadata": {},
   "outputs": [
    {
     "name": "stdout",
     "output_type": "stream",
     "text": [
      "there are 0acive threads: 7\n",
      "\n",
      "there are 1\n",
      "acive threads: 6\n",
      "there are 2\n",
      "acive threads: 6\n"
     ]
    }
   ],
   "source": [
    "for t in thread:\n",
    "    t.start()\n",
    "    print(\"acive threads:\",threading.active_count())"
   ]
  },
  {
   "cell_type": "code",
   "execution_count": 5,
   "metadata": {},
   "outputs": [],
   "source": [
    "# this is how we can use threading in our python program "
   ]
  },
  {
   "cell_type": "markdown",
   "metadata": {},
   "source": [
    "Question 2. Why threading module used? Write the use of the following fuctions:\n",
    "\n",
    "1. activeCount()\n",
    "2. currentThread()\n",
    "3. enumerate()"
   ]
  },
  {
   "cell_type": "code",
   "execution_count": 6,
   "metadata": {},
   "outputs": [],
   "source": [
    "# we used threading module to improve the performance of the program \n",
    "# inorder to achive the higher performance in the particular program we use threading module\n",
    "\n",
    "# 1. activeCount() \n",
    "# It indicates which thread is working\n",
    "\n",
    "import threading\n",
    "\n",
    "import logging \n",
    "\n",
    "logging.basicConfig(filename=\"test1.log\",level=logging.NOTSET)\n",
    "\n",
    "def my_function(id):\n",
    "    logging.info(\"thread started %d\"%id)\n",
    "    print(\"thread started %d \"%id)\n",
    "\n",
    "\n"
   ]
  },
  {
   "cell_type": "code",
   "execution_count": 7,
   "metadata": {},
   "outputs": [],
   "source": [
    "thread1=[threading.Thread(target=my_function,args=(i,)) for i in range(3)]"
   ]
  },
  {
   "cell_type": "code",
   "execution_count": 8,
   "metadata": {},
   "outputs": [
    {
     "name": "stdout",
     "output_type": "stream",
     "text": [
      "active thread: 7\n",
      "active thread: 8\n",
      "active thread: 9\n"
     ]
    },
    {
     "name": "stderr",
     "output_type": "stream",
     "text": [
      "C:\\Users\\Dell\\AppData\\Local\\Temp\\ipykernel_660\\2099682086.py:3: DeprecationWarning: activeCount() is deprecated, use active_count() instead\n",
      "  print(\"active thread:\",threading.activeCount())\n"
     ]
    }
   ],
   "source": [
    "for t in thread1:\n",
    "    t.start()\n",
    "    print(\"active thread:\",threading.activeCount())"
   ]
  },
  {
   "cell_type": "code",
   "execution_count": 9,
   "metadata": {},
   "outputs": [
    {
     "name": "stdout",
     "output_type": "stream",
     "text": [
      "thread started 0 thread started 1 \n",
      "\n",
      "thread started 2 \n",
      "Current thread: thread1\n",
      "Current thread: thread2\n"
     ]
    },
    {
     "name": "stderr",
     "output_type": "stream",
     "text": [
      "C:\\Users\\Dell\\AppData\\Local\\Temp\\ipykernel_660\\1029001829.py:8: DeprecationWarning: currentThread() is deprecated, use current_thread() instead\n",
      "  print(\"Current thread:\",threading.currentThread().getName())\n",
      "C:\\Users\\Dell\\AppData\\Local\\Temp\\ipykernel_660\\1029001829.py:8: DeprecationWarning: getName() is deprecated, get the name attribute instead\n",
      "  print(\"Current thread:\",threading.currentThread().getName())\n"
     ]
    }
   ],
   "source": [
    "#2. currentThread()\n",
    "# this function returns a refrence to the currently executing Thread object.\n",
    "# example:\n",
    "\n",
    "import threading\n",
    "\n",
    "def my_function1():\n",
    "    print(\"Current thread:\",threading.currentThread().getName())\n",
    "\n",
    "\n",
    "if __name__==\"__main__\":\n",
    "    thread1=threading.Thread(target=my_function1,name=\"thread1\")\n",
    "    thread2=threading.Thread(target=my_function1,name=\"thread2\")\n",
    "\n",
    "\n",
    "    thread1.start()\n",
    "    thread2.start()"
   ]
  },
  {
   "cell_type": "code",
   "execution_count": 10,
   "metadata": {},
   "outputs": [
    {
     "name": "stdout",
     "output_type": "stream",
     "text": [
      "MainThread\n",
      "IOPub\n",
      "Heartbeat\n",
      "Control\n",
      "IPythonHistorySavingThread\n",
      "Thread-4\n",
      "Thread-11 (my_function2)\n",
      "Thread-12 (my_function2)\n"
     ]
    },
    {
     "name": "stderr",
     "output_type": "stream",
     "text": [
      "C:\\Users\\Dell\\AppData\\Local\\Temp\\ipykernel_660\\1903768730.py:19: DeprecationWarning: getName() is deprecated, get the name attribute instead\n",
      "  print(thread.getName())\n"
     ]
    }
   ],
   "source": [
    "# 3. enumerate()\n",
    "# this fuction returns a list off all thread objects that are currently active.\n",
    "# example\n",
    "\n",
    "import threading\n",
    "import time\n",
    "\n",
    "def my_function2():\n",
    "    time.sleep(1)\n",
    "\n",
    "if __name__==\"__main__\":\n",
    "    thread1=threading.Thread(target=my_function2)\n",
    "    thread2=threading.Thread(target=my_function2)\n",
    "\n",
    "    thread1.start()\n",
    "    thread2.start()\n",
    "\n",
    "    for thread in threading.enumerate():\n",
    "        print(thread.getName())"
   ]
  },
  {
   "cell_type": "markdown",
   "metadata": {},
   "source": [
    "Question 3. Explain the following fuctions:\n",
    "\n",
    "1. run()\n",
    "2. start()\n",
    "3. join()\n",
    "4. isAlive()"
   ]
  },
  {
   "cell_type": "code",
   "execution_count": 11,
   "metadata": {},
   "outputs": [
    {
     "name": "stdout",
     "output_type": "stream",
     "text": [
      "thread started\n",
      "thread started\n",
      "active thread: 8\n"
     ]
    }
   ],
   "source": [
    "# 1. run()\n",
    "# this method is entry point for a thread\n",
    "# example \n",
    "\n",
    "import threading\n",
    "\n",
    "\n",
    "def my_fun():\n",
    "    logging.info(\"thread started\")\n",
    "    print(\"thread started\")\n",
    "\n",
    "if __name__==\"__main__\":\n",
    "    thread1=threading.Thread(target=my_fun)\n",
    "    thread2=threading.Thread(target=my_fun)\n",
    "\n",
    "\n",
    "    thread1.run()\n",
    "    thread2.run()\n",
    "\n",
    "    print(\"active thread:\",threading.active_count())\n",
    "\n",
    "\n"
   ]
  },
  {
   "cell_type": "code",
   "execution_count": 12,
   "metadata": {},
   "outputs": [
    {
     "name": "stdout",
     "output_type": "stream",
     "text": [
      "thread started\n",
      "active thread: 9\n",
      "thread started\n"
     ]
    }
   ],
   "source": [
    "# 2. start()\n",
    "# this method starts a new thread by calling the run()\n",
    "\n",
    "\n",
    "import threading\n",
    "\n",
    "def my_fun1():\n",
    "    logging.info(\"thread started\")\n",
    "    print(\"thread started\")\n",
    "\n",
    "if __name__==\"__main__\":\n",
    "    thread1=threading.Thread(target=my_fun1)\n",
    "    thread2=threading.Thread(target=my_fun1)\n",
    "\n",
    "\n",
    "    thread1.start()\n",
    "    thread2.start()\n",
    "\n",
    "    print(\"active thread:\",threading.active_count())\n",
    "\n"
   ]
  },
  {
   "cell_type": "code",
   "execution_count": 43,
   "metadata": {},
   "outputs": [
    {
     "name": "stdout",
     "output_type": "stream",
     "text": [
      "this is jointhread1 is working\n",
      "\n",
      "this is join\n",
      "thread2 is working\n"
     ]
    }
   ],
   "source": [
    "# 3. join()\n",
    "# this method waits for the thread to finish execution before continuing with the main thread.\n",
    "# example\n",
    "import threading\n",
    "\n",
    "def my_fun2():\n",
    "    print(\"this is join\")\n",
    "\n",
    "if __name__==\"__main__\":\n",
    "    thread1=threading.Thread(target=my_fun2)\n",
    "    thread2=threading.Thread(target=my_fun2)\n",
    "\n",
    "    thread1.start()\n",
    "    print(\"thread1 is working\")\n",
    "    thread2.start()\n",
    "    print(\"thread2 is working\")\n",
    "\n",
    "    thread1.join()\n",
    "    thread2.join()\n",
    "\n",
    "    \n"
   ]
  },
  {
   "cell_type": "code",
   "execution_count": 14,
   "metadata": {},
   "outputs": [
    {
     "name": "stdout",
     "output_type": "stream",
     "text": [
      "thread is still running......\n"
     ]
    },
    {
     "name": "stdout",
     "output_type": "stream",
     "text": [
      "thread has finished\n",
      "thread is still running......\n",
      "thread has finished\n"
     ]
    }
   ],
   "source": [
    "# 4. isAlive()\n",
    "# this method returns a boolean value indacting whether the thread is currently executing or has finished exceuting.\n",
    "# example\n",
    "\n",
    "import threading\n",
    "import time\n",
    "\n",
    "def my_fun3():\n",
    "    time.sleep(1)\n",
    "\n",
    "\n",
    "if __name__ == \"__main__\":\n",
    "    thread = threading.Thread(target=my_fun3)\n",
    "    thread.start()\n",
    "\n",
    "    while thread.is_alive():\n",
    "        print(\"thread is still running......\")\n",
    "        time.sleep(0.5)\n",
    "        print(\"thread has finished\")\n",
    "\n",
    "\n"
   ]
  },
  {
   "cell_type": "markdown",
   "metadata": {},
   "source": [
    "Question 4. Write a pyhton program to create two threads. Thread one must print the list of square and thread two must print the list of cubes."
   ]
  },
  {
   "cell_type": "code",
   "execution_count": 36,
   "metadata": {},
   "outputs": [
    {
     "name": "stdout",
     "output_type": "stream",
     "text": [
      "list of square: [0, 1, 4, 9, 16, 25, 36, 49, 64, 81, 100]\n",
      "list of cubes: [0, 1, 8, 27, 64, 125, 216, 343, 512, 729, 1000]\n"
     ]
    }
   ],
   "source": [
    "\n",
    "import threading\n",
    "l1=[]\n",
    "l2=[]\n",
    "def print_squares():\n",
    "    for i in range(11):\n",
    "        l1.append(i**2)\n",
    "\n",
    "def print_cubes():\n",
    "    for i in range(11):\n",
    "        l2.append(i**3)\n",
    "        \n",
    "\n",
    "t1=threading.Thread(target=print_squares)\n",
    "t2=threading.Thread(target=print_cubes)\n",
    "\n",
    "t1.start()\n",
    "print(\"list of square:\",l1)\n",
    "t2.start()\n",
    "print(\"list of cubes:\",l2)\n",
    "t1.join()\n",
    "t2.join()"
   ]
  },
  {
   "cell_type": "markdown",
   "metadata": {},
   "source": [
    "Question 5. state advantage and disadvantage of multithreading."
   ]
  },
  {
   "cell_type": "code",
   "execution_count": 16,
   "metadata": {},
   "outputs": [
    {
     "name": "stdout",
     "output_type": "stream",
     "text": [
      "test2 id is 0 has increased the shared variable by 1\n"
     ]
    },
    {
     "name": "stdout",
     "output_type": "stream",
     "text": [
      "test2 id is 1 has increased the shared variable by 2\n",
      "test2 id is 2 has increased the shared variable by 3\n"
     ]
    }
   ],
   "source": [
    "# Advantage of multithreading\n",
    "# 1.improved performance\n",
    "# 2.Better resource utlization\n",
    "# 3.Increased responsive\n",
    "# 4.Simplified porgram design\n",
    "\n",
    "# example\n",
    "\n",
    "import threading\n",
    "\n",
    "shared_var=0\n",
    "lock_var=threading.Lock()\n",
    "def test2(id):\n",
    "    global shared_var\n",
    "    with lock_var:\n",
    "        shared_var=shared_var+1\n",
    "        print(\"test2 id is %d has increased the shared variable by %d\"%(id,shared_var))\n",
    "        time.sleep(1)\n",
    "ther3=[threading.Thread(target=test2,args=(i,))for i  in range(3)]\n",
    "for t in ther3:\n",
    "    t.start()\n",
    "\n",
    "\n",
    "\n",
    "\n"
   ]
  },
  {
   "cell_type": "code",
   "execution_count": 14,
   "metadata": {},
   "outputs": [
    {
     "name": "stdout",
     "output_type": "stream",
     "text": [
      "value of counter: 1000000\n"
     ]
    }
   ],
   "source": [
    "# Disadvantage \n",
    "# 1. Synchronization issues\n",
    "# 2. increased complexity\n",
    "\n",
    "# example\n",
    "\n",
    "import threading\n",
    "counter=0\n",
    "\n",
    "def increment_counter():\n",
    "    global counter \n",
    "    for i in range(100000):\n",
    "        counter +=1\n",
    "\n",
    "threads=[]\n",
    "\n",
    "for i in range(10):\n",
    "    t=threading.Thread(target=increment_counter)\n",
    "    threads.append(t)\n",
    "    t.start()\n",
    "\n",
    "for t in threads:\n",
    "    t.join()\n",
    "\n",
    "print(\"value of counter:\",counter)\n",
    "     \n",
    "# we created the ten threads, each incremeneting a shared counter variable 100000 times. as we do not use synchronization\n",
    "# mechanisms, so the output is wrong."
   ]
  },
  {
   "cell_type": "code",
   "execution_count": null,
   "metadata": {},
   "outputs": [],
   "source": []
  },
  {
   "cell_type": "markdown",
   "metadata": {},
   "source": [
    "Question 6. Explain deadlocks and race condtions "
   ]
  },
  {
   "cell_type": "code",
   "execution_count": 8,
   "metadata": {},
   "outputs": [
    {
     "name": "stdout",
     "output_type": "stream",
     "text": [
      "thread 1 acquired resource 1\n",
      "thread 2 tyring resource 2\n"
     ]
    },
    {
     "name": "stderr",
     "output_type": "stream",
     "text": [
      "Exception in thread Thread-35 (thread1):\n",
      "Traceback (most recent call last):\n",
      "  File \"c:\\Users\\Dell\\AppData\\Local\\Programs\\Python\\Python311\\Lib\\threading.py\", line 1038, in _bootstrap_inner\n",
      "Exception in thread Thread-36 (thread2):\n",
      "Traceback (most recent call last):\n",
      "  File \"c:\\Users\\Dell\\AppData\\Local\\Programs\\Python\\Python311\\Lib\\threading.py\", line 1038, in _bootstrap_inner\n",
      "    self.run()\n",
      "  File \"c:\\Users\\Dell\\AppData\\Local\\Programs\\Python\\Python311\\Lib\\threading.py\", line 975, in run\n",
      "    self.run()\n",
      "  File \"c:\\Users\\Dell\\AppData\\Local\\Programs\\Python\\Python311\\Lib\\threading.py\", line 975, in run\n",
      "    self._target(*self._args, **self._kwargs)\n",
      "  File \"C:\\Users\\Dell\\AppData\\Local\\Temp\\ipykernel_500\\72614058.py\", line 15, in thread1\n",
      "    self._target(*self._args, **self._kwargs)\n",
      "  File \"C:\\Users\\Dell\\AppData\\Local\\Temp\\ipykernel_500\\72614058.py\", line 23, in thread2\n",
      "TypeError: 'str' object does not support the context manager protocol\n",
      "TypeError: 'str' object does not support the context manager protocol\n"
     ]
    },
    {
     "name": "stdout",
     "output_type": "stream",
     "text": [
      "thread 1 trying to acquire resource 2\n",
      "thread 2 trying to acquire resource 1\n"
     ]
    }
   ],
   "source": [
    "# deadlock occurs when two or more threads are waiting for each other to release a resource, this situation leads to \n",
    "# deadlock condition.\n",
    "# example\n",
    "\n",
    "import threading\n",
    "import time\n",
    "resource1= \"Resource 1\"\n",
    "resource2= \"Resource 2\"\n",
    "\n",
    "def thread1():\n",
    "    global resource1\n",
    "    print(\"thread 1 acquired resource 1\")\n",
    "    time.sleep(1)\n",
    "    print(\"thread 1 trying to acquire resource 2\")\n",
    "    with resource2: print(\"thread 1 acquire resource 2\")\n",
    "\n",
    "\n",
    "def thread2():\n",
    "    global resource2\n",
    "    print(\"thread 2 tyring resource 2\")\n",
    "    time.sleep(1)\n",
    "    print(\"thread 2 trying to acquire resource 1\")\n",
    "    with resource1: print(\"thread 2 acquired resource 1\")\n",
    "\n",
    "\n",
    "if __name__==\"__main__\":\n",
    "    t1=threading.Thread(target=thread1)\n",
    "    t2=threading.Thread(target=thread2)\n",
    "    t1.start()\n",
    "    t2.start()\n",
    "\n",
    "\n",
    "\n",
    "# as we can see above we have 2 threads and both are trying acquire another resource but both are waiting to each other\n",
    "# to relase the hold resource in order to acquire new resource."
   ]
  },
  {
   "cell_type": "code",
   "execution_count": 10,
   "metadata": {},
   "outputs": [
    {
     "name": "stdout",
     "output_type": "stream",
     "text": [
      "counter value: -9000\n"
     ]
    }
   ],
   "source": [
    "# race conditions:\n",
    "# when two or more threads are trying to access and modify a shared resource at the same time\n",
    "# this creates the error or wrong output\n",
    "\n",
    "# example\n",
    "  \n",
    "import threading\n",
    "counter=0\n",
    "\n",
    "def thread1():\n",
    "    global counter\n",
    "    for i in range(1000):\n",
    "        counter+=1\n",
    "\n",
    "def thread2():\n",
    "    global counter \n",
    "    for i in range(10000):\n",
    "        counter-=1\n",
    "\n",
    "\n",
    "if __name__==\"__main__\":\n",
    "    t1=threading.Thread(target=thread1)\n",
    "    t2=threading.Thread(target=thread2)\n",
    "\n",
    "    t1.start()\n",
    "    t2.start()\n",
    "    t1.join()\n",
    "    t2.join()\n",
    "    print(\"counter value:\",counter)\n",
    "\n",
    "\n",
    "# as we can see above we have two thread which are doing the opreation at the same time which result in error or wrong output"
   ]
  },
  {
   "cell_type": "code",
   "execution_count": null,
   "metadata": {},
   "outputs": [],
   "source": []
  }
 ],
 "metadata": {
  "kernelspec": {
   "display_name": "Python 3",
   "language": "python",
   "name": "python3"
  },
  "language_info": {
   "codemirror_mode": {
    "name": "ipython",
    "version": 3
   },
   "file_extension": ".py",
   "mimetype": "text/x-python",
   "name": "python",
   "nbconvert_exporter": "python",
   "pygments_lexer": "ipython3",
   "version": "3.11.5"
  },
  "orig_nbformat": 4
 },
 "nbformat": 4,
 "nbformat_minor": 2
}
