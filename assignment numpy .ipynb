{
 "cells": [
  {
   "cell_type": "code",
   "execution_count": 18,
   "id": "6b81bb3f-927a-462c-9d39-1bfd816d9e58",
   "metadata": {},
   "outputs": [],
   "source": [
    "#Consider the below code to answer further questions:\n",
    "\n",
    "\n",
    "import numpy as np\n",
    "\n",
    "list_ = [ '1' , '2' ,' 3' ,' 4' , '5' ]\n",
    "\n",
    "array_list = np.array(object = list_)\n"
   ]
  },
  {
   "cell_type": "code",
   "execution_count": 19,
   "id": "3629e427-150b-489a-83f0-7466d888ba60",
   "metadata": {},
   "outputs": [
    {
     "data": {
      "text/plain": [
       "array(['1', '2', ' 3', ' 4', '5'], dtype='<U2')"
      ]
     },
     "execution_count": 19,
     "metadata": {},
     "output_type": "execute_result"
    }
   ],
   "source": [
    "array_list"
   ]
  },
  {
   "cell_type": "raw",
   "id": "4fdcbcf9-3c7d-48d8-940d-34646511bbf9",
   "metadata": {},
   "source": [
    "Q1. Is there any difference in the data type of variables list_ and array_list? If there is then write a code\n",
    "to print the data types of both the variables."
   ]
  },
  {
   "cell_type": "code",
   "execution_count": 20,
   "id": "9d5b2107-b6a9-406c-9726-dd154b019c03",
   "metadata": {},
   "outputs": [],
   "source": [
    "# yes, there is difference between list_ and array_list. \"list_\" is a list type where array_list is a numpy.ndarray"
   ]
  },
  {
   "cell_type": "code",
   "execution_count": 21,
   "id": "4211ddf9-8311-41f1-a2a0-6a2c4ad738fb",
   "metadata": {},
   "outputs": [
    {
     "data": {
      "text/plain": [
       "dtype('<U2')"
      ]
     },
     "execution_count": 21,
     "metadata": {},
     "output_type": "execute_result"
    }
   ],
   "source": [
    "array_list.dtype"
   ]
  },
  {
   "cell_type": "code",
   "execution_count": 22,
   "id": "feb5c32d-a10a-4739-8786-09e4ff1eb20f",
   "metadata": {},
   "outputs": [
    {
     "data": {
      "text/plain": [
       "list"
      ]
     },
     "execution_count": 22,
     "metadata": {},
     "output_type": "execute_result"
    }
   ],
   "source": [
    "type(list_)"
   ]
  },
  {
   "cell_type": "raw",
   "id": "57209ca8-aa4c-4ece-95df-fb60aca82030",
   "metadata": {},
   "source": [
    "Q2. Write a code to print the data type of each and every element of both the variables list_ and\n",
    "array_list."
   ]
  },
  {
   "cell_type": "code",
   "execution_count": 23,
   "id": "d36ffbb8-0430-4782-9fc4-9ec166878814",
   "metadata": {},
   "outputs": [],
   "source": [
    "def data_type(x,y):\n",
    "    for i in x:\n",
    "        print(\"this is list data type:\",type(i))\n",
    "    for j in y:\n",
    "        print(\"this is array_list data type:\",type(j))"
   ]
  },
  {
   "cell_type": "code",
   "execution_count": 24,
   "id": "55622d83-09b8-4412-9df3-9bcea6270121",
   "metadata": {},
   "outputs": [
    {
     "name": "stdout",
     "output_type": "stream",
     "text": [
      "this is list data type: <class 'str'>\n",
      "this is list data type: <class 'str'>\n",
      "this is list data type: <class 'str'>\n",
      "this is list data type: <class 'str'>\n",
      "this is list data type: <class 'str'>\n",
      "this is array_list data type: <class 'numpy.str_'>\n",
      "this is array_list data type: <class 'numpy.str_'>\n",
      "this is array_list data type: <class 'numpy.str_'>\n",
      "this is array_list data type: <class 'numpy.str_'>\n",
      "this is array_list data type: <class 'numpy.str_'>\n"
     ]
    }
   ],
   "source": [
    "data_type(list_,array_list)"
   ]
  },
  {
   "cell_type": "raw",
   "id": "2f8d1f6f-86a7-46a2-be10-8dde3ad70a7f",
   "metadata": {},
   "source": [
    "Q3. Considering the following changes in the variable, array_list:"
   ]
  },
  {
   "cell_type": "code",
   "execution_count": 25,
   "id": "28d37e46-a212-4aad-b373-78f462af783a",
   "metadata": {},
   "outputs": [],
   "source": [
    "array_list = np.array(object = list_, dtype = int)"
   ]
  },
  {
   "cell_type": "code",
   "execution_count": 26,
   "id": "13108672-2dad-4e3b-832f-0849acb7218d",
   "metadata": {},
   "outputs": [
    {
     "data": {
      "text/plain": [
       "array([1, 2, 3, 4, 5])"
      ]
     },
     "execution_count": 26,
     "metadata": {},
     "output_type": "execute_result"
    }
   ],
   "source": [
    "array_list"
   ]
  },
  {
   "cell_type": "raw",
   "id": "d3738006-a7ea-41ec-ae07-d225e57c32f1",
   "metadata": {},
   "source": [
    "Will there be any difference in the data type of the elements present in both the variables, list_ and\n",
    "array_list? If so then print the data types of each and every element present in both the variables, list_\n",
    "and array_list."
   ]
  },
  {
   "cell_type": "code",
   "execution_count": 28,
   "id": "6263bb90-13ef-4c2a-8dc2-acf4b635d17b",
   "metadata": {},
   "outputs": [
    {
     "name": "stdout",
     "output_type": "stream",
     "text": [
      "this is list data type: <class 'str'>\n",
      "this is list data type: <class 'str'>\n",
      "this is list data type: <class 'str'>\n",
      "this is list data type: <class 'str'>\n",
      "this is list data type: <class 'str'>\n",
      "this is array_list data type: <class 'numpy.int64'>\n",
      "this is array_list data type: <class 'numpy.int64'>\n",
      "this is array_list data type: <class 'numpy.int64'>\n",
      "this is array_list data type: <class 'numpy.int64'>\n",
      "this is array_list data type: <class 'numpy.int64'>\n"
     ]
    }
   ],
   "source": [
    "data_type(list_,array_list)# yes their is the diffrence because we have changed the data type of array_list "
   ]
  },
  {
   "cell_type": "code",
   "execution_count": 29,
   "id": "3e6f190d-b6cf-4487-bfb5-1a176d602f47",
   "metadata": {},
   "outputs": [],
   "source": [
    "#Consider the below code to answer further questions:\n",
    "\n",
    "import numpy as np\n",
    "\n",
    "num_list = [ [ 1 , 2 , 3 ] , [ 4 , 5 , 6 ] ]\n",
    "\n",
    "num_array = np.array(object = num_list)"
   ]
  },
  {
   "cell_type": "raw",
   "id": "93b85936-2872-43b0-a619-c3a3c8089f0f",
   "metadata": {},
   "source": [
    "Q4. Write a code to find the following characteristics of variable, num_array:\n",
    "(i)\t shape\n",
    "(ii) size"
   ]
  },
  {
   "cell_type": "code",
   "execution_count": 31,
   "id": "e9eded85-faf1-414f-a5bc-df4755e4ea01",
   "metadata": {},
   "outputs": [
    {
     "name": "stdout",
     "output_type": "stream",
     "text": [
      "(2, 3)\n"
     ]
    }
   ],
   "source": [
    "# shape num_array\n",
    "print(num_array.shape)"
   ]
  },
  {
   "cell_type": "code",
   "execution_count": 32,
   "id": "b472cb8c-9b22-4eed-90f7-feb333aa761e",
   "metadata": {},
   "outputs": [
    {
     "name": "stdout",
     "output_type": "stream",
     "text": [
      "6\n"
     ]
    }
   ],
   "source": [
    "# size num_array\n",
    "print(num_array.size)"
   ]
  },
  {
   "cell_type": "markdown",
   "id": "088d7ca9-2bfe-4635-9d07-bb2ee12a2fb8",
   "metadata": {},
   "source": [
    "Q5. Write a code to create numpy array of 3*3 matrix containing zeros only, using a numpy array\n",
    "creation function.\n",
    "\n",
    "[Hint: The size of the array will be 9 and the shape will be (3,3).]"
   ]
  },
  {
   "cell_type": "code",
   "execution_count": 62,
   "id": "e5ddd92b-3075-4080-83e4-c60bece1624a",
   "metadata": {},
   "outputs": [],
   "source": [
    "import numpy.matlib as nm\n",
    "arr=nm.zeros((3,3))"
   ]
  },
  {
   "cell_type": "code",
   "execution_count": 63,
   "id": "80e9e2e9-e012-4d26-8cfa-e4af4fa347a4",
   "metadata": {},
   "outputs": [
    {
     "data": {
      "text/plain": [
       "matrix([[0., 0., 0.],\n",
       "        [0., 0., 0.],\n",
       "        [0., 0., 0.]])"
      ]
     },
     "execution_count": 63,
     "metadata": {},
     "output_type": "execute_result"
    }
   ],
   "source": [
    "arr"
   ]
  },
  {
   "cell_type": "raw",
   "id": "55d82650-fc0e-4ca6-afb0-158ceaffb47d",
   "metadata": {},
   "source": [
    "Q6. Create an identity matrix of shape (5,5) using numpy functions? \n",
    " \n",
    "[Hint: An identity matrix is a matrix containing 1 diagonally and other elements will be 0.]\n"
   ]
  },
  {
   "cell_type": "code",
   "execution_count": 64,
   "id": "573ebf8f-c7c2-4114-96da-ec5a159422ea",
   "metadata": {},
   "outputs": [],
   "source": [
    "arr1=nm.eye(5)"
   ]
  },
  {
   "cell_type": "code",
   "execution_count": 65,
   "id": "d761a982-d654-41f3-aae8-dc2786d2277f",
   "metadata": {},
   "outputs": [
    {
     "data": {
      "text/plain": [
       "matrix([[1., 0., 0., 0., 0.],\n",
       "        [0., 1., 0., 0., 0.],\n",
       "        [0., 0., 1., 0., 0.],\n",
       "        [0., 0., 0., 1., 0.],\n",
       "        [0., 0., 0., 0., 1.]])"
      ]
     },
     "execution_count": 65,
     "metadata": {},
     "output_type": "execute_result"
    }
   ],
   "source": [
    "arr1"
   ]
  },
  {
   "cell_type": "code",
   "execution_count": 44,
   "id": "87e79dcb-cf75-47fd-a274-eda510eee379",
   "metadata": {},
   "outputs": [
    {
     "name": "stdout",
     "output_type": "stream",
     "text": [
      "[[1. 0. 0. 0. 0.]\n",
      " [0. 1. 0. 0. 0.]\n",
      " [0. 0. 1. 0. 0.]\n",
      " [0. 0. 0. 1. 0.]\n",
      " [0. 0. 0. 0. 1.]]\n"
     ]
    }
   ],
   "source": [
    "identity_matrix = np.identity(5)\n",
    "print(identity_matrix)\n"
   ]
  },
  {
   "cell_type": "code",
   "execution_count": null,
   "id": "d2d6f4dc-86f4-4bb5-b46d-46ce36c1a87f",
   "metadata": {},
   "outputs": [],
   "source": []
  }
 ],
 "metadata": {
  "kernelspec": {
   "display_name": "Python 3 (ipykernel)",
   "language": "python",
   "name": "python3"
  },
  "language_info": {
   "codemirror_mode": {
    "name": "ipython",
    "version": 3
   },
   "file_extension": ".py",
   "mimetype": "text/x-python",
   "name": "python",
   "nbconvert_exporter": "python",
   "pygments_lexer": "ipython3",
   "version": "3.10.8"
  }
 },
 "nbformat": 4,
 "nbformat_minor": 5
}
