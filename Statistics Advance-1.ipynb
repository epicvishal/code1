{
 "cells": [
  {
   "cell_type": "markdown",
   "id": "ddd49516-1ff3-44c4-b99c-1db2fa8ebbd5",
   "metadata": {},
   "source": [
    "Q1. What is the Probability density function?"
   ]
  },
  {
   "cell_type": "code",
   "execution_count": 1,
   "id": "5854030b-a5fc-4ec9-9f0b-84909b59f879",
   "metadata": {},
   "outputs": [],
   "source": [
    "#The Probability Density Function (PDF) is a function that describes the likelihood of a random variable taking on a certain value within a given range. \n",
    "#It is used to characterize the probability distribution of a continuous random variable.\n",
    "#The PDF represents the relative likelihood of different outcomes occurring for a continuous random variable.\n",
    "#It is typically denoted as f(x) or p(x), where x is the random variable.\n",
    "#The PDF is non-negative for all values of x and its integral over its entire range is equal to 1.\n",
    "#The PDF is used to calculate the probability of a random variable falling within a certain interval.\n",
    "#This is done by integrating the PDF over that interval. \n",
    "#In other words, the area under the PDF curve between two points represents the probability of the random variable falling within that range.\n",
    "#The PDF can be used to determine various properties of a random variable, such as the mean, variance, and higher moments. \n",
    "#It is an essential concept in probability theory and statistics, particularly when dealing with continuous random variables."
   ]
  },
  {
   "cell_type": "markdown",
   "id": "d2e4a41f-fe53-4079-b148-a2160811543f",
   "metadata": {},
   "source": [
    "Q2. What are the types of Probability distribution?"
   ]
  },
  {
   "cell_type": "code",
   "execution_count": 2,
   "id": "f0cba2af-e356-4bf0-9b6e-fa3d8f1ff0c7",
   "metadata": {},
   "outputs": [],
   "source": [
    "#There are several types of probability distributions, which are used to model different types of random variables.\n",
    "#Some of the most common types of probability distributions include:\n",
    "\n",
    "#1. Uniform Distribution: In a uniform distribution, all outcomes have equal probability. \n",
    "#This distribution is often used when there is no prior information about the likelihood of different outcomes.\n",
    "\n",
    "#2. Normal Distribution: The normal distribution, also known as the Gaussian distribution, is a bell-shaped distribution that is symmetric around its mean.\n",
    "#Many real-world phenomena can be approximated by a normal distribution, and it is widely used in statistics and probability theory.\n",
    "\n",
    "#3. Exponential Distribution: The exponential distribution is commonly used to model the time between events in a Poisson process. \n",
    "#It has a decreasing probability density function and is often used to model waiting times or lifetimes.\n",
    "\n",
    "#4. Binomial Distribution: The binomial distribution is used to model the number of successes in a fixed number of independent Bernoulli trials, \n",
    "#where each trial has a constant probability of success. It is commonly used in situations where there are two possible outcomes (success or failure) for each trial.\n",
    "\n",
    "#5. Poisson Distribution: The Poisson distribution is used to model the number of events that occur in a fixed interval of time or space,\n",
    "#given that these events occur with a constant rate and independently of the time since the last event. \n",
    "#It is often used to model rare events or count data.\n",
    "\n",
    "#6. Gamma Distribution: The gamma distribution is a family of continuous probability distributions that generalize the exponential distribution. \n",
    "#It is often used to model waiting times or durations.\n",
    "\n",
    "#7. Chi-Square Distribution: The chi-square distribution is used in hypothesis testing and confidence interval estimation for the variance of a normally distributed population.\n",
    "\n",
    "#8. Student's t-Distribution: The t-distribution is used in hypothesis testing and confidence interval estimation when the sample size is small and the population standard deviation is unknown."
   ]
  },
  {
   "cell_type": "markdown",
   "id": "35d216cb-da92-4a7c-8f76-6edfd3f8f002",
   "metadata": {},
   "source": [
    "Q3. Write a Python function to calculate the probability density function of a normal distribution with\n",
    "given mean and standard deviation at a given point.\n",
    "\n"
   ]
  },
  {
   "cell_type": "code",
   "execution_count": 3,
   "id": "84466c51-1641-4854-b866-78cdcf2817cf",
   "metadata": {},
   "outputs": [],
   "source": [
    "import math \n",
    "\n",
    "def normal_pdf(x,mean,std_dev):\n",
    "    coefficient = 1/(std_dev * math.sqrt(2*math.pi))\n",
    "    exponent = - ((x- mean)**2)/(2 * std_dev **2)\n",
    "    pdf=coefficient * math.exp(exponent)\n",
    "    return pdf"
   ]
  },
  {
   "cell_type": "code",
   "execution_count": 6,
   "id": "a4a4ac93-901f-4c2a-a12c-07d2706ebf75",
   "metadata": {},
   "outputs": [
    {
     "name": "stdout",
     "output_type": "stream",
     "text": [
      "0.3520653267642995\n"
     ]
    }
   ],
   "source": [
    "mean = 1\n",
    "std_dev = 1\n",
    "x = 1.5\n",
    "\n",
    "pdf_value= normal_pdf(x,mean,std_dev)\n",
    "print(pdf_value)"
   ]
  },
  {
   "cell_type": "markdown",
   "id": "0986b0c3-c794-4a09-89f4-1fd9c9446981",
   "metadata": {},
   "source": [
    "Q4. What are the properties of Binomial distribution? Give two examples of events where binomial\n",
    "distribution can be applied."
   ]
  },
  {
   "cell_type": "code",
   "execution_count": 7,
   "id": "ffc939bf-9525-4b89-83ca-6290e75e695d",
   "metadata": {},
   "outputs": [],
   "source": [
    "#The binomial distribution is a discrete probability distribution that describes the number of successes in a fixed number of independent Bernoulli trials, \n",
    "#where each trial has the same probability of success. The properties of the binomial distribution are as follows:\n",
    "\n",
    "#1. Fixed number of trials: The binomial distribution is defined for a fixed number of trials, denoted by \"n\".\n",
    "\n",
    "#2. Independent trials: Each trial must be independent of the others, meaning the outcome of one trial does not affect the outcome of any other trial.\n",
    "\n",
    "#3. Two possible outcomes: Each trial has two possible outcomes, often referred to as success (S) and failure (F).\n",
    "\n",
    "#4. Constant probability: The probability of success (denoted by \"p\") remains constant for each trial.\n",
    "\n",
    "#5. Discrete distribution: The binomial distribution is a discrete distribution, meaning it describes the probability of obtaining a specific number of successes in a fixed number of trials.\n",
    "\n",
    "#Two examples of events where the binomial distribution can be applied are:\n",
    "\n",
    "#1. Coin flipping: Suppose you flip a fair coin 10 times and want to know the probability of getting exactly 5 heads. \n",
    "#This can be modeled using a binomial distribution, where each flip is an independent trial with two possible outcomes (heads or tails) and a constant probability of success (0.5 for a fair coin).\n",
    "\n",
    "#2. Election outcomes: In a political election, \n",
    "#you want to determine the probability of a candidate winning a certain number of votes in a district with a fixed number of voters.\n",
    "#Assuming each voter's decision is independent and has a constant probability of voting for the candidate, \n",
    "#this scenario can be modeled using a binomial distribution. \n",
    "#The number of successes would represent the number of votes the candidate receives."
   ]
  },
  {
   "cell_type": "markdown",
   "id": "f0b36d15-c1df-427c-9b2b-72908f33b729",
   "metadata": {},
   "source": [
    "Q5. Generate a random sample of size 1000 from a binomial distribution with probability of success 0.4\n",
    "and plot a histogram of the results using matplotlib."
   ]
  },
  {
   "cell_type": "code",
   "execution_count": 11,
   "id": "353ed5e3-b5cc-4c36-81d3-02abd54003f9",
   "metadata": {},
   "outputs": [
    {
     "data": {
      "image/png": "[encoded data removed]",
      "text/plain": [
       "<Figure size 640x480 with 1 Axes>"
      ]
     },
     "metadata": {},
     "output_type": "display_data"
    }
   ],
   "source": [
    "import numpy as np\n",
    "import matplotlib.pyplot as plt\n",
    "\n",
    "sample_size = 1000\n",
    "p = 0.4\n",
    "sample = np.random.binomial(1,p,sample_size)\n",
    "\n",
    "plt.hist(sample,bins=2,edgecolor=\"black\")\n",
    "plt.xlabel(\"Number of successes\")\n",
    "plt.ylabel(\"Frequency\")\n",
    "plt.title(\"Histogram of binomial Disttribution\")\n",
    "plt.xticks([0,1])\n",
    "plt.show()"
   ]
  },
  {
   "cell_type": "markdown",
   "id": "bd973538-c7cb-4af8-abc0-fc8b9f901e8b",
   "metadata": {},
   "source": [
    "Q6. Write a Python function to calculate the cumulative distribution function of a Poisson distribution\n",
    "with given mean at a given point.\n",
    "\n"
   ]
  },
  {
   "cell_type": "code",
   "execution_count": 13,
   "id": "3421a7d4-7a52-4b79-96fc-af17d764f2e0",
   "metadata": {},
   "outputs": [],
   "source": [
    "from scipy.stats import poisson\n",
    "\n",
    "def poisson_cdf(mean,point):\n",
    "    cdf = poisson.cdf(point,mean)\n",
    "    return cdf"
   ]
  },
  {
   "cell_type": "code",
   "execution_count": 14,
   "id": "350ebe44-bcdb-4a15-b2ca-5f89a08dc7a1",
   "metadata": {},
   "outputs": [
    {
     "name": "stdout",
     "output_type": "stream",
     "text": [
      "0.020341029416928398\n"
     ]
    }
   ],
   "source": [
    "mean=12\n",
    "point=5\n",
    "\n",
    "cu=poisson_cdf(mean,point)\n",
    "print(cu)"
   ]
  },
  {
   "cell_type": "markdown",
   "id": "38aef6a1-25b2-4b8d-80aa-8452a16d853f",
   "metadata": {},
   "source": [
    "Q7. How Binomial distribution different from Poisson distribution?"
   ]
  },
  {
   "cell_type": "code",
   "execution_count": 16,
   "id": "b3d11f39-8790-45c5-9ffc-422701188204",
   "metadata": {},
   "outputs": [],
   "source": [
    "#The main difference between a binomial distribution and a Poisson distribution lies in the nature of the events they model.\n",
    "\n",
    "#1. Definition:\n",
    "   #- Binomial Distribution: It models the number of successes in a fixed number of independent Bernoulli trials, where each trial has a constant probability of success.\n",
    "   #- Poisson Distribution: It models the number of events that occur in a fixed interval of time or space, where the events occur with a constant average rate.\n",
    "\n",
    "#2. Parameters:\n",
    "   #- Binomial Distribution: It is characterized by two parameters: the number of trials (n) and the probability of success in each trial (p).\n",
    "   #- Poisson Distribution: It is characterized by a single parameter, which is the average rate or intensity of events (λ).\n",
    "\n",
    "#3. Nature of Events:\n",
    "   #- Binomial Distribution: It is used when the events are discrete and mutually exclusive, such as flipping a coin, rolling a die, or counting the number of successes in a fixed number of trials.\n",
    "   #- Poisson Distribution: It is used when the events are discrete but can occur at any point in time or space, such as the number of phone calls received in an hour, the number of accidents in a day, or the number of emails received in a minute.\n",
    "\n",
    "#4. Assumptions:\n",
    "   #- Binomial Distribution: It assumes that each trial is independent and has the same probability of success.\n",
    "   #- Poisson Distribution: It assumes that the events occur randomly and independently of each other, and the average rate remains constant over time or space.\n",
    "\n",
    "#5. Shape:\n",
    "   #- Binomial Distribution: It has a discrete probability mass function (PMF) that represents the probabilities of different numbers of successes.\n",
    "   #- Poisson Distribution: It also has a discrete PMF that represents the probabilities of different numbers of events."
   ]
  },
  {
   "cell_type": "markdown",
   "id": "c242756e-7d30-47d1-8ea1-578f173a16b0",
   "metadata": {},
   "source": [
    "Q8. Generate a random sample of size 1000 from a Poisson distribution with mean 5 and calculate the\n",
    "sample mean and variance."
   ]
  },
  {
   "cell_type": "code",
   "execution_count": 19,
   "id": "93062774-addb-4ca0-92c8-0e5b51e0d0de",
   "metadata": {},
   "outputs": [
    {
     "name": "stdout",
     "output_type": "stream",
     "text": [
      "sample mean : 5.131\n",
      "sample_variance : 5.073839\n"
     ]
    }
   ],
   "source": [
    "import numpy as np\n",
    "\n",
    "mean = 5\n",
    "\n",
    "sample= np.random.poisson(mean,size=1000)\n",
    "\n",
    "sample_mean = np.mean(sample)\n",
    "sample_variance = np.var(sample)\n",
    "\n",
    "print(\"sample mean :\", sample_mean)\n",
    "print(\"sample_variance :\", sample_variance)"
   ]
  },
  {
   "cell_type": "markdown",
   "id": "6d1091ae-13bc-45dd-b871-35c7b7b7703a",
   "metadata": {},
   "source": [
    "Q9. How mean and variance are related in Binomial distribution and Poisson distribution?"
   ]
  },
  {
   "cell_type": "code",
   "execution_count": 21,
   "id": "619b31f1-a0b6-4d7f-813c-c5da8214bda6",
   "metadata": {},
   "outputs": [],
   "source": [
    "#In both the binomial distribution and the Poisson distribution, the mean and variance are related, but in different ways.\n",
    "\n",
    "#In the binomial distribution, the mean (μ) is equal to the product of the number of trials (n) and the probability of success in each trial (p). The variance (σ^2) is equal to the product of n, p, and (1-p). Mathematically, this relationship can be expressed as:\n",
    "\n",
    "#μ = n * p\n",
    "#σ^2 = n * p * (1-p)\n",
    "\n",
    "#In other words, as the number of trials or the probability of success changes, both the mean and variance of the binomial distribution change accordingly. When the probability of success is high (close to 1) or low (close to 0), the variance tends to be smaller compared to the mean.\n",
    "\n",
    "#On the other hand, in the Poisson distribution, the mean (μ) is equal to both the variance (σ^2). This means that in a Poisson distribution, the mean and variance are always equal. Mathematically, this relationship can be expressed as:\n",
    "\n",
    "#μ = σ^2\n",
    "\n",
    "#In the Poisson distribution, the mean represents the average rate or intensity of an event occurring in a given time or space. The variance represents the spread or variability around this average rate. Since the mean and variance are equal in a Poisson distribution, the spread of values around the mean is uniform."
   ]
  },
  {
   "cell_type": "markdown",
   "id": "5bd0f503-319d-4789-adbf-7731a112d650",
   "metadata": {},
   "source": [
    "Q10. In normal distribution with respect to mean position, where does the least frequent data appear?\n"
   ]
  },
  {
   "cell_type": "code",
   "execution_count": null,
   "id": "d39cb882-af68-49c0-9ac9-301177a5fe8c",
   "metadata": {},
   "outputs": [],
   "source": []
  }
 ],
 "metadata": {
  "kernelspec": {
   "display_name": "Python 3 (ipykernel)",
   "language": "python",
   "name": "python3"
  },
  "language_info": {
   "codemirror_mode": {
    "name": "ipython",
    "version": 3
   },
   "file_extension": ".py",
   "mimetype": "text/x-python",
   "name": "python",
   "nbconvert_exporter": "python",
   "pygments_lexer": "ipython3",
   "version": "3.10.8"
  }
 },
 "nbformat": 4,
 "nbformat_minor": 5
}
