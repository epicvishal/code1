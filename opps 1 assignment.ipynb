{
 "cells": [
  {
   "cell_type": "markdown",
   "metadata": {},
   "source": [
    "Q1. Explain Class and Object with respect to Object-Oriented Programming. Give a suitable example"
   ]
  },
  {
   "cell_type": "code",
   "execution_count": 13,
   "metadata": {},
   "outputs": [],
   "source": [
    "#Class is blue print for  crrating an object \n",
    "# and where as object is a specific instance  of a class\n",
    "\n",
    "\n",
    "# example\n",
    "# here car is an class it contains the blue print of car\n",
    "class car:\n",
    "    \n",
    "    def __init__(self,name,model,avg):\n",
    "        self.name=name\n",
    "        self.model=model\n",
    "        self.avg=avg\n",
    "\n",
    "\n",
    "    def car_details(self):\n",
    "        return self.name,self.model,self.avg    \n"
   ]
  },
  {
   "cell_type": "code",
   "execution_count": 14,
   "metadata": {},
   "outputs": [],
   "source": [
    "vehicle=car(\"BMW\",\"S12\",16)\n",
    "# now vehicle is an object because it is a specific."
   ]
  },
  {
   "cell_type": "code",
   "execution_count": 16,
   "metadata": {},
   "outputs": [
    {
     "data": {
      "text/plain": [
       "('BMW', 'S12', 16)"
      ]
     },
     "execution_count": 16,
     "metadata": {},
     "output_type": "execute_result"
    }
   ],
   "source": [
    "vehicle.car_details()"
   ]
  },
  {
   "cell_type": "markdown",
   "metadata": {},
   "source": [
    "Q2. Name the four pillars of OOPs\n"
   ]
  },
  {
   "cell_type": "code",
   "execution_count": 17,
   "metadata": {},
   "outputs": [],
   "source": [
    "# four pillars of oops are \n",
    "# 1. inheritance\n",
    "# 2. Encapuslation\n",
    "# 3. Abstract\n",
    "# 4. Polymorphism"
   ]
  },
  {
   "cell_type": "markdown",
   "metadata": {},
   "source": [
    "Q3. Explain why the __init__() function is used. Give a suitable example"
   ]
  },
  {
   "cell_type": "code",
   "execution_count": 20,
   "metadata": {},
   "outputs": [],
   "source": [
    "# init() function is used take the information from the user and then assign them to the given variable\n",
    "\n",
    "# example\n",
    "\n",
    "class student:\n",
    "\n",
    "    def __init__(self,name,roll_no,course):\n",
    "        self.name=name\n",
    "        self.roll_no=roll_no\n",
    "        self.course=course\n",
    "\n",
    "\n",
    "    def student_details(self):\n",
    "        return self.name,self.roll_no,self.course"
   ]
  },
  {
   "cell_type": "code",
   "execution_count": 21,
   "metadata": {},
   "outputs": [],
   "source": [
    "stud=student(\"vishal\",23,\"data science\")"
   ]
  },
  {
   "cell_type": "code",
   "execution_count": 22,
   "metadata": {},
   "outputs": [
    {
     "data": {
      "text/plain": [
       "('vishal', 23, 'data science')"
      ]
     },
     "execution_count": 22,
     "metadata": {},
     "output_type": "execute_result"
    }
   ],
   "source": [
    "stud.student_details()"
   ]
  },
  {
   "cell_type": "markdown",
   "metadata": {},
   "source": [
    "Q4. Why self is used in OOPs?"
   ]
  },
  {
   "cell_type": "code",
   "execution_count": 24,
   "metadata": {},
   "outputs": [],
   "source": [
    "# self is used to refer to the current object instance\n",
    "# we can also use another keyword in exchange of self it is not neccessary to use self "
   ]
  },
  {
   "cell_type": "markdown",
   "metadata": {},
   "source": [
    "Q5. What is inheritance? Give an example for each type of inheritance"
   ]
  },
  {
   "cell_type": "code",
   "execution_count": 34,
   "metadata": {},
   "outputs": [],
   "source": [
    "# when we call the other class in different fuction it is know as inheritance.\n",
    "# 1. single inheritance \n",
    "# example\n",
    "\n",
    "class parents:\n",
    "\n",
    "    def parents1(self):\n",
    "\n",
    "        print(\"he is our son\")\n",
    "\n",
    "\n",
    "\n",
    "class child(parents):\n",
    "\n",
    "    def __init__(self,child_name):\n",
    "        self.child_name=child_name\n",
    "        "
   ]
  },
  {
   "cell_type": "code",
   "execution_count": 37,
   "metadata": {},
   "outputs": [
    {
     "name": "stdout",
     "output_type": "stream",
     "text": [
      "he is our son\n"
     ]
    }
   ],
   "source": [
    "kid=child(\"rohan\")\n",
    "kid.parents1()"
   ]
  },
  {
   "cell_type": "code",
   "execution_count": 105,
   "metadata": {},
   "outputs": [],
   "source": [
    "# 2. multiple inheritance\n",
    "# expample\n",
    "\n",
    "\n",
    "class test:\n",
    "    def class_test1(self):\n",
    "        print(\"this is class test1\")\n",
    "\n",
    "class test2:\n",
    "    def class_test2(self):\n",
    "        print(\"this is class test2\")\n",
    "\n",
    "\n",
    "class test3(test,test2):\n",
    "    pass                \n",
    "\n",
    "\n",
    "\n",
    "\n"
   ]
  },
  {
   "cell_type": "code",
   "execution_count": 111,
   "metadata": {},
   "outputs": [],
   "source": [
    "pw=test3()"
   ]
  },
  {
   "cell_type": "code",
   "execution_count": 112,
   "metadata": {},
   "outputs": [
    {
     "name": "stdout",
     "output_type": "stream",
     "text": [
      "this is class test1\n"
     ]
    }
   ],
   "source": [
    "pw.class_test1()"
   ]
  },
  {
   "cell_type": "code",
   "execution_count": 113,
   "metadata": {},
   "outputs": [
    {
     "name": "stdout",
     "output_type": "stream",
     "text": [
      "this is class test2\n"
     ]
    }
   ],
   "source": [
    "pw.class_test2()"
   ]
  },
  {
   "cell_type": "code",
   "execution_count": 114,
   "metadata": {},
   "outputs": [],
   "source": [
    "# 3 Hierarchial interface:\n",
    "\n",
    "#Example\n",
    "\n",
    "class parent:\n",
    "\n",
    "    def parent1(self):\n",
    "        return \"I am your parent\"\n",
    "    \n",
    "\n",
    "class child1(parent):\n",
    "    def kid(self):\n",
    "        return \"I am first child\"\n",
    "\n",
    "\n",
    "class child2(parent):\n",
    "    def kid(self):\n",
    "        return \"I am second child\"        "
   ]
  },
  {
   "cell_type": "code",
   "execution_count": 115,
   "metadata": {},
   "outputs": [],
   "source": [
    "rohan=child1()"
   ]
  },
  {
   "cell_type": "code",
   "execution_count": 122,
   "metadata": {},
   "outputs": [
    {
     "data": {
      "text/plain": [
       "'I am first child'"
      ]
     },
     "execution_count": 122,
     "metadata": {},
     "output_type": "execute_result"
    }
   ],
   "source": [
    "rohan.kid()"
   ]
  },
  {
   "cell_type": "code",
   "execution_count": 123,
   "metadata": {},
   "outputs": [
    {
     "data": {
      "text/plain": [
       "'I am your parent'"
      ]
     },
     "execution_count": 123,
     "metadata": {},
     "output_type": "execute_result"
    }
   ],
   "source": [
    "rohan.parent1()"
   ]
  },
  {
   "cell_type": "code",
   "execution_count": 124,
   "metadata": {},
   "outputs": [],
   "source": [
    "shivam=child2()"
   ]
  },
  {
   "cell_type": "code",
   "execution_count": 126,
   "metadata": {},
   "outputs": [
    {
     "data": {
      "text/plain": [
       "'I am second child'"
      ]
     },
     "execution_count": 126,
     "metadata": {},
     "output_type": "execute_result"
    }
   ],
   "source": [
    "shivam.kid()"
   ]
  },
  {
   "cell_type": "code",
   "execution_count": 127,
   "metadata": {},
   "outputs": [
    {
     "data": {
      "text/plain": [
       "'I am your parent'"
      ]
     },
     "execution_count": 127,
     "metadata": {},
     "output_type": "execute_result"
    }
   ],
   "source": [
    "shivam.parent1()"
   ]
  },
  {
   "cell_type": "code",
   "execution_count": 128,
   "metadata": {},
   "outputs": [],
   "source": [
    "# as we can see above both class can call same class in it"
   ]
  },
  {
   "cell_type": "code",
   "execution_count": 130,
   "metadata": {},
   "outputs": [],
   "source": [
    "# 4. Multilevel inheritance\n",
    "\n",
    "#Example\n",
    "\n",
    "class pwskills:\n",
    "    def pwskill(self):\n",
    "        return \"pwskills course\"\n",
    "    \n",
    "\n",
    "class domain(pwskills):\n",
    "    def course(self):\n",
    "        return \"course is data science masters\"\n",
    "\n",
    "\n",
    "class time_taken(domain):\n",
    "    def duration(self):\n",
    "        return \"it takes 9 month to complete\"        "
   ]
  },
  {
   "cell_type": "code",
   "execution_count": 131,
   "metadata": {},
   "outputs": [],
   "source": [
    "amit=time_taken()"
   ]
  },
  {
   "cell_type": "code",
   "execution_count": 133,
   "metadata": {},
   "outputs": [
    {
     "data": {
      "text/plain": [
       "'pwskills course'"
      ]
     },
     "execution_count": 133,
     "metadata": {},
     "output_type": "execute_result"
    }
   ],
   "source": [
    "amit.pwskill()"
   ]
  },
  {
   "cell_type": "code",
   "execution_count": 135,
   "metadata": {},
   "outputs": [
    {
     "data": {
      "text/plain": [
       "'course is data science masters'"
      ]
     },
     "execution_count": 135,
     "metadata": {},
     "output_type": "execute_result"
    }
   ],
   "source": [
    "amit.course()"
   ]
  },
  {
   "cell_type": "code",
   "execution_count": 136,
   "metadata": {},
   "outputs": [
    {
     "data": {
      "text/plain": [
       "'it takes 9 month to complete'"
      ]
     },
     "execution_count": 136,
     "metadata": {},
     "output_type": "execute_result"
    }
   ],
   "source": [
    "amit.duration()"
   ]
  },
  {
   "cell_type": "code",
   "execution_count": null,
   "metadata": {},
   "outputs": [],
   "source": []
  }
 ],
 "metadata": {
  "kernelspec": {
   "display_name": "Python 3",
   "language": "python",
   "name": "python3"
  },
  "language_info": {
   "codemirror_mode": {
    "name": "ipython",
    "version": 3
   },
   "file_extension": ".py",
   "mimetype": "text/x-python",
   "name": "python",
   "nbconvert_exporter": "python",
   "pygments_lexer": "ipython3",
   "version": "3.11.5"
  },
  "orig_nbformat": 4
 },
 "nbformat": 4,
 "nbformat_minor": 2
}
